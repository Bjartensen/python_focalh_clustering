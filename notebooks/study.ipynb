{
 "cells": [
  {
   "cell_type": "code",
   "execution_count": 1,
   "id": "f8dab460-e764-41c0-b38f-c9aa57491211",
   "metadata": {},
   "outputs": [],
   "source": [
    "import optuna\n",
    "import pickle\n",
    "import torch\n",
    "import os\n",
    "import sys\n",
    "import ROOT\n",
    "import numpy as np\n",
    "import matplotlib.pyplot as plt\n",
    "import yaml\n",
    "import pandas as pd\n",
    "from matplotlib.ticker import MultipleLocator\n",
    "\n",
    "# Add the root folder to Python path\n",
    "root_folder = os.path.abspath(os.path.join(os.getcwd(), \"..\"))\n",
    "if root_folder not in sys.path:\n",
    "    sys.path.append(root_folder)\n",
    "\n",
    "import lib.unet_nn as UNet\n",
    "import lib.modified_aggregation as MA\n",
    "from lib.modified_aggregation_clusterer import ModifiedAggregationClusterer\n",
    "from lib.unet_clusterer import UNetClusterer\n",
    "from lib.focal import FocalH\n",
    "from lib.base_nn import Data\n",
    "from lib.metrics import count_clusters, count_labels, compute_score\n",
    "\n",
    "os.chdir('/home/bjartur/workspace/python_focalh_clustering/') # Laptop and Desktop"
   ]
  },
  {
   "cell_type": "markdown",
   "id": "37b27269-238d-4583-b6c3-a9fa88477f7e",
   "metadata": {},
   "source": [
    "# Study overview"
   ]
  },
  {
   "cell_type": "code",
   "execution_count": 105,
   "id": "fe4b4917-0d27-441c-b2b5-f5cb13e546f3",
   "metadata": {},
   "outputs": [
    {
     "name": "stdout",
     "output_type": "stream",
     "text": [
      "bundle: \n",
      "{'method': {'name': 'ma', 'parameters': [{'name': 'seed', 'type': 'float', 'min': 0, 'max': 4096}, {'name': 'agg', 'type': 'float', 'min': 0, 'max': 4096}]}, 'study': <optuna.study.study.Study object at 0x7392d3f2d710>, 'data': {'name': 'small test set', 'files': [{'path': 'data/train/TRAIN_E150_P3_N100.root', 'particles': 3, 'saturation': 4096, 'meta': {'source': 'mc', 'detector': 'prototype2'}}, {'path': 'data/train/TRAIN_E350_P1_N100.root', 'particles': 1, 'saturation': 4096, 'meta': {'source': 'mc', 'detector': 'prototype2'}}, {'path': 'data/train/TRAIN_E60_P1_N100.root', 'particles': 1, 'saturation': 4096, 'meta': {'source': 'mc', 'detector': 'prototype2'}}]}, 'its': 10, 'timestamps': {'t_optimize_start': 1757236399.2037368, 't_data_loaded': 1757236399.399521, 't_study_finished': 1757236401.3330517, 't_optimize_end': 1757236401.3331945}}\n",
      "\n",
      "study: {'seed': 1859.7543805795672, 'agg': 761.7806117481223}\n",
      "{'t_optimize_start': 1757236399.2037368, 't_data_loaded': 1757236399.399521, 't_study_finished': 1757236401.3330517, 't_optimize_end': 1757236401.3331945}\n"
     ]
    }
   ],
   "source": [
    "study_file = \"studies/study_ma_07092025_111321.pkl\"\n",
    "with open(study_file, \"rb\") as f:\n",
    "    loaded_bundle = pickle.load(f)\n",
    "print(f\"bundle: \\n{loaded_bundle}\")\n",
    "print()\n",
    "print(f\"study: {loaded_bundle['study'].best_params}\")\n",
    "print(loaded_bundle[\"timestamps\"])"
   ]
  },
  {
   "cell_type": "code",
   "execution_count": 106,
   "id": "81bfb1b2-1863-48ec-846e-0ab5902fae8b",
   "metadata": {},
   "outputs": [
    {
     "data": {
      "text/plain": [
       "2.129457712173462"
      ]
     },
     "execution_count": 106,
     "metadata": {},
     "output_type": "execute_result"
    }
   ],
   "source": [
    "loaded_bundle[\"timestamps\"][\"t_optimize_end\"] - loaded_bundle[\"timestamps\"][\"t_optimize_start\"]"
   ]
  },
  {
   "cell_type": "code",
   "execution_count": 3,
   "id": "9db7a295-2787-43cb-a950-0bf9d8c4a79d",
   "metadata": {},
   "outputs": [
    {
     "name": "stdout",
     "output_type": "stream",
     "text": [
      "par1: adsf\n",
      "par2: bla\n",
      "par3: None\n"
     ]
    }
   ],
   "source": [
    "def lst_test(par1=None, par2=None, par3=None):\n",
    "    print(f\"par1: {par1}\")\n",
    "    print(f\"par2: {par2}\")\n",
    "    print(f\"par3: {par3}\")\n",
    "lst = [\"adsf\", \"bla\"]\n",
    "lst_test(*lst)"
   ]
  },
  {
   "cell_type": "markdown",
   "id": "481f8775-e25a-4ded-b1d4-2062811c495d",
   "metadata": {},
   "source": [
    "# Evaluate studies"
   ]
  },
  {
   "cell_type": "code",
   "execution_count": 4,
   "id": "dadc6257-9cb4-4a73-b22a-e190bb2c50a7",
   "metadata": {},
   "outputs": [],
   "source": [
    "ma_study_file = \"studies/best/study_ma_24082025_133543.pkl\"\n",
    "\n",
    "cnn_study_file = \"studies/study_cnn_24082025_132142.pkl\"\n",
    "cnn_model_file = \"studies/model_cnn_24082025_132142.pt\""
   ]
  },
  {
   "cell_type": "code",
   "execution_count": 6,
   "id": "27cd5384-ecfe-4f5c-a2e4-fe384ac4811c",
   "metadata": {},
   "outputs": [
    {
     "data": {
      "text/plain": [
       "{'method': 'ma',\n",
       " 'study': <optuna.study.study.Study at 0x70cb46970b10>,\n",
       " 'config': {'analysis': {'type': 'standard',\n",
       "   'files': [{'path': 'data/E150_P5_N1000.root',\n",
       "     'particles': 5,\n",
       "     'saturation': 4096,\n",
       "     'meta': {'source': 'mc', 'detector': 'prototype2'}},\n",
       "    {'path': 'data/E150_P3_N1000.root',\n",
       "     'particles': 3,\n",
       "     'saturation': 4096,\n",
       "     'meta': {'source': 'mc', 'detector': 'prototype2'}}]}},\n",
       " 'its': 100,\n",
       " 'exec': <lib.modified_aggregation.ModifiedAggregation at 0x70cb488ff210>}"
      ]
     },
     "execution_count": 6,
     "metadata": {},
     "output_type": "execute_result"
    }
   ],
   "source": [
    "with open(ma_study_file, \"rb\") as f:\n",
    "    loaded_bundle = pickle.load(f)\n",
    "ma_study = loaded_bundle\n",
    "ma = MA.ModifiedAggregation(ma_study[\"study\"].best_params[\"seed\"], ma_study[\"study\"].best_params[\"agg\"])\n",
    "#ma = MA.ModifiedAggregation(1400, 0)\n",
    "ma_study[\"exec\"] = ma\n",
    "ma_study[\"study\"].best_params\n",
    "ma_study"
   ]
  },
  {
   "cell_type": "code",
   "execution_count": 6,
   "id": "d5a6d396-14bb-4987-96ab-2708716a3ef4",
   "metadata": {},
   "outputs": [
    {
     "data": {
      "text/plain": [
       "{'seed': 0.5,\n",
       " 'agg': 0.0,\n",
       " 'lr': 0.5625913914829032,\n",
       " 'momentum': 0.841114016126484,\n",
       " 'epochs': 92}"
      ]
     },
     "execution_count": 6,
     "metadata": {},
     "output_type": "execute_result"
    }
   ],
   "source": [
    "with open(cnn_study_file, \"rb\") as f:\n",
    "    loaded_bundle = pickle.load(f)\n",
    "u = torch.load(cnn_model_file, weights_only=False)\n",
    "cnn_study = loaded_bundle\n",
    "cnn_study[\"exec\"] = u\n",
    "cnn_study[\"study\"].best_params"
   ]
  },
  {
   "cell_type": "code",
   "execution_count": 14,
   "id": "5efb0ddb-f5b5-4f38-bb09-55fdeee85228",
   "metadata": {},
   "outputs": [
    {
     "name": "stdout",
     "output_type": "stream",
     "text": [
      "12209.0\n",
      "4095.0\n"
     ]
    },
    {
     "data": {
      "image/png": "[encoded data removed]",
      "text/plain": [
       "<Figure size 1200x400 with 3 Axes>"
      ]
     },
     "metadata": {},
     "output_type": "display_data"
    },
    {
     "data": {
      "image/png": "[encoded data removed]",
      "text/plain": [
       "<Figure size 800x400 with 2 Axes>"
      ]
     },
     "metadata": {},
     "output_type": "display_data"
    }
   ],
   "source": [
    "def cluster_event(tfile, entry, study):\n",
    "    \"\"\"\n",
    "    Just try clustering an event and view it.\n",
    "    \"\"\"\n",
    "#    study[\"exec\"]\n",
    "\n",
    "    SAT = 4096\n",
    "    tfile = ROOT.TFile(tfile, \"READ\")\n",
    "    ttree = tfile.Get(\"EventsTree\")\n",
    "    ttree.GetEntry(entry)\n",
    "\n",
    "    nplab = np.array(ttree.labels, dtype=np.int32)\n",
    "    npfrac = np.array(ttree.fractions, dtype=np.float32)\n",
    "    npvals = np.array(ttree.value, dtype=np.float32)\n",
    "    valmask = npvals > SAT\n",
    "    npvals[valmask] = SAT\n",
    "    particles = len(set(nplab))\n",
    "    \n",
    "    dataloader = Data()\n",
    "    npdlab = dataloader.get_major_labels(nplab, npfrac, particles)\n",
    "\n",
    "\n",
    "\n",
    "\n",
    "    if study[\"method\"] == \"ma\":\n",
    "        iadj = np.load(\"../p2_sim_adj_map2.npy\")\n",
    "        adj = np.load(\"../p2_adj.npy\")\n",
    "        fig, ax = plt.subplots(ncols=2, figsize=(8,4))        \n",
    "        foc = FocalH()\n",
    "        foc.heatmap(npvals[iadj], npdlab[iadj], ax[0], SAT)\n",
    "        clabels,_ = study[\"exec\"].run(adj, npvals[iadj])\n",
    "        foc.heatmap(npvals[iadj], clabels, ax[1], SAT)\n",
    "        ax[0].set_title(f\"Original. N particles: {count_labels(npdlab)}\")\n",
    "        ax[1].set_title(f\"Clustered. N clusters: {count_clusters(clabels)}\")\n",
    "\n",
    "        fig.savefig(study[\"method\"]+\"_P\"+str(particles)+\"_EV\"+str(entry))\n",
    "            \n",
    "    elif study[\"method\"] == \"cnn\":\n",
    "        iadj = np.load(\"../p2_sim_adj_map2.npy\")\n",
    "        adj = np.load(\"../p2_image_adj_21x21.npy\")\n",
    "        fig, ax = plt.subplots(ncols=3, figsize=(12,4))        \n",
    "        foc = FocalH()\n",
    "        foc.heatmap(npvals[iadj], npdlab[iadj], ax[0], SAT)\n",
    "        ret, coms, dlabels, mapping = dataloader.read_ttree_event(ttree, entry)\n",
    "        #target = dataloader.gaussian_class_activation_map(coms, 21, 21, 3)[0][0]\n",
    "\n",
    "        x = study[\"exec\"](ret)[0][0]\n",
    "        vals = x.flatten().detach().numpy()\n",
    "#        vals = vals / vals.max()\n",
    "        ax[1].imshow(x.detach().numpy())\n",
    "\n",
    "        seed = study[\"study\"].best_params[\"seed\"]\n",
    "        agg = study[\"study\"].best_params[\"agg\"]\n",
    "#        clusterizer = MA.ModifiedAggregation(seed,agg)\n",
    "        clusterizer = MA.ModifiedAggregation(0.2,0)\n",
    "        clabels,_ = clusterizer.run(adj,vals)\n",
    "\n",
    "        clabels = dataloader.invert_labels(clabels, mapping, vals, npdlab.shape[0])\n",
    "#        print(vals.max())\n",
    "        foc.heatmap(npvals[iadj], clabels.astype(np.int32), ax[2], SAT)\n",
    "        ax[0].set_title(f\"Original. N particles: {count_labels(npdlab)}\")\n",
    "        ax[1].set_title(f\"Smoothed showers\")\n",
    "        ax[2].set_title(f\"Clustered. N clusters: {count_clusters(clabels)}\")\n",
    "\n",
    "        fig.savefig(study[\"method\"]+\"_P\"+str(particles)+\"_EV\"+str(entry))\n",
    "\n",
    "        \n",
    "\n",
    "    \n",
    "    \n",
    "\n",
    "    \n",
    "filename = \"/home/bjartur/workspace/python_focalh_clustering/data/E300_P10_N1000.root\"\n",
    "entry = 400\n",
    "cluster_event(filename, entry, cnn_study)\n",
    "cluster_event(filename, entry, ma_study)"
   ]
  },
  {
   "cell_type": "markdown",
   "id": "40986f30-5afe-4724-96e4-dc811d38137d",
   "metadata": {},
   "source": [
    "# Analyse study"
   ]
  },
  {
   "cell_type": "markdown",
   "id": "607c56f6-d2f6-499a-9c31-2d1a6d9adf8c",
   "metadata": {},
   "source": [
    "## MA"
   ]
  },
  {
   "cell_type": "code",
   "execution_count": 8,
   "id": "f85d7f09-c16c-443f-ab1b-c761fc05acaf",
   "metadata": {},
   "outputs": [],
   "source": [
    "ma_study_file = \"studies/study_ma_29082025_095625.pkl\"\n",
    "with open(\"analysis/data.yaml\", \"r\") as file:\n",
    "    data_config = yaml.safe_load(file)\n",
    "with open(ma_study_file, \"rb\") as f:\n",
    "    loaded_bundle = pickle.load(f)\n",
    "ma_study = loaded_bundle\n",
    "ma_pars = ma_study[\"study\"].best_params\n",
    "ma_cluster = ModifiedAggregationClusterer()\n",
    "adj, values, labels = ma_cluster.data(data_config[\"eval_test\"])\n",
    "ma_tags = ma_cluster.cluster(ma_pars[\"seed\"], ma_pars[\"agg\"], adj, values)\n"
   ]
  },
  {
   "cell_type": "code",
   "execution_count": 9,
   "id": "d184140d-6704-49a3-9624-f0218532dc39",
   "metadata": {},
   "outputs": [],
   "source": [
    "score = compute_score(ma_tags, labels, values, \"average_energy\")\n",
    "count = compute_score(ma_tags, labels, values, \"count_labels\")\n",
    "idx = np.linspace(0,len(count)-1,len(count), dtype=np.int32)"
   ]
  },
  {
   "cell_type": "code",
   "execution_count": 16,
   "id": "11acf051-d0f5-49d8-b5f3-0dda19f2f9d2",
   "metadata": {},
   "outputs": [],
   "source": [
    "def plot_discrete(x,y):\n",
    "    unq = np.unique(x)\n",
    "    muy = np.zeros_like(unq)\n",
    "    mux = np.zeros_like(unq)\n",
    "    sigmay = np.zeros_like(unq)\n",
    "    sigmax = np.zeros_like(unq)\n",
    "    for i in range(len(unq)):\n",
    "        mask = x == unq[i]\n",
    "        muy[i] = y[mask].mean()\n",
    "        mux[i] = x[mask].mean()\n",
    "        sigmay[i] = y[mask].std()/np.sqrt(len(y[mask]))\n",
    "        sigmax[i] = x[mask].std()/np.sqrt(len(x[mask]))\n",
    "\n",
    "    plt.errorbar(mux,muy,sigmay,marker=\".\",linestyle=\"\")\n",
    "    plt.ylim(0,2)\n",
    "\n",
    "#plot_discrete(count, score)"
   ]
  },
  {
   "cell_type": "code",
   "execution_count": 11,
   "id": "a7364b52-714f-4197-916b-8e13a7f87f60",
   "metadata": {},
   "outputs": [],
   "source": [
    "count_mask = count == 4\n",
    "badscore = score[idx[count_mask]].argmax()\n",
    "badidx = idx[count_mask][badscore]"
   ]
  },
  {
   "cell_type": "code",
   "execution_count": 12,
   "id": "66ef2c84-d3d3-4e11-897b-c07a7ee03c8b",
   "metadata": {},
   "outputs": [
    {
     "data": {
      "text/plain": [
       "<Axes: >"
      ]
     },
     "execution_count": 12,
     "metadata": {},
     "output_type": "execute_result"
    },
    {
     "data": {
      "image/png": "[encoded data removed]",
      "text/plain": [
       "<Figure size 640x480 with 2 Axes>"
      ]
     },
     "metadata": {},
     "output_type": "display_data"
    }
   ],
   "source": [
    "SAT = 4095\n",
    "fig, ax = plt.subplots(ncols=2)\n",
    "foc = FocalH()\n",
    "foc.heatmap(values[badidx], labels[badidx], ax[0], SAT)\n",
    "foc.heatmap(values[badidx], ma_tags[badidx], ax[1], SAT)\n",
    "\n",
    "#ma_tags[1]"
   ]
  },
  {
   "cell_type": "markdown",
   "id": "c9d33481-70bd-4057-b636-77e06a7cd55e",
   "metadata": {},
   "source": [
    "## CNN"
   ]
  },
  {
   "cell_type": "code",
   "execution_count": 29,
   "id": "7e9812b4-bbb6-476c-8a33-3d348e0159a5",
   "metadata": {},
   "outputs": [
    {
     "data": {
      "text/plain": [
       "{'method': {'name': 'cnn',\n",
       "  'parameters': [{'name': 'seed',\n",
       "    'type': 'float',\n",
       "    'relative': True,\n",
       "    'min': 0.2,\n",
       "    'max': 0.2},\n",
       "   {'name': 'agg', 'type': 'float', 'relative': True, 'min': 0.0, 'max': 0.0},\n",
       "   {'name': 'lr', 'type': 'float', 'min': 0.001, 'max': 1},\n",
       "   {'name': 'momentum', 'type': 'float', 'min': 0.01, 'max': 1},\n",
       "   {'name': 'epochs', 'type': 'int', 'min': 50, 'max': 200}]},\n",
       " 'study': <optuna.study.study.Study at 0x74167d356a50>,\n",
       " 'data': {'name': 'small test set',\n",
       "  'files': [{'path': 'data/train/TRAIN_E350_P1_N100.root',\n",
       "    'particles': 1,\n",
       "    'saturation': 4096,\n",
       "    'meta': {'source': 'mc', 'detector': 'prototype2'}},\n",
       "   {'path': 'data/train/TRAIN_E150_P3_N100.root',\n",
       "    'particles': 3,\n",
       "    'saturation': 4096,\n",
       "    'meta': {'source': 'mc', 'detector': 'prototype2'}},\n",
       "   {'path': 'data/train/TRAIN_E60_P1_N100.root',\n",
       "    'particles': 1,\n",
       "    'saturation': 4096,\n",
       "    'meta': {'source': 'mc', 'detector': 'prototype2'}}]},\n",
       " 'its': 100,\n",
       " 'model_file': 'model_cnn_01092025_153611.pt'}"
      ]
     },
     "execution_count": 29,
     "metadata": {},
     "output_type": "execute_result"
    }
   ],
   "source": [
    "with open(\"studies/study_cnn_01092025_153611.pkl\", \"rb\") as f:\n",
    "    loaded_bundle2 = pickle.load(f)\n",
    "loaded_bundle2\n",
    "u2 = torch.load(cnn_model_file, weights_only=False)"
   ]
  },
  {
   "cell_type": "code",
   "execution_count": 2,
   "id": "5fc2554d-f46e-4c01-8f21-fd92fd4c1852",
   "metadata": {},
   "outputs": [],
   "source": [
    "#cnn_study_file = \"studies/study_cnn_24082025_132142.pkl\"\n",
    "#cnn_model_file = \"studies/model_cnn_24082025_132142.pt\"\n",
    "cnn_study_file = \"studies/study_cnn_01092025_153611.pkl\"\n",
    "\n",
    "with open(cnn_study_file, \"rb\") as f:\n",
    "    loaded_bundle = pickle.load(f)\n",
    "with open(\"analysis/data.yaml\", \"r\") as file:\n",
    "    data_config = yaml.safe_load(file)\n",
    "cnn_study = loaded_bundle\n",
    "u = torch.load(\"studies/\"+cnn_study[\"model_file\"], weights_only=False)\n",
    "cnn_study[\"exec\"] = u\n",
    "\n",
    "pars = cnn_study[\"study\"].best_params\n",
    "unet_cluster = UNetClusterer()\n",
    "events, targets, counts, mapping, dlabels, values, energy_list, adj = unet_cluster.data(data_config[\"eval_test\"])\n",
    "\n",
    "tags = unet_cluster.cluster(events, u, pars[\"seed\"], pars[\"agg\"], adj, dlabels, mapping)\n",
    "\n",
    "\n",
    "#tags = unet_cluster.cluster(events, u, 0.2, pars[\"agg\"], adj, dlabels, mapping)\n",
    "\n",
    "\n",
    "labels = dlabels.squeeze()\n",
    "values = values.squeeze()\n",
    "\n"
   ]
  },
  {
   "cell_type": "code",
   "execution_count": 3,
   "id": "1508421c-437e-4245-bbe9-c24dcc20b9c8",
   "metadata": {},
   "outputs": [
    {
     "name": "stdout",
     "output_type": "stream",
     "text": [
      "{'seed': 0.2, 'agg': 0.0, 'lr': 0.30884943833786427, 'momentum': 0.0525593791377537, 'epochs': 177}\n"
     ]
    }
   ],
   "source": [
    "print(pars)\n"
   ]
  },
  {
   "cell_type": "code",
   "execution_count": 5,
   "id": "45a4e7fc-575b-44c4-ad47-e608dd810389",
   "metadata": {},
   "outputs": [],
   "source": [
    "adj = np.load(\"p2_image_adj_21x21.npy\")\n",
    "iadj = np.load(\"p2_sim_adj_map2.npy\")\n"
   ]
  },
  {
   "cell_type": "code",
   "execution_count": 15,
   "id": "92b7b713-84e9-4988-96b7-846a737e68b1",
   "metadata": {},
   "outputs": [
    {
     "name": "stdout",
     "output_type": "stream",
     "text": [
      "tensor([ 1,  1,  5,  1,  1,  9,  1,  5,  1,  1,  4,  1,  1,  1,  1,  1,  1,  4,\n",
      "         4,  4,  1,  4,  4,  4,  4,  1,  1,  6,  1,  6,  1,  1,  1,  5,  6,  1,\n",
      "         1,  5,  5,  6,  1,  5,  5,  5,  6,  5,  5,  5,  5,  5,  6,  6, 10, 10,\n",
      "        10,  6,  6, 10, 10, 10,  6,  6, 10, 10, 10,  6,  6,  6, 10, 10,  6,  6,\n",
      "        10,  6,  6,  4,  4,  4,  4,  4,  4,  4,  4,  4,  4,  4,  4,  4,  4,  5,\n",
      "         7,  4,  8,  7,  7,  8,  8,  7,  5,  7,  5,  5,  5,  5,  5,  5,  6,  4,\n",
      "         7,  7,  7,  5,  5,  5,  9,  4,  7,  7,  7,  7,  7,  7,  9,  9,  9,  7,\n",
      "         7,  7,  7,  9,  9,  9,  7,  7,  7,  7,  9,  9,  9,  7,  7,  3,  7,  7,\n",
      "         9,  9,  7,  3,  3,  6,  6, 10,  6,  9,  7,  5, 10, 10, 10,  9,  3,  3,\n",
      "        10,  9,  3,  3,  3, 10, 10,  7,  7,  7, 10, 10,  8,  8,  8,  8,  9,  8,\n",
      "         8,  8,  8,  8,  8,  8,  8,  8,  8,  8,  8,  8,  8,  8,  8,  8,  8,  8,\n",
      "         8,  9,  9,  3,  3,  3,  7,  9,  7,  3,  3,  8,  3,  3,  3,  3,  8, 10,\n",
      "         3,  3,  3,  8,  3,  3,  3,  7,  3,  3,  4, 10,  4,  3,  9,  4,  7, 10,\n",
      "         9,  3,  3, 10, 10,  3,  3,  3,  1, 10,  7,  3,  3,  1, 10],\n",
      "       dtype=torch.int32)\n",
      "[0 0 2 8 8 2 2 2 8 8 2 2 2 2 4 2 2 2 2 2 2 2 2 2 2 8 4 3 3 3 8 8 4 4 3 4 4\n",
      " 4 4 3 2 4 4 4 3 2 4 4 4 3 3 3 3 3 3 3 3 3 7 3 3 3 3 3 3 3 3 3 3 3 3 3 3 3\n",
      " 3 2 2 2 2 2 2 2 2 2 2 2 2 2 2 2 1 1 1 2 2 1 1 1 1 1 0 0 0 3 3 3 3 0 0 0 0\n",
      " 3 0 0 2 2 5 6 5 5 0 2 5 6 6 6 5 5 5 5 6 6 6 5 5 5 5 5 6 6 5 5 5 5 5 5 5 5\n",
      " 5 3 3 3 3 3 3 3 3 3 3 3 3 3 0 3 5 5 5 0 0 5 5 5 0 0 1 1 1 1 1 1 1 1 1 1 1\n",
      " 1 1 1 1 1 1 1 1 1 1 0 0 0 1 1 5 5 5 5 1 5 5 5 5 1 0 0 5 5 1 0 0 0 5 1 1 1\n",
      " 1 0 5 5 0 0 0 5 0 0 0 0 5 0 0 0 0 0 0 0 0 0 0 0 0 0 0]\n"
     ]
    },
    {
     "data": {
      "image/png": "[encoded data removed]",
      "text/plain": [
       "<Figure size 640x480 with 2 Axes>"
      ]
     },
     "metadata": {},
     "output_type": "display_data"
    }
   ],
   "source": [
    "fig, ax = plt.subplots(ncols=2)\n",
    "foc = FocalH()\n",
    "idx = 1500\n",
    "SAT = 4095\n",
    "# Map values and labels with original sim data.\n",
    "foc.heatmap(values[idx][iadj], labels[idx][iadj], ax[0], SAT)\n",
    "\n",
    "# Map original values only. Tags are already mapped.\n",
    "#foc.heatmap(values[idx][iadj], tags[idx][iadj], ax[1], SAT)\n",
    "foc.heatmap(values[idx][iadj], tags[idx], ax[1], SAT)\n",
    "print(labels[idx][iadj])\n",
    "print(tags[idx])"
   ]
  },
  {
   "cell_type": "code",
   "execution_count": 14,
   "id": "b02ff7eb-3505-4288-82bb-3b200fec5ef2",
   "metadata": {},
   "outputs": [
    {
     "data": {
      "text/plain": [
       "<matplotlib.image.AxesImage at 0x74167dfe8150>"
      ]
     },
     "execution_count": 14,
     "metadata": {},
     "output_type": "execute_result"
    },
    {
     "data": {
      "image/png": "[encoded data removed]",
      "text/plain": [
       "<Figure size 640x480 with 1 Axes>"
      ]
     },
     "metadata": {},
     "output_type": "display_data"
    }
   ],
   "source": [
    "img = events[idx].squeeze()\n",
    "plt.imshow(img)"
   ]
  },
  {
   "cell_type": "code",
   "execution_count": 25,
   "id": "75ab0472-9ea7-4ecb-a77b-ef9aa56aba3e",
   "metadata": {},
   "outputs": [
    {
     "data": {
      "text/plain": [
       "array([[0., 0., 0., ..., 0., 0., 0.],\n",
       "       [0., 0., 0., ..., 0., 0., 0.],\n",
       "       [0., 0., 0., ..., 0., 0., 0.],\n",
       "       ...,\n",
       "       [0., 0., 0., ..., 0., 0., 0.],\n",
       "       [0., 0., 0., ..., 0., 0., 0.],\n",
       "       [0., 0., 0., ..., 3., 3., 0.]])"
      ]
     },
     "execution_count": 25,
     "metadata": {},
     "output_type": "execute_result"
    }
   ],
   "source": [
    "tags"
   ]
  },
  {
   "cell_type": "markdown",
   "id": "49cde7e5-0a26-42df-a382-18b63f27153d",
   "metadata": {},
   "source": [
    "# Sklearn"
   ]
  },
  {
   "cell_type": "code",
   "execution_count": 11,
   "id": "d22435cc-4fc6-42db-9be1-bd86a2728fdc",
   "metadata": {},
   "outputs": [
    {
     "name": "stdout",
     "output_type": "stream",
     "text": [
      "{'trans::type': 'multiply', 'trans::factor': 50, 'trans::width': 1.4525251, 'method::min_samples': 1, 'method::min_cluster_size': 49, 'method::allow_single_cluster': True}\n"
     ]
    },
    {
     "data": {
      "text/plain": [
       "{'method': {'name': 'hdbscan',\n",
       "  'labels': True,\n",
       "  'parametric': False,\n",
       "  'parameters': [{'name': 'min_samples', 'type': 'int', 'min': 1, 'max': 20},\n",
       "   {'name': 'min_cluster_size', 'type': 'int', 'min': 2, 'max': 200},\n",
       "   {'name': 'allow_single_cluster', 'type': 'bool'}]},\n",
       " 'study': <optuna.study.study.Study at 0x7392ddbf5310>,\n",
       " 'data': {'name': 'small test set',\n",
       "  'files': [{'path': 'data/train/TRAIN_E150_P3_N100.root',\n",
       "    'particles': 3,\n",
       "    'saturation': 4096,\n",
       "    'meta': {'source': 'mc', 'detector': 'prototype2'}},\n",
       "   {'path': 'data/train/TRAIN_E350_P1_N100.root',\n",
       "    'particles': 1,\n",
       "    'saturation': 4096,\n",
       "    'meta': {'source': 'mc', 'detector': 'prototype2'}},\n",
       "   {'path': 'data/train/TRAIN_E60_P1_N100.root',\n",
       "    'particles': 1,\n",
       "    'saturation': 4096,\n",
       "    'meta': {'source': 'mc', 'detector': 'prototype2'}}]},\n",
       " 'its': 10}"
      ]
     },
     "execution_count": 11,
     "metadata": {},
     "output_type": "execute_result"
    }
   ],
   "source": [
    "hdbscan_study_file = \"studies/study_hdbscan_03092025_192825.pkl\"\n",
    "\n",
    "with open(hdbscan_study_file, \"rb\") as f:\n",
    "    loaded_bundle = pickle.load(f)\n",
    "hdbscan_study = loaded_bundle\n",
    "print(hdbscan_study[\"study\"].best_params)\n",
    "hdbscan_study"
   ]
  },
  {
   "cell_type": "markdown",
   "id": "8b41e563-247f-4fb4-8f29-eb1deba55961",
   "metadata": {},
   "source": [
    "# Analyse study stability"
   ]
  },
  {
   "cell_type": "markdown",
   "id": "424bff56-9ceb-428e-b532-300557aca5f8",
   "metadata": {},
   "source": [
    "Probably a good thing to, for each study, be able to show if the parameters seem to converge."
   ]
  },
  {
   "cell_type": "markdown",
   "id": "b6c0a632-a13d-4c7b-a81f-411843eefb4c",
   "metadata": {},
   "source": [
    "# Curtain test"
   ]
  },
  {
   "cell_type": "code",
   "execution_count": 47,
   "id": "b943670c-a9e3-48f3-9916-84fbe49f74f2",
   "metadata": {},
   "outputs": [
    {
     "data": {
      "text/plain": [
       "<matplotlib.image.AxesImage at 0x7b04105fdfd0>"
      ]
     },
     "execution_count": 47,
     "metadata": {},
     "output_type": "execute_result"
    },
    {
     "data": {
      "image/png": "[encoded data removed]",
      "text/plain": [
       "<Figure size 1000x500 with 2 Axes>"
      ]
     },
     "metadata": {},
     "output_type": "display_data"
    }
   ],
   "source": [
    "x_synth = np.zeros(21*21, dtype=np.float32).reshape(21,21)\n",
    "\n",
    "fig,ax=plt.subplots(ncols=2, figsize=(10,5))\n",
    "\n",
    "size=5\n",
    "c1 = (9,9)\n",
    "b1 = slice(c1[0],c1[0]+size), slice(c1[1],c1[1]+size)\n",
    "\n",
    "\n",
    "c2 = (5,5)\n",
    "b2 = slice(c2[0],c2[0]+size), slice(c2[1],c2[1]+size)\n",
    "\n",
    "\n",
    "x_synth[b1] = 1\n",
    "x_synth[b2] = 1\n",
    "\n",
    "x_synth_tensor = torch.from_numpy(x_synth).unsqueeze(0).unsqueeze(0)\n",
    "x_synth_pred = cnn_study[\"exec\"](x_synth_tensor)\n",
    "ax[0].imshow(x_synth)\n",
    "ax[1].imshow(x_synth_pred[0][0].detach().numpy())"
   ]
  },
  {
   "cell_type": "code",
   "execution_count": 58,
   "id": "f4bd8a6d-ad5d-48b7-8e9a-9b2684f03908",
   "metadata": {},
   "outputs": [
    {
     "data": {
      "image/png": "[encoded data removed]",
      "text/plain": [
       "<Figure size 1000x500 with 8 Axes>"
      ]
     },
     "metadata": {},
     "output_type": "display_data"
    }
   ],
   "source": [
    "fig,ax=plt.subplots(nrows=2,ncols=4, figsize=(10,5))\n",
    "\n",
    "for i in range(4):\n",
    "    i_synth = np.zeros(21*21, dtype=np.float32).reshape(21,21)\n",
    "    origin = 4,4\n",
    "    size = 2*(i+1)\n",
    "    bi = slice(origin[0],origin[0]+size), slice(origin[1],origin[1]+size)\n",
    "    i_synth[bi] = 1\n",
    "    \n",
    "    i_synth_tensor = torch.from_numpy(i_synth).unsqueeze(0).unsqueeze(0)\n",
    "    i_synth_pred = cnn_study[\"exec\"](i_synth_tensor)\n",
    "    ax[0][i].imshow(i_synth)\n",
    "    ax[1][i].imshow(i_synth_pred[0][0].detach().numpy())\n",
    "\n",
    "fig.savefig(\"synth_blobs.png\", bbox_inches=\"tight\")"
   ]
  },
  {
   "cell_type": "markdown",
   "id": "d77f6115-0c18-4dc4-83be-1502f230a0a7",
   "metadata": {},
   "source": [
    "# Analyse the magic"
   ]
  },
  {
   "cell_type": "markdown",
   "id": "a64a69b6-82fe-4d7e-b8c1-53a5c2a48e54",
   "metadata": {},
   "source": [
    "Add masks over showers and see if it's able to intelligently reconstruct what is behind the mask (saturated area).\n",
    "\n",
    "Call it curtain test."
   ]
  },
  {
   "cell_type": "markdown",
   "id": "641a4da0-62b0-428b-814e-d58e0172b2e3",
   "metadata": {},
   "source": [
    "# Analyse evaluation"
   ]
  },
  {
   "cell_type": "code",
   "execution_count": 2,
   "id": "b85451a9-efc2-44fb-a4f4-8c5dfde61094",
   "metadata": {},
   "outputs": [],
   "source": [
    "plt.rcParams.update({\n",
    "    \"text.usetex\": False,\n",
    "    \"font.family\": \"sans-serif\",\n",
    "    \"font.sans-serif\": [\"DejaVu Sans\"],\n",
    "    \"font.size\" : 15,\n",
    "    \"legend.fontsize\" : 12,\n",
    "    \"xtick.direction\" : \"in\",\n",
    "    \"ytick.direction\" : \"in\",\n",
    "    \"xtick.major.size\" : 5.0,\n",
    "    \"xtick.minor.size\" : 3.0,\n",
    "    \"ytick.major.size\" : 5.0,\n",
    "    \"ytick.minor.size\" : 3.0,\n",
    "    \"axes.linewidth\" : 0.8,\n",
    "    \"legend.handlelength\" : 2,\n",
    "})\n",
    "\n",
    "def plot_discrete(x,y,label=\"\"):\n",
    "    unq = np.unique(x)\n",
    "    muy = np.zeros_like(unq)\n",
    "    mux = np.zeros_like(unq)\n",
    "    sigmay = np.zeros_like(unq)\n",
    "    sigmax = np.zeros_like(unq)\n",
    "    for i in range(len(unq)):\n",
    "        mask = x == unq[i]\n",
    "        muy[i] = y[mask].mean()\n",
    "        mux[i] = x[mask].mean()\n",
    "        sigmay[i] = y[mask].std()/np.sqrt(len(y[mask]))\n",
    "        sigmax[i] = x[mask].std()/np.sqrt(len(x[mask]))\n",
    "\n",
    "    plt.errorbar(mux,muy,sigmay,marker=\".\",linestyle=\"\", label=label)\n",
    "    plt.ylim(0,2)\n",
    "    plt.legend()\n",
    "\n",
    "\n",
    "def plot_performance_particle_num(df, x_col, y_col, marker_shape=\"^\", linestyle=\"\", color=\"\", ax=None):\n",
    "    if ax is None:\n",
    "        fig, ax = plt.subplots()\n",
    "    grp = df.groupby(x_col)[y_col]\n",
    "    mu_x = grp.mean().index\n",
    "    mu_y = grp.mean().values\n",
    "    sigma_y = grp.sem().values\n",
    "    if color == \"\":\n",
    "        ax.errorbar(mu_x, mu_y, yerr=sigma_y, marker=marker_shape, linestyle=linestyle, capsize=5)\n",
    "    else:\n",
    "        ax.errorbar(mu_x, mu_y, yerr=sigma_y, marker=marker_shape, linestyle=linestyle, color=color, capsize=5)\n",
    "    #ax.plot(mu_x, mu_y)\n",
    "\n",
    "\n",
    "def plot_chunks(x, y, Nbins, label, marker_shape=\".\", color=\"\", ax=None):\n",
    "    if ax is None:\n",
    "        fig, ax = plt.subplots()\n",
    "    \n",
    "    bins = np.linspace(min(x), max(x), Nbins + 1)\n",
    "    bin_centers = (bins[:-1] + bins[1:]) / 2\n",
    "    mu_y = np.zeros(Nbins)\n",
    "    sigma_y = np.zeros(Nbins)\n",
    "    \n",
    "    for i in range(Nbins):\n",
    "        mask = (x >= bins[i]) & (x < bins[i+1])\n",
    "        if np.any(mask):\n",
    "            mu_y[i] = np.mean(y[mask])\n",
    "            sigma_y[i] = np.std(y[mask]) / np.sqrt(np.sum(mask))\n",
    "\n",
    "    if color == \"\":\n",
    "        ax.errorbar(bin_centers, mu_y, yerr=sigma_y, marker=marker_shape, linestyle='solid', capsize=5)\n",
    "    else:\n",
    "        ax.errorbar(bin_centers, mu_y, yerr=sigma_y, marker=marker_shape, linestyle='solid', color=color, capsize=5)\n",
    "\n",
    "\n",
    "\n",
    "\n",
    "def format_with_suffix(num):\n",
    "    if num >= 1e9:\n",
    "        return f\"{num / 1e9:.1f}B\"\n",
    "    elif num >= 1e6:\n",
    "        return f\"{num / 1e6:.1f}M\"\n",
    "    elif num >= 1e3:\n",
    "        return f\"{num / 1e3:.1f}K\"\n",
    "    else:\n",
    "        return str(num)\n",
    "\n",
    "\n",
    "#plot_discrete(count, score)"
   ]
  },
  {
   "cell_type": "code",
   "execution_count": 15,
   "id": "6dccb2ea-a8e8-4e47-bfd8-1fc4eb4f14a7",
   "metadata": {},
   "outputs": [
    {
     "name": "stdout",
     "output_type": "stream",
     "text": [
      "events\n",
      "targets\n",
      "counts\n",
      "mapping\n",
      "labels\n",
      "values\n",
      "energy\n",
      "coms\n",
      "adj\n",
      "tags\n",
      "data\n",
      "efficiency\n",
      "vmeasure\n",
      "coverage\n",
      "particles\n",
      "avg_energy\n"
     ]
    }
   ],
   "source": [
    "#ma_eval_file = \"evaluation/eval_ma_01092025_053548.pkl\"\n",
    "#ma_eval_file = \"evaluation/eval_ma_07092025_103817.pkl\"\n",
    "#ma_eval_file = \"evaluation/eval_ma_06092025_102441.pkl\"\n",
    "ma_eval_file = \"evaluation/eval_ma_08092025_092411.pkl\"\n",
    "\n",
    "\n",
    "\n",
    "#cnn_eval_file = \"evaluation/eval_cnn_02092025_060217.pkl\"\n",
    "#cnn_eval_file = \"evaluation/eval_cnn_02092025_104200.pkl\"\n",
    "#cnn_eval_file = \"evaluation/eval_cnn_07092025_094926.pkl\"\n",
    "cnn_eval_file = \"evaluation/eval_cnn_07092025_102542.pkl\"\n",
    "\n",
    "\n",
    "\n",
    "#hdbscan_eval_file = \"evaluation/eval_hdbscan_03092025_201034.pkl\"\n",
    "hdbscan_eval_file = \"evaluation/eval_hdbscan_07092025_103658.pkl\"\n",
    "#hdbscan_eval_file = \"evaluation/eval_hdbscan_05092025_113309.pkl\"\n",
    "\n",
    "\n",
    "with open(cnn_eval_file, \"rb\") as f:\n",
    "    loaded_bundle = pickle.load(f)\n",
    "cnn_eval = loaded_bundle\n",
    "\n",
    "\n",
    "with open(ma_eval_file, \"rb\") as f:\n",
    "    loaded_bundle = pickle.load(f)\n",
    "ma_eval = loaded_bundle\n",
    "\n",
    "\n",
    "with open(hdbscan_eval_file, \"rb\") as f:\n",
    "    loaded_bundle = pickle.load(f)\n",
    "hdbscan_eval = loaded_bundle\n",
    "\n",
    "\n",
    "cnn_eval[\"method\"]\n",
    "cnn_eval[\"eval\"]\n",
    "\n",
    "\n",
    "for key,value in cnn_eval[\"eval\"].items():\n",
    "   print(key)"
   ]
  },
  {
   "cell_type": "code",
   "execution_count": 23,
   "id": "23f06d52-ec93-4c47-9f88-3f140bb28c62",
   "metadata": {},
   "outputs": [
    {
     "data": {
      "text/plain": [
       "array([[ 65.,  33.,  65., ...,  43.,  27.,  27.],\n",
       "       [  9.,  74., 233., ...,   7.,  10.,  10.],\n",
       "       [ 13.,  12.,   3., ...,  47.,  62.,  16.],\n",
       "       ...,\n",
       "       [  5.,  36.,  19., ...,  49.,  40., 162.],\n",
       "       [  4.,  45.,  60., ...,   5.,   2.,   3.],\n",
       "       [ 56.,  24.,  39., ...,  12.,  10.,   0.]], dtype=float32)"
      ]
     },
     "execution_count": 23,
     "metadata": {},
     "output_type": "execute_result"
    }
   ],
   "source": [
    "cnn_eval[\"eval\"][\"values\"]"
   ]
  },
  {
   "cell_type": "code",
   "execution_count": 55,
   "id": "2b9a3877-d148-4b4e-a524-7e371ed3b38c",
   "metadata": {},
   "outputs": [
    {
     "data": {
      "text/plain": [
       "<Axes: >"
      ]
     },
     "execution_count": 55,
     "metadata": {},
     "output_type": "execute_result"
    },
    {
     "data": {
      "image/png": "[encoded data removed]",
      "text/plain": [
       "<Figure size 640x480 with 2 Axes>"
      ]
     },
     "metadata": {},
     "output_type": "display_data"
    }
   ],
   "source": [
    "idx = 3000\n",
    "iadj = np.load(\"p2_sim_adj_map2.npy\")\n",
    "vals = cnn_eval[\"eval\"][\"values\"][idx]\n",
    "labels = cnn_eval[\"eval\"][\"labels\"][idx]\n",
    "tags = cnn_eval[\"eval\"][\"tags\"][idx]\n",
    "\n",
    "foc = FocalH()\n",
    "fig,ax = plt.subplots(ncols=2)\n",
    "foc.heatmap(vals[iadj], labels[iadj], ax[0])\n",
    "foc.heatmap(vals[iadj], tags, ax[1])\n"
   ]
  },
  {
   "cell_type": "code",
   "execution_count": 24,
   "id": "c1077cf6-69ac-463b-be7a-239818f308fd",
   "metadata": {},
   "outputs": [
    {
     "name": "stdout",
     "output_type": "stream",
     "text": [
      "10000\n"
     ]
    },
    {
     "name": "stderr",
     "output_type": "stream",
     "text": [
      "/tmp/ipykernel_33573/1820535683.py:8: RuntimeWarning: Mean of empty slice.\n",
      "  dists[i] = upper_tri.mean()\n"
     ]
    },
    {
     "name": "stdout",
     "output_type": "stream",
     "text": [
      "9076\n",
      "10000\n"
     ]
    }
   ],
   "source": [
    "def dist(coms):\n",
    "    print(len(coms))\n",
    "    dists = [None]*len(coms)\n",
    "    for i in range(len(coms)):\n",
    "        diff = coms[i][:, np.newaxis, :] - coms[i][np.newaxis, :, :]\n",
    "        dist = np.sqrt((diff ** 2).sum(axis=-1))\n",
    "        upper_tri = dist[np.triu_indices_from(dist, k=1)]\n",
    "        dists[i] = upper_tri.mean()\n",
    "    return dists\n",
    "\n",
    "\n",
    "def to_dataframe(d):\n",
    "#    print(d[\"method\"])\n",
    "    df = pd.DataFrame({\n",
    "        \"efficiency\": d[\"eval\"][\"efficiency\"],\n",
    "        \"vmeasure\": d[\"eval\"][\"vmeasure\"],\n",
    "#        \"vmeasure_weighted\": d[\"vmeasure_weighted\"],\n",
    "        \"coverage\": d[\"eval\"][\"coverage\"],\n",
    "        \"particles\": d[\"eval\"][\"particles\"],\n",
    "        \"avg_energy\": d[\"eval\"][\"avg_energy\"],\n",
    "        \"coms_dists\" : dist(d[\"eval\"][\"coms\"]),\n",
    "                         })\n",
    "    return df\n",
    "\n",
    "\n",
    "\n",
    "df_ma = to_dataframe(ma_eval)\n",
    "df_cnn = to_dataframe(cnn_eval)\n",
    "df_hdbscan = to_dataframe(hdbscan_eval)"
   ]
  },
  {
   "cell_type": "code",
   "execution_count": null,
   "id": "18872f65-c2fb-4acd-adc1-6603e59cffd1",
   "metadata": {},
   "outputs": [],
   "source": []
  },
  {
   "cell_type": "code",
   "execution_count": 11,
   "id": "b3af27b3-ebcc-4c50-8917-bc8dcb7e1ef8",
   "metadata": {},
   "outputs": [
    {
     "data": {
      "image/png": "[encoded data removed]",
      "text/plain": [
       "<Figure size 640x480 with 1 Axes>"
      ]
     },
     "metadata": {},
     "output_type": "display_data"
    }
   ],
   "source": [
    "\n",
    "fig,ax = plt.subplots()\n",
    "plot_performance_particle_num(df_ma, \"avg_energy\", \"efficiency\", marker_shape=\"^\", linestyle=\"dashed\", ax=ax)\n",
    "plot_performance_particle_num(df_cnn, \"avg_energy\", \"efficiency\", marker_shape=\"s\", linestyle=\"dashed\", ax=ax)\n",
    "plot_performance_particle_num(df_hdbscan, \"avg_energy\", \"efficiency\", marker_shape=\"o\", linestyle=\"dashed\", ax=ax)\n",
    "#ax.set_xticks([1,2,3,4,5,6,7,8,9,10], [\"1\",\"2\",\"3\",\"4\",\"5\",\"6\",\"7\",\"8\",\"9\",\"10\"])\n",
    "ax.set_xticks([0,50,100,150,200,250,300,350], [\"0\",\"50\",\"100\",\"150\",\"200\",\"250\",\"300\",\"350\"])\n",
    "#ax.set_xticks([1,2], [\"1\",\"2\"])\n",
    "ax.set_ylim(0,2)\n",
    "ax.xaxis.set_minor_locator(MultipleLocator(10))\n",
    "#ax.yaxis.set_minor_locator(MultipleLocator(0.2))\n",
    "ax.yaxis.set_ticks_position(\"both\")\n",
    "ax.xaxis.set_ticks_position(\"both\")\n",
    "ax.set_xlabel(\"Energy [GeV]\")\n",
    "ax.set_ylabel(\"Efficiency [$N_{clusters}/N_{particles}$]\")\n",
    "ax.axhline(1, color=\"grey\", linestyle=\"dotted\")\n",
    "ax.scatter([],[], label=\"Modified Aggregation\", marker=\"^\")\n",
    "ax.scatter([],[], label=\"CNN+Modified Aggregation\", marker=\"s\")\n",
    "ax.scatter([],[], label=\"HDBSCAN\", marker=\"s\")\n",
    "ax.legend(framealpha=0)\n",
    "\n",
    "#ax.text(0.00, 1.05, \"FoCal-H Prototype 2\", transform=plt.gca().transAxes, ha=\"left\", va=\"center\")\n",
    "#ax.text(1.00, 1.05, f\"${len(df_ma):.0E}$ MC Events\", transform=plt.gca().transAxes, ha=\"right\", va=\"center\")\n",
    "\n",
    "\n",
    "ax.text(0.03, 0.93, \"FoCal-H\", transform=plt.gca().transAxes, ha=\"left\", va=\"center\")\n",
    "ax.text(0.03, 0.86, \"Prototype 2 Monte-Carlo\", transform=plt.gca().transAxes, ha=\"left\", va=\"center\", fontsize=10)\n",
    "ax.text(0.03, 0.80, f\"1-10 particles\", transform=plt.gca().transAxes, ha=\"left\", va=\"center\", fontsize=10)\n",
    "ax.text(0.03, 0.74, f\"{format_with_suffix(len(df_ma))} events\", transform=plt.gca().transAxes, ha=\"left\", va=\"center\", fontsize=10)\n",
    "\n",
    "\n",
    "#ax.grid(True)\n",
    "fig.savefig(\"eval_eff_energy_many.png\", bbox_inches=\"tight\")"
   ]
  },
  {
   "cell_type": "code",
   "execution_count": 12,
   "id": "3fb01291-be64-40d8-9d25-0db2563f1484",
   "metadata": {},
   "outputs": [
    {
     "data": {
      "image/png": "[encoded data removed]",
      "text/plain": [
       "<Figure size 640x480 with 1 Axes>"
      ]
     },
     "metadata": {},
     "output_type": "display_data"
    }
   ],
   "source": [
    "ma_single = df_ma[\"particles\"] == 1\n",
    "cnn_single = df_cnn[\"particles\"] == 1\n",
    "hdbscan_single = df_hdbscan[\"particles\"] == 1\n",
    "\n",
    "fig,ax = plt.subplots()\n",
    "plot_performance_particle_num(df_ma[ma_single], \"avg_energy\", \"efficiency\", marker_shape=\"^\", linestyle=\"dashed\", ax=ax)\n",
    "plot_performance_particle_num(df_cnn[cnn_single], \"avg_energy\", \"efficiency\", marker_shape=\"s\", linestyle=\"dashed\", ax=ax)\n",
    "plot_performance_particle_num(df_hdbscan[hdbscan_single], \"avg_energy\", \"efficiency\", marker_shape=\"o\", linestyle=\"dashed\", ax=ax)\n",
    "#ax.set_xticks([1,2,3,4,5,6,7,8,9,10], [\"1\",\"2\",\"3\",\"4\",\"5\",\"6\",\"7\",\"8\",\"9\",\"10\"])\n",
    "ax.set_xticks([0,50,100,150,200,250,300,350], [\"0\",\"50\",\"100\",\"150\",\"200\",\"250\",\"300\",\"350\"])\n",
    "#ax.set_xticks([1,2], [\"1\",\"2\"])\n",
    "ax.set_ylim(0,3)\n",
    "ax.xaxis.set_minor_locator(MultipleLocator(10))\n",
    "#ax.yaxis.set_minor_locator(MultipleLocator(0.2))\n",
    "ax.yaxis.set_ticks_position(\"both\")\n",
    "ax.xaxis.set_ticks_position(\"both\")\n",
    "ax.set_xlabel(\"Energy [GeV]\")\n",
    "ax.set_ylabel(\"Efficiency [$N_{clusters}/N_{particles}$]\")\n",
    "ax.axhline(1, color=\"grey\", linestyle=\"dotted\")\n",
    "ax.scatter([],[], label=\"Modified Aggregation\", marker=\"^\")\n",
    "ax.scatter([],[], label=\"CNN+Modified Aggregation\", marker=\"s\")\n",
    "ax.scatter([],[], label=\"HDBSCAN\", marker=\"o\")\n",
    "ax.legend(framealpha=0)\n",
    "\n",
    "ax.text(0.03, 0.93, \"FoCal-H\", transform=plt.gca().transAxes, ha=\"left\", va=\"center\")\n",
    "ax.text(0.03, 0.86, \"Prototype 2 Monte-Carlo\", transform=plt.gca().transAxes, ha=\"left\", va=\"center\", fontsize=10)\n",
    "ax.text(0.03, 0.80, f\"Single particles\", transform=plt.gca().transAxes, ha=\"left\", va=\"center\", fontsize=10)\n",
    "ax.text(0.03, 0.74, f\"{format_with_suffix(len(df_ma[ma_single]))} events\", transform=plt.gca().transAxes, ha=\"left\", va=\"center\", fontsize=10)\n",
    "\n",
    "fig.savefig(\"eval_eff_energy_single.png\", bbox_inches=\"tight\")"
   ]
  },
  {
   "cell_type": "code",
   "execution_count": 13,
   "id": "d15bae85-479d-43cf-974e-c3929929d9ce",
   "metadata": {},
   "outputs": [
    {
     "data": {
      "image/png": "[encoded data removed]",
      "text/plain": [
       "<Figure size 640x480 with 1 Axes>"
      ]
     },
     "metadata": {},
     "output_type": "display_data"
    }
   ],
   "source": [
    "fig,ax = plt.subplots()\n",
    "plot_performance_particle_num(df_ma, \"particles\", \"efficiency\", marker_shape=\"^\", linestyle=\"dashed\", ax=ax)\n",
    "plot_performance_particle_num(df_cnn, \"particles\", \"efficiency\", marker_shape=\"s\", linestyle=\"dashed\", ax=ax)\n",
    "plot_performance_particle_num(df_hdbscan, \"particles\", \"efficiency\", marker_shape=\"o\", linestyle=\"dashed\", ax=ax)\n",
    "ax.set_xticks([1,2,3,4,5,6,7,8,9,10], [\"1\",\"2\",\"3\",\"4\",\"5\",\"6\",\"7\",\"8\",\"9\",\"10\"])\n",
    "#ax.set_xticks([0,50,100,150,200,250,300,350], [\"0\",\"50\",\"100\",\"150\",\"200\",\"250\",\"300\",\"350\"])\n",
    "#ax.set_xticks([1,2], [\"1\",\"2\"])\n",
    "ax.set_ylim(0,2)\n",
    "ax.xaxis.set_minor_locator(MultipleLocator(10))\n",
    "#ax.yaxis.set_minor_locator(MultipleLocator(0.2))\n",
    "ax.yaxis.set_ticks_position(\"both\")\n",
    "ax.xaxis.set_ticks_position(\"both\")\n",
    "ax.set_xlabel(\"Particles\")\n",
    "ax.set_ylabel(\"Efficiency [$N_{clusters}/N_{particles}$]\")\n",
    "ax.axhline(1, color=\"grey\", linestyle=\"dotted\")\n",
    "ax.scatter([],[], label=\"Modified Aggregation\", marker=\"^\")\n",
    "ax.scatter([],[], label=\"CNN+Modified Aggregation\", marker=\"s\")\n",
    "ax.scatter([],[], label=\"HDBSCAN\", marker=\"o\")\n",
    "ax.legend(framealpha=0)\n",
    "\n",
    "#ax.text(0.00, 1.05, \"FoCal-H Prototype 2\", transform=plt.gca().transAxes, ha=\"left\", va=\"center\")\n",
    "#ax.text(1.00, 1.05, f\"${len(df_ma):.0E}$ MC Events\", transform=plt.gca().transAxes, ha=\"right\", va=\"center\")\n",
    "\n",
    "ax.text(0.03, 0.93, \"FoCal-H\", transform=plt.gca().transAxes, ha=\"left\", va=\"center\")\n",
    "ax.text(0.03, 0.86, \"Prototype 2 Monte-Carlo\", transform=plt.gca().transAxes, ha=\"left\", va=\"center\", fontsize=10)\n",
    "ax.text(0.03, 0.80, f\"Energy: 20-350 GeV\", transform=plt.gca().transAxes, ha=\"left\", va=\"center\", fontsize=10)\n",
    "ax.text(0.03, 0.74, f\"{format_with_suffix(len(df_ma[ma_single]))} events\", transform=plt.gca().transAxes, ha=\"left\", va=\"center\", fontsize=10)\n",
    "\n",
    "\n",
    "\n",
    "#ax.grid(True)\n",
    "fig.savefig(\"eval_eff_particles.png\", bbox_inches=\"tight\")"
   ]
  },
  {
   "cell_type": "code",
   "execution_count": 14,
   "id": "3bf1f41b-cfa9-43f7-a1f7-386cf6ff87ee",
   "metadata": {},
   "outputs": [
    {
     "data": {
      "image/png": "[encoded data removed]",
      "text/plain": [
       "<Figure size 640x480 with 1 Axes>"
      ]
     },
     "metadata": {},
     "output_type": "display_data"
    }
   ],
   "source": [
    "ma_two = df_ma[\"particles\"] == 2\n",
    "cnn_two = df_cnn[\"particles\"] == 2\n",
    "hdbscan_two = df_hdbscan[\"particles\"] == 2\n",
    "bins=10\n",
    "fig,ax = plt.subplots()\n",
    "#plot_performance_particle_num(df_ma[ma_two], \"coms_dists\", \"vmeasure\", marker_shape=\"^\", linestyle=\"dashed\", ax=ax)\n",
    "plot_chunks(df_ma[ma_two][\"coms_dists\"], df_ma[ma_two][\"efficiency\"], bins, \"Modified Aggregation\", \"o\", \"\", ax)\n",
    "plot_chunks(df_cnn[cnn_two][\"coms_dists\"], df_cnn[cnn_two][\"efficiency\"], bins, \"CNN+Modified Aggregation\", \"o\", \"\", ax)\n",
    "plot_chunks(df_hdbscan[hdbscan_two][\"coms_dists\"], df_hdbscan[hdbscan_two][\"efficiency\"], bins, \"HDBSCAN\", \"o\", \"\", ax)\n",
    "\n",
    "ax.set_xticks(\n",
    "    [0, 2, 4, 6, 8, 10, 12, 14, 16, 18, 20],\n",
    "    [\"0\", \"2\", \"4\", \"6\", \"8\", \"10\", \"12\", \"14\", \"16\", \"18\", \"20\"])\n",
    "ax.set_ylim(0,2)\n",
    "ax.xaxis.set_minor_locator(MultipleLocator(1))\n",
    "#ax.yaxis.set_minor_locator(MultipleLocator(0.2))\n",
    "ax.yaxis.set_ticks_position(\"both\")\n",
    "ax.xaxis.set_ticks_position(\"both\")\n",
    "ax.set_xlabel(\"Center-of-mass distance [cm]\")\n",
    "ax.set_ylabel(\"Efficiency [$N_{clusters}/N_{particles}$]\")\n",
    "\n",
    "ax.scatter([],[], label=\"Modified Aggregation\", marker=\"^\")\n",
    "ax.scatter([],[], label=\"CNN+Modified Aggregation\", marker=\"s\")\n",
    "ax.scatter([],[], label=\"HDBSCAN\", marker=\"o\")\n",
    "ax.legend(framealpha=0)\n",
    "ax.axhline(1, color=\"grey\", linestyle=\"dotted\")\n",
    "\n",
    "ax.text(0.03, 0.93, \"FoCal-H\", transform=plt.gca().transAxes, ha=\"left\", va=\"center\")\n",
    "ax.text(0.03, 0.86, \"Prototype 2 Monte-Carlo\", transform=plt.gca().transAxes, ha=\"left\", va=\"center\", fontsize=10)\n",
    "ax.text(0.03, 0.80, f\"Energy: 20-350 GeV\", transform=plt.gca().transAxes, ha=\"left\", va=\"center\", fontsize=10)\n",
    "ax.text(0.03, 0.74, f\"2-particle events\", transform=plt.gca().transAxes, ha=\"left\", va=\"center\", fontsize=10)\n",
    "ax.text(0.03, 0.68, f\"{format_with_suffix(len(df_ma[ma_two]))} events\", transform=plt.gca().transAxes, ha=\"left\", va=\"center\", fontsize=10)\n",
    "\n",
    "\n",
    "fig.savefig(\"eval_eff_com.png\", bbox_inches=\"tight\")"
   ]
  },
  {
   "cell_type": "code",
   "execution_count": 99,
   "id": "4024814d-3061-40a3-8eb7-809c960a4924",
   "metadata": {},
   "outputs": [
    {
     "data": {
      "text/html": [
       "<div>\n",
       "<style scoped>\n",
       "    .dataframe tbody tr th:only-of-type {\n",
       "        vertical-align: middle;\n",
       "    }\n",
       "\n",
       "    .dataframe tbody tr th {\n",
       "        vertical-align: top;\n",
       "    }\n",
       "\n",
       "    .dataframe thead th {\n",
       "        text-align: right;\n",
       "    }\n",
       "</style>\n",
       "<table border=\"1\" class=\"dataframe\">\n",
       "  <thead>\n",
       "    <tr style=\"text-align: right;\">\n",
       "      <th></th>\n",
       "      <th>efficiency</th>\n",
       "      <th>vmeasure</th>\n",
       "      <th>coverage</th>\n",
       "      <th>particles</th>\n",
       "      <th>avg_energy</th>\n",
       "      <th>coms_dists</th>\n",
       "    </tr>\n",
       "  </thead>\n",
       "  <tbody>\n",
       "    <tr>\n",
       "      <th>99</th>\n",
       "      <td>1.0</td>\n",
       "      <td>0.163939</td>\n",
       "      <td>0.562266</td>\n",
       "      <td>2.0</td>\n",
       "      <td>350.0</td>\n",
       "      <td>9.564399</td>\n",
       "    </tr>\n",
       "    <tr>\n",
       "      <th>100</th>\n",
       "      <td>1.0</td>\n",
       "      <td>0.127150</td>\n",
       "      <td>0.529139</td>\n",
       "      <td>2.0</td>\n",
       "      <td>350.0</td>\n",
       "      <td>10.894630</td>\n",
       "    </tr>\n",
       "    <tr>\n",
       "      <th>101</th>\n",
       "      <td>1.5</td>\n",
       "      <td>0.076990</td>\n",
       "      <td>0.602499</td>\n",
       "      <td>2.0</td>\n",
       "      <td>350.0</td>\n",
       "      <td>6.120543</td>\n",
       "    </tr>\n",
       "    <tr>\n",
       "      <th>102</th>\n",
       "      <td>1.0</td>\n",
       "      <td>0.167439</td>\n",
       "      <td>0.368071</td>\n",
       "      <td>2.0</td>\n",
       "      <td>350.0</td>\n",
       "      <td>11.438643</td>\n",
       "    </tr>\n",
       "    <tr>\n",
       "      <th>103</th>\n",
       "      <td>0.5</td>\n",
       "      <td>0.008726</td>\n",
       "      <td>0.065573</td>\n",
       "      <td>2.0</td>\n",
       "      <td>350.0</td>\n",
       "      <td>0.556123</td>\n",
       "    </tr>\n",
       "    <tr>\n",
       "      <th>...</th>\n",
       "      <td>...</td>\n",
       "      <td>...</td>\n",
       "      <td>...</td>\n",
       "      <td>...</td>\n",
       "      <td>...</td>\n",
       "      <td>...</td>\n",
       "    </tr>\n",
       "    <tr>\n",
       "      <th>8415</th>\n",
       "      <td>1.5</td>\n",
       "      <td>0.069333</td>\n",
       "      <td>0.064241</td>\n",
       "      <td>2.0</td>\n",
       "      <td>20.0</td>\n",
       "      <td>9.522663</td>\n",
       "    </tr>\n",
       "    <tr>\n",
       "      <th>8416</th>\n",
       "      <td>0.5</td>\n",
       "      <td>0.000286</td>\n",
       "      <td>0.012940</td>\n",
       "      <td>2.0</td>\n",
       "      <td>20.0</td>\n",
       "      <td>2.423641</td>\n",
       "    </tr>\n",
       "    <tr>\n",
       "      <th>8417</th>\n",
       "      <td>1.5</td>\n",
       "      <td>0.040040</td>\n",
       "      <td>0.304618</td>\n",
       "      <td>2.0</td>\n",
       "      <td>20.0</td>\n",
       "      <td>12.494414</td>\n",
       "    </tr>\n",
       "    <tr>\n",
       "      <th>8418</th>\n",
       "      <td>2.0</td>\n",
       "      <td>0.027227</td>\n",
       "      <td>0.668976</td>\n",
       "      <td>2.0</td>\n",
       "      <td>20.0</td>\n",
       "      <td>6.464932</td>\n",
       "    </tr>\n",
       "    <tr>\n",
       "      <th>8486</th>\n",
       "      <td>1.5</td>\n",
       "      <td>0.049888</td>\n",
       "      <td>0.355236</td>\n",
       "      <td>2.0</td>\n",
       "      <td>20.0</td>\n",
       "      <td>9.166305</td>\n",
       "    </tr>\n",
       "  </tbody>\n",
       "</table>\n",
       "<p>982 rows × 6 columns</p>\n",
       "</div>"
      ],
      "text/plain": [
       "      efficiency  vmeasure  coverage  particles  avg_energy  coms_dists\n",
       "99           1.0  0.163939  0.562266        2.0       350.0    9.564399\n",
       "100          1.0  0.127150  0.529139        2.0       350.0   10.894630\n",
       "101          1.5  0.076990  0.602499        2.0       350.0    6.120543\n",
       "102          1.0  0.167439  0.368071        2.0       350.0   11.438643\n",
       "103          0.5  0.008726  0.065573        2.0       350.0    0.556123\n",
       "...          ...       ...       ...        ...         ...         ...\n",
       "8415         1.5  0.069333  0.064241        2.0        20.0    9.522663\n",
       "8416         0.5  0.000286  0.012940        2.0        20.0    2.423641\n",
       "8417         1.5  0.040040  0.304618        2.0        20.0   12.494414\n",
       "8418         2.0  0.027227  0.668976        2.0        20.0    6.464932\n",
       "8486         1.5  0.049888  0.355236        2.0        20.0    9.166305\n",
       "\n",
       "[982 rows x 6 columns]"
      ]
     },
     "execution_count": 99,
     "metadata": {},
     "output_type": "execute_result"
    }
   ],
   "source": [
    "df_cnn[cnn_two]"
   ]
  },
  {
   "cell_type": "code",
   "execution_count": 3,
   "id": "da26e64d-288a-4961-9491-33b6d7701178",
   "metadata": {},
   "outputs": [],
   "source": [
    "from plotly.io import show"
   ]
  },
  {
   "cell_type": "code",
   "execution_count": 5,
   "id": "610b6f2f-f413-4685-8ee2-5eddbf0ab6cc",
   "metadata": {},
   "outputs": [
    {
     "name": "stdout",
     "output_type": "stream",
     "text": [
      "{'seed': 0.2, 'agg': 0.0, 'lr': 0.30884943833786427, 'momentum': 0.0525593791377537, 'epochs': 177}\n"
     ]
    },
    {
     "data": {
      "application/vnd.plotly.v1+json": {
       "config": {
        "plotlyServerURL": "https://plot.ly"
       },
       "data": [
        {
         "cliponaxis": false,
         "hovertemplate": [
          "agg (FloatDistribution): 0.0<extra></extra>",
          "seed (FloatDistribution): 0.0<extra></extra>",
          "momentum (FloatDistribution): 0.007214208476749647<extra></extra>",
          "epochs (IntDistribution): 0.1581926822357581<extra></extra>",
          "lr (FloatDistribution): 0.8345931092874922<extra></extra>"
         ],
         "name": "Objective Value",
         "orientation": "h",
         "text": [
          "<0.01",
          "<0.01",
          "<0.01",
          "0.16",
          "0.83"
         ],
         "textposition": "outside",
         "type": "bar",
         "x": [
          0,
          0,
          0.007214208476749647,
          0.1581926822357581,
          0.8345931092874922
         ],
         "y": [
          "agg",
          "seed",
          "momentum",
          "epochs",
          "lr"
         ]
        }
       ],
       "layout": {
        "template": {
         "data": {
          "bar": [
           {
            "error_x": {
             "color": "#2a3f5f"
            },
            "error_y": {
             "color": "#2a3f5f"
            },
            "marker": {
             "line": {
              "color": "#E5ECF6",
              "width": 0.5
             },
             "pattern": {
              "fillmode": "overlay",
              "size": 10,
              "solidity": 0.2
             }
            },
            "type": "bar"
           }
          ],
          "barpolar": [
           {
            "marker": {
             "line": {
              "color": "#E5ECF6",
              "width": 0.5
             },
             "pattern": {
              "fillmode": "overlay",
              "size": 10,
              "solidity": 0.2
             }
            },
            "type": "barpolar"
           }
          ],
          "carpet": [
           {
            "aaxis": {
             "endlinecolor": "#2a3f5f",
             "gridcolor": "white",
             "linecolor": "white",
             "minorgridcolor": "white",
             "startlinecolor": "#2a3f5f"
            },
            "baxis": {
             "endlinecolor": "#2a3f5f",
             "gridcolor": "white",
             "linecolor": "white",
             "minorgridcolor": "white",
             "startlinecolor": "#2a3f5f"
            },
            "type": "carpet"
           }
          ],
          "choropleth": [
           {
            "colorbar": {
             "outlinewidth": 0,
             "ticks": ""
            },
            "type": "choropleth"
           }
          ],
          "contour": [
           {
            "colorbar": {
             "outlinewidth": 0,
             "ticks": ""
            },
            "colorscale": [
             [
              0,
              "#0d0887"
             ],
             [
              0.1111111111111111,
              "#46039f"
             ],
             [
              0.2222222222222222,
              "#7201a8"
             ],
             [
              0.3333333333333333,
              "#9c179e"
             ],
             [
              0.4444444444444444,
              "#bd3786"
             ],
             [
              0.5555555555555556,
              "#d8576b"
             ],
             [
              0.6666666666666666,
              "#ed7953"
             ],
             [
              0.7777777777777778,
              "#fb9f3a"
             ],
             [
              0.8888888888888888,
              "#fdca26"
             ],
             [
              1,
              "#f0f921"
             ]
            ],
            "type": "contour"
           }
          ],
          "contourcarpet": [
           {
            "colorbar": {
             "outlinewidth": 0,
             "ticks": ""
            },
            "type": "contourcarpet"
           }
          ],
          "heatmap": [
           {
            "colorbar": {
             "outlinewidth": 0,
             "ticks": ""
            },
            "colorscale": [
             [
              0,
              "#0d0887"
             ],
             [
              0.1111111111111111,
              "#46039f"
             ],
             [
              0.2222222222222222,
              "#7201a8"
             ],
             [
              0.3333333333333333,
              "#9c179e"
             ],
             [
              0.4444444444444444,
              "#bd3786"
             ],
             [
              0.5555555555555556,
              "#d8576b"
             ],
             [
              0.6666666666666666,
              "#ed7953"
             ],
             [
              0.7777777777777778,
              "#fb9f3a"
             ],
             [
              0.8888888888888888,
              "#fdca26"
             ],
             [
              1,
              "#f0f921"
             ]
            ],
            "type": "heatmap"
           }
          ],
          "histogram": [
           {
            "marker": {
             "pattern": {
              "fillmode": "overlay",
              "size": 10,
              "solidity": 0.2
             }
            },
            "type": "histogram"
           }
          ],
          "histogram2d": [
           {
            "colorbar": {
             "outlinewidth": 0,
             "ticks": ""
            },
            "colorscale": [
             [
              0,
              "#0d0887"
             ],
             [
              0.1111111111111111,
              "#46039f"
             ],
             [
              0.2222222222222222,
              "#7201a8"
             ],
             [
              0.3333333333333333,
              "#9c179e"
             ],
             [
              0.4444444444444444,
              "#bd3786"
             ],
             [
              0.5555555555555556,
              "#d8576b"
             ],
             [
              0.6666666666666666,
              "#ed7953"
             ],
             [
              0.7777777777777778,
              "#fb9f3a"
             ],
             [
              0.8888888888888888,
              "#fdca26"
             ],
             [
              1,
              "#f0f921"
             ]
            ],
            "type": "histogram2d"
           }
          ],
          "histogram2dcontour": [
           {
            "colorbar": {
             "outlinewidth": 0,
             "ticks": ""
            },
            "colorscale": [
             [
              0,
              "#0d0887"
             ],
             [
              0.1111111111111111,
              "#46039f"
             ],
             [
              0.2222222222222222,
              "#7201a8"
             ],
             [
              0.3333333333333333,
              "#9c179e"
             ],
             [
              0.4444444444444444,
              "#bd3786"
             ],
             [
              0.5555555555555556,
              "#d8576b"
             ],
             [
              0.6666666666666666,
              "#ed7953"
             ],
             [
              0.7777777777777778,
              "#fb9f3a"
             ],
             [
              0.8888888888888888,
              "#fdca26"
             ],
             [
              1,
              "#f0f921"
             ]
            ],
            "type": "histogram2dcontour"
           }
          ],
          "mesh3d": [
           {
            "colorbar": {
             "outlinewidth": 0,
             "ticks": ""
            },
            "type": "mesh3d"
           }
          ],
          "parcoords": [
           {
            "line": {
             "colorbar": {
              "outlinewidth": 0,
              "ticks": ""
             }
            },
            "type": "parcoords"
           }
          ],
          "pie": [
           {
            "automargin": true,
            "type": "pie"
           }
          ],
          "scatter": [
           {
            "fillpattern": {
             "fillmode": "overlay",
             "size": 10,
             "solidity": 0.2
            },
            "type": "scatter"
           }
          ],
          "scatter3d": [
           {
            "line": {
             "colorbar": {
              "outlinewidth": 0,
              "ticks": ""
             }
            },
            "marker": {
             "colorbar": {
              "outlinewidth": 0,
              "ticks": ""
             }
            },
            "type": "scatter3d"
           }
          ],
          "scattercarpet": [
           {
            "marker": {
             "colorbar": {
              "outlinewidth": 0,
              "ticks": ""
             }
            },
            "type": "scattercarpet"
           }
          ],
          "scattergeo": [
           {
            "marker": {
             "colorbar": {
              "outlinewidth": 0,
              "ticks": ""
             }
            },
            "type": "scattergeo"
           }
          ],
          "scattergl": [
           {
            "marker": {
             "colorbar": {
              "outlinewidth": 0,
              "ticks": ""
             }
            },
            "type": "scattergl"
           }
          ],
          "scattermap": [
           {
            "marker": {
             "colorbar": {
              "outlinewidth": 0,
              "ticks": ""
             }
            },
            "type": "scattermap"
           }
          ],
          "scattermapbox": [
           {
            "marker": {
             "colorbar": {
              "outlinewidth": 0,
              "ticks": ""
             }
            },
            "type": "scattermapbox"
           }
          ],
          "scatterpolar": [
           {
            "marker": {
             "colorbar": {
              "outlinewidth": 0,
              "ticks": ""
             }
            },
            "type": "scatterpolar"
           }
          ],
          "scatterpolargl": [
           {
            "marker": {
             "colorbar": {
              "outlinewidth": 0,
              "ticks": ""
             }
            },
            "type": "scatterpolargl"
           }
          ],
          "scatterternary": [
           {
            "marker": {
             "colorbar": {
              "outlinewidth": 0,
              "ticks": ""
             }
            },
            "type": "scatterternary"
           }
          ],
          "surface": [
           {
            "colorbar": {
             "outlinewidth": 0,
             "ticks": ""
            },
            "colorscale": [
             [
              0,
              "#0d0887"
             ],
             [
              0.1111111111111111,
              "#46039f"
             ],
             [
              0.2222222222222222,
              "#7201a8"
             ],
             [
              0.3333333333333333,
              "#9c179e"
             ],
             [
              0.4444444444444444,
              "#bd3786"
             ],
             [
              0.5555555555555556,
              "#d8576b"
             ],
             [
              0.6666666666666666,
              "#ed7953"
             ],
             [
              0.7777777777777778,
              "#fb9f3a"
             ],
             [
              0.8888888888888888,
              "#fdca26"
             ],
             [
              1,
              "#f0f921"
             ]
            ],
            "type": "surface"
           }
          ],
          "table": [
           {
            "cells": {
             "fill": {
              "color": "#EBF0F8"
             },
             "line": {
              "color": "white"
             }
            },
            "header": {
             "fill": {
              "color": "#C8D4E3"
             },
             "line": {
              "color": "white"
             }
            },
            "type": "table"
           }
          ]
         },
         "layout": {
          "annotationdefaults": {
           "arrowcolor": "#2a3f5f",
           "arrowhead": 0,
           "arrowwidth": 1
          },
          "autotypenumbers": "strict",
          "coloraxis": {
           "colorbar": {
            "outlinewidth": 0,
            "ticks": ""
           }
          },
          "colorscale": {
           "diverging": [
            [
             0,
             "#8e0152"
            ],
            [
             0.1,
             "#c51b7d"
            ],
            [
             0.2,
             "#de77ae"
            ],
            [
             0.3,
             "#f1b6da"
            ],
            [
             0.4,
             "#fde0ef"
            ],
            [
             0.5,
             "#f7f7f7"
            ],
            [
             0.6,
             "#e6f5d0"
            ],
            [
             0.7,
             "#b8e186"
            ],
            [
             0.8,
             "#7fbc41"
            ],
            [
             0.9,
             "#4d9221"
            ],
            [
             1,
             "#276419"
            ]
           ],
           "sequential": [
            [
             0,
             "#0d0887"
            ],
            [
             0.1111111111111111,
             "#46039f"
            ],
            [
             0.2222222222222222,
             "#7201a8"
            ],
            [
             0.3333333333333333,
             "#9c179e"
            ],
            [
             0.4444444444444444,
             "#bd3786"
            ],
            [
             0.5555555555555556,
             "#d8576b"
            ],
            [
             0.6666666666666666,
             "#ed7953"
            ],
            [
             0.7777777777777778,
             "#fb9f3a"
            ],
            [
             0.8888888888888888,
             "#fdca26"
            ],
            [
             1,
             "#f0f921"
            ]
           ],
           "sequentialminus": [
            [
             0,
             "#0d0887"
            ],
            [
             0.1111111111111111,
             "#46039f"
            ],
            [
             0.2222222222222222,
             "#7201a8"
            ],
            [
             0.3333333333333333,
             "#9c179e"
            ],
            [
             0.4444444444444444,
             "#bd3786"
            ],
            [
             0.5555555555555556,
             "#d8576b"
            ],
            [
             0.6666666666666666,
             "#ed7953"
            ],
            [
             0.7777777777777778,
             "#fb9f3a"
            ],
            [
             0.8888888888888888,
             "#fdca26"
            ],
            [
             1,
             "#f0f921"
            ]
           ]
          },
          "colorway": [
           "#636efa",
           "#EF553B",
           "#00cc96",
           "#ab63fa",
           "#FFA15A",
           "#19d3f3",
           "#FF6692",
           "#B6E880",
           "#FF97FF",
           "#FECB52"
          ],
          "font": {
           "color": "#2a3f5f"
          },
          "geo": {
           "bgcolor": "white",
           "lakecolor": "white",
           "landcolor": "#E5ECF6",
           "showlakes": true,
           "showland": true,
           "subunitcolor": "white"
          },
          "hoverlabel": {
           "align": "left"
          },
          "hovermode": "closest",
          "mapbox": {
           "style": "light"
          },
          "paper_bgcolor": "white",
          "plot_bgcolor": "#E5ECF6",
          "polar": {
           "angularaxis": {
            "gridcolor": "white",
            "linecolor": "white",
            "ticks": ""
           },
           "bgcolor": "#E5ECF6",
           "radialaxis": {
            "gridcolor": "white",
            "linecolor": "white",
            "ticks": ""
           }
          },
          "scene": {
           "xaxis": {
            "backgroundcolor": "#E5ECF6",
            "gridcolor": "white",
            "gridwidth": 2,
            "linecolor": "white",
            "showbackground": true,
            "ticks": "",
            "zerolinecolor": "white"
           },
           "yaxis": {
            "backgroundcolor": "#E5ECF6",
            "gridcolor": "white",
            "gridwidth": 2,
            "linecolor": "white",
            "showbackground": true,
            "ticks": "",
            "zerolinecolor": "white"
           },
           "zaxis": {
            "backgroundcolor": "#E5ECF6",
            "gridcolor": "white",
            "gridwidth": 2,
            "linecolor": "white",
            "showbackground": true,
            "ticks": "",
            "zerolinecolor": "white"
           }
          },
          "shapedefaults": {
           "line": {
            "color": "#2a3f5f"
           }
          },
          "ternary": {
           "aaxis": {
            "gridcolor": "white",
            "linecolor": "white",
            "ticks": ""
           },
           "baxis": {
            "gridcolor": "white",
            "linecolor": "white",
            "ticks": ""
           },
           "bgcolor": "#E5ECF6",
           "caxis": {
            "gridcolor": "white",
            "linecolor": "white",
            "ticks": ""
           }
          },
          "title": {
           "x": 0.05
          },
          "xaxis": {
           "automargin": true,
           "gridcolor": "white",
           "linecolor": "white",
           "ticks": "",
           "title": {
            "standoff": 15
           },
           "zerolinecolor": "white",
           "zerolinewidth": 2
          },
          "yaxis": {
           "automargin": true,
           "gridcolor": "white",
           "linecolor": "white",
           "ticks": "",
           "title": {
            "standoff": 15
           },
           "zerolinecolor": "white",
           "zerolinewidth": 2
          }
         }
        },
        "title": {
         "text": "Hyperparameter Importances"
        },
        "xaxis": {
         "title": {
          "text": "Hyperparameter Importance"
         }
        },
        "yaxis": {
         "title": {
          "text": "Hyperparameter"
         }
        }
       }
      },
      "image/png": "[encoded data removed]"
     },
     "metadata": {},
     "output_type": "display_data"
    }
   ],
   "source": [
    "print(cnn_eval[\"study\"][\"study\"].best_params)\n",
    "fig = optuna.visualization.plot_param_importances(cnn_eval[\"study\"][\"study\"])\n",
    "show(fig)"
   ]
  },
  {
   "cell_type": "code",
   "execution_count": 10,
   "id": "5e898577-8ecd-4032-87cb-fb22786411ed",
   "metadata": {},
   "outputs": [
    {
     "data": {
      "application/vnd.plotly.v1+json": {
       "config": {
        "plotlyServerURL": "https://plot.ly"
       },
       "data": [
        {
         "mode": "markers",
         "name": "Objective Value",
         "type": "scatter",
         "x": [
          0,
          1,
          2,
          3,
          4,
          5,
          6,
          7,
          8,
          9,
          10,
          11,
          12,
          13,
          14,
          15,
          16,
          17,
          18,
          19,
          20,
          21,
          22,
          23,
          24,
          25,
          26,
          27,
          28,
          29,
          30,
          31,
          32,
          33,
          34,
          35,
          36,
          37,
          38,
          39,
          40,
          41,
          42,
          43,
          44,
          45,
          46,
          47,
          48,
          49,
          50,
          51,
          52,
          53,
          54,
          55,
          56,
          57,
          58,
          59,
          60,
          61,
          62,
          63,
          64,
          65,
          66,
          67,
          68,
          69,
          70,
          71,
          72,
          73,
          74,
          75,
          76,
          77,
          78,
          79,
          80,
          81,
          82,
          83,
          84,
          85,
          86,
          87,
          88,
          89,
          90,
          91,
          92,
          93,
          94,
          95,
          96,
          97,
          98,
          99
         ],
         "y": [
          0.0034027777777777793,
          0.0004938271604938237,
          0.014266975308641927,
          0.0025000000000000044,
          0.0009336419753086353,
          0.006049382716049409,
          0.004081790123456789,
          0.0015123456790123349,
          0.0034027777777777793,
          0.0002777777777777795,
          0.0011111111111111107,
          0.00019290123456790296,
          759.3851871141975,
          0.0002777777777777795,
          0.004444444444444443,
          0.005216049382716076,
          6.944444444444396e-05,
          3.0864197530865215e-05,
          0.00012345679012345593,
          0.0027854938271604976,
          0.0003780864197530837,
          0.0006250000000000011,
          0.0006249999999999956,
          7.716049382715995e-06,
          0.00012345679012345593,
          0.00019290123456790296,
          0.001736111111111108,
          0.0037345679012345413,
          0.00012345679012345593,
          0.0006250000000000011,
          0.004444444444444443,
          7.716049382715995e-06,
          0.00012345679012345593,
          0.0004938271604938237,
          0.0022299382716049225,
          0.0004938271604938237,
          0.0019753086419753143,
          0.0002777777777777795,
          7.716049382715995e-06,
          646.4306250000001,
          0.0004938271604938286,
          0.00012345679012345097,
          6.944444444444396e-05,
          0.00012345679012345097,
          0.001111111111111118,
          28.016437114197537,
          3.0864197530865215e-05,
          0.0004938271604938286,
          0.0006250000000000066,
          0,
          0.003734567901234582,
          0.0002777777777777832,
          0.0004938271604938286,
          3.086419753086398e-05,
          0.0002777777777777758,
          0.0004938271604938237,
          7.716049382716612e-06,
          0.0006250000000000011,
          0.001111111111111118,
          0.00012345679012345593,
          3.0864197530865215e-05,
          0.0004938271604938237,
          0.0004938271604938237,
          0.00012345679012345593,
          3.0864197530865215e-05,
          7.71604938271476e-06,
          6.944444444444396e-05,
          0.00037808641975308805,
          0.0015123456790123522,
          0.0017361111111111173,
          0.0009336419753086353,
          0.0022299382716049433,
          0.0007716049382716118,
          0.00037808641975308805,
          6.944444444444396e-05,
          6.944444444444396e-05,
          0.0007716049382716118,
          0.0003780864197530837,
          0.0002777777777777758,
          0.0034027777777777793,
          566.0434027777778,
          0.0004938271604938286,
          0.00012345679012345097,
          6.944444444444396e-05,
          0.0004938271604938237,
          0.0007716049382716057,
          6.944444444444396e-05,
          0.0025000000000000044,
          0.0006250000000000011,
          0.0002777777777777795,
          0.0002777777777777795,
          7.716049382716612e-06,
          0.00019290123456789987,
          0.0034027777777777793,
          0.00037808641975308805,
          0.001111111111111118,
          0.0004938271604938336,
          0.00012345679012345593,
          6.944444444444396e-05,
          0.0004938271604938286
         ]
        },
        {
         "mode": "lines",
         "name": "Best Value",
         "type": "scatter",
         "x": [
          0,
          1,
          2,
          3,
          4,
          5,
          6,
          7,
          8,
          9,
          10,
          11,
          12,
          13,
          14,
          15,
          16,
          17,
          18,
          19,
          20,
          21,
          22,
          23,
          24,
          25,
          26,
          27,
          28,
          29,
          30,
          31,
          32,
          33,
          34,
          35,
          36,
          37,
          38,
          39,
          40,
          41,
          42,
          43,
          44,
          45,
          46,
          47,
          48,
          49,
          50,
          51,
          52,
          53,
          54,
          55,
          56,
          57,
          58,
          59,
          60,
          61,
          62,
          63,
          64,
          65,
          66,
          67,
          68,
          69,
          70,
          71,
          72,
          73,
          74,
          75,
          76,
          77,
          78,
          79,
          80,
          81,
          82,
          83,
          84,
          85,
          86,
          87,
          88,
          89,
          90,
          91,
          92,
          93,
          94,
          95,
          96,
          97,
          98,
          99
         ],
         "y": [
          0.0034027777777777793,
          0.0004938271604938237,
          0.0004938271604938237,
          0.0004938271604938237,
          0.0004938271604938237,
          0.0004938271604938237,
          0.0004938271604938237,
          0.0004938271604938237,
          0.0004938271604938237,
          0.0002777777777777795,
          0.0002777777777777795,
          0.00019290123456790296,
          0.00019290123456790296,
          0.00019290123456790296,
          0.00019290123456790296,
          0.00019290123456790296,
          6.944444444444396e-05,
          3.0864197530865215e-05,
          3.0864197530865215e-05,
          3.0864197530865215e-05,
          3.0864197530865215e-05,
          3.0864197530865215e-05,
          3.0864197530865215e-05,
          7.716049382715995e-06,
          7.716049382715995e-06,
          7.716049382715995e-06,
          7.716049382715995e-06,
          7.716049382715995e-06,
          7.716049382715995e-06,
          7.716049382715995e-06,
          7.716049382715995e-06,
          7.716049382715995e-06,
          7.716049382715995e-06,
          7.716049382715995e-06,
          7.716049382715995e-06,
          7.716049382715995e-06,
          7.716049382715995e-06,
          7.716049382715995e-06,
          7.716049382715995e-06,
          7.716049382715995e-06,
          7.716049382715995e-06,
          7.716049382715995e-06,
          7.716049382715995e-06,
          7.716049382715995e-06,
          7.716049382715995e-06,
          7.716049382715995e-06,
          7.716049382715995e-06,
          7.716049382715995e-06,
          7.716049382715995e-06,
          0,
          0,
          0,
          0,
          0,
          0,
          0,
          0,
          0,
          0,
          0,
          0,
          0,
          0,
          0,
          0,
          0,
          0,
          0,
          0,
          0,
          0,
          0,
          0,
          0,
          0,
          0,
          0,
          0,
          0,
          0,
          0,
          0,
          0,
          0,
          0,
          0,
          0,
          0,
          0,
          0,
          0,
          0,
          0,
          0,
          0,
          0,
          0,
          0,
          0,
          0
         ]
        },
        {
         "marker": {
          "color": "#cccccc"
         },
         "mode": "markers",
         "name": "Infeasible Trial",
         "showlegend": false,
         "type": "scatter",
         "x": [],
         "y": []
        }
       ],
       "layout": {
        "template": {
         "data": {
          "bar": [
           {
            "error_x": {
             "color": "#2a3f5f"
            },
            "error_y": {
             "color": "#2a3f5f"
            },
            "marker": {
             "line": {
              "color": "#E5ECF6",
              "width": 0.5
             },
             "pattern": {
              "fillmode": "overlay",
              "size": 10,
              "solidity": 0.2
             }
            },
            "type": "bar"
           }
          ],
          "barpolar": [
           {
            "marker": {
             "line": {
              "color": "#E5ECF6",
              "width": 0.5
             },
             "pattern": {
              "fillmode": "overlay",
              "size": 10,
              "solidity": 0.2
             }
            },
            "type": "barpolar"
           }
          ],
          "carpet": [
           {
            "aaxis": {
             "endlinecolor": "#2a3f5f",
             "gridcolor": "white",
             "linecolor": "white",
             "minorgridcolor": "white",
             "startlinecolor": "#2a3f5f"
            },
            "baxis": {
             "endlinecolor": "#2a3f5f",
             "gridcolor": "white",
             "linecolor": "white",
             "minorgridcolor": "white",
             "startlinecolor": "#2a3f5f"
            },
            "type": "carpet"
           }
          ],
          "choropleth": [
           {
            "colorbar": {
             "outlinewidth": 0,
             "ticks": ""
            },
            "type": "choropleth"
           }
          ],
          "contour": [
           {
            "colorbar": {
             "outlinewidth": 0,
             "ticks": ""
            },
            "colorscale": [
             [
              0,
              "#0d0887"
             ],
             [
              0.1111111111111111,
              "#46039f"
             ],
             [
              0.2222222222222222,
              "#7201a8"
             ],
             [
              0.3333333333333333,
              "#9c179e"
             ],
             [
              0.4444444444444444,
              "#bd3786"
             ],
             [
              0.5555555555555556,
              "#d8576b"
             ],
             [
              0.6666666666666666,
              "#ed7953"
             ],
             [
              0.7777777777777778,
              "#fb9f3a"
             ],
             [
              0.8888888888888888,
              "#fdca26"
             ],
             [
              1,
              "#f0f921"
             ]
            ],
            "type": "contour"
           }
          ],
          "contourcarpet": [
           {
            "colorbar": {
             "outlinewidth": 0,
             "ticks": ""
            },
            "type": "contourcarpet"
           }
          ],
          "heatmap": [
           {
            "colorbar": {
             "outlinewidth": 0,
             "ticks": ""
            },
            "colorscale": [
             [
              0,
              "#0d0887"
             ],
             [
              0.1111111111111111,
              "#46039f"
             ],
             [
              0.2222222222222222,
              "#7201a8"
             ],
             [
              0.3333333333333333,
              "#9c179e"
             ],
             [
              0.4444444444444444,
              "#bd3786"
             ],
             [
              0.5555555555555556,
              "#d8576b"
             ],
             [
              0.6666666666666666,
              "#ed7953"
             ],
             [
              0.7777777777777778,
              "#fb9f3a"
             ],
             [
              0.8888888888888888,
              "#fdca26"
             ],
             [
              1,
              "#f0f921"
             ]
            ],
            "type": "heatmap"
           }
          ],
          "histogram": [
           {
            "marker": {
             "pattern": {
              "fillmode": "overlay",
              "size": 10,
              "solidity": 0.2
             }
            },
            "type": "histogram"
           }
          ],
          "histogram2d": [
           {
            "colorbar": {
             "outlinewidth": 0,
             "ticks": ""
            },
            "colorscale": [
             [
              0,
              "#0d0887"
             ],
             [
              0.1111111111111111,
              "#46039f"
             ],
             [
              0.2222222222222222,
              "#7201a8"
             ],
             [
              0.3333333333333333,
              "#9c179e"
             ],
             [
              0.4444444444444444,
              "#bd3786"
             ],
             [
              0.5555555555555556,
              "#d8576b"
             ],
             [
              0.6666666666666666,
              "#ed7953"
             ],
             [
              0.7777777777777778,
              "#fb9f3a"
             ],
             [
              0.8888888888888888,
              "#fdca26"
             ],
             [
              1,
              "#f0f921"
             ]
            ],
            "type": "histogram2d"
           }
          ],
          "histogram2dcontour": [
           {
            "colorbar": {
             "outlinewidth": 0,
             "ticks": ""
            },
            "colorscale": [
             [
              0,
              "#0d0887"
             ],
             [
              0.1111111111111111,
              "#46039f"
             ],
             [
              0.2222222222222222,
              "#7201a8"
             ],
             [
              0.3333333333333333,
              "#9c179e"
             ],
             [
              0.4444444444444444,
              "#bd3786"
             ],
             [
              0.5555555555555556,
              "#d8576b"
             ],
             [
              0.6666666666666666,
              "#ed7953"
             ],
             [
              0.7777777777777778,
              "#fb9f3a"
             ],
             [
              0.8888888888888888,
              "#fdca26"
             ],
             [
              1,
              "#f0f921"
             ]
            ],
            "type": "histogram2dcontour"
           }
          ],
          "mesh3d": [
           {
            "colorbar": {
             "outlinewidth": 0,
             "ticks": ""
            },
            "type": "mesh3d"
           }
          ],
          "parcoords": [
           {
            "line": {
             "colorbar": {
              "outlinewidth": 0,
              "ticks": ""
             }
            },
            "type": "parcoords"
           }
          ],
          "pie": [
           {
            "automargin": true,
            "type": "pie"
           }
          ],
          "scatter": [
           {
            "fillpattern": {
             "fillmode": "overlay",
             "size": 10,
             "solidity": 0.2
            },
            "type": "scatter"
           }
          ],
          "scatter3d": [
           {
            "line": {
             "colorbar": {
              "outlinewidth": 0,
              "ticks": ""
             }
            },
            "marker": {
             "colorbar": {
              "outlinewidth": 0,
              "ticks": ""
             }
            },
            "type": "scatter3d"
           }
          ],
          "scattercarpet": [
           {
            "marker": {
             "colorbar": {
              "outlinewidth": 0,
              "ticks": ""
             }
            },
            "type": "scattercarpet"
           }
          ],
          "scattergeo": [
           {
            "marker": {
             "colorbar": {
              "outlinewidth": 0,
              "ticks": ""
             }
            },
            "type": "scattergeo"
           }
          ],
          "scattergl": [
           {
            "marker": {
             "colorbar": {
              "outlinewidth": 0,
              "ticks": ""
             }
            },
            "type": "scattergl"
           }
          ],
          "scattermap": [
           {
            "marker": {
             "colorbar": {
              "outlinewidth": 0,
              "ticks": ""
             }
            },
            "type": "scattermap"
           }
          ],
          "scattermapbox": [
           {
            "marker": {
             "colorbar": {
              "outlinewidth": 0,
              "ticks": ""
             }
            },
            "type": "scattermapbox"
           }
          ],
          "scatterpolar": [
           {
            "marker": {
             "colorbar": {
              "outlinewidth": 0,
              "ticks": ""
             }
            },
            "type": "scatterpolar"
           }
          ],
          "scatterpolargl": [
           {
            "marker": {
             "colorbar": {
              "outlinewidth": 0,
              "ticks": ""
             }
            },
            "type": "scatterpolargl"
           }
          ],
          "scatterternary": [
           {
            "marker": {
             "colorbar": {
              "outlinewidth": 0,
              "ticks": ""
             }
            },
            "type": "scatterternary"
           }
          ],
          "surface": [
           {
            "colorbar": {
             "outlinewidth": 0,
             "ticks": ""
            },
            "colorscale": [
             [
              0,
              "#0d0887"
             ],
             [
              0.1111111111111111,
              "#46039f"
             ],
             [
              0.2222222222222222,
              "#7201a8"
             ],
             [
              0.3333333333333333,
              "#9c179e"
             ],
             [
              0.4444444444444444,
              "#bd3786"
             ],
             [
              0.5555555555555556,
              "#d8576b"
             ],
             [
              0.6666666666666666,
              "#ed7953"
             ],
             [
              0.7777777777777778,
              "#fb9f3a"
             ],
             [
              0.8888888888888888,
              "#fdca26"
             ],
             [
              1,
              "#f0f921"
             ]
            ],
            "type": "surface"
           }
          ],
          "table": [
           {
            "cells": {
             "fill": {
              "color": "#EBF0F8"
             },
             "line": {
              "color": "white"
             }
            },
            "header": {
             "fill": {
              "color": "#C8D4E3"
             },
             "line": {
              "color": "white"
             }
            },
            "type": "table"
           }
          ]
         },
         "layout": {
          "annotationdefaults": {
           "arrowcolor": "#2a3f5f",
           "arrowhead": 0,
           "arrowwidth": 1
          },
          "autotypenumbers": "strict",
          "coloraxis": {
           "colorbar": {
            "outlinewidth": 0,
            "ticks": ""
           }
          },
          "colorscale": {
           "diverging": [
            [
             0,
             "#8e0152"
            ],
            [
             0.1,
             "#c51b7d"
            ],
            [
             0.2,
             "#de77ae"
            ],
            [
             0.3,
             "#f1b6da"
            ],
            [
             0.4,
             "#fde0ef"
            ],
            [
             0.5,
             "#f7f7f7"
            ],
            [
             0.6,
             "#e6f5d0"
            ],
            [
             0.7,
             "#b8e186"
            ],
            [
             0.8,
             "#7fbc41"
            ],
            [
             0.9,
             "#4d9221"
            ],
            [
             1,
             "#276419"
            ]
           ],
           "sequential": [
            [
             0,
             "#0d0887"
            ],
            [
             0.1111111111111111,
             "#46039f"
            ],
            [
             0.2222222222222222,
             "#7201a8"
            ],
            [
             0.3333333333333333,
             "#9c179e"
            ],
            [
             0.4444444444444444,
             "#bd3786"
            ],
            [
             0.5555555555555556,
             "#d8576b"
            ],
            [
             0.6666666666666666,
             "#ed7953"
            ],
            [
             0.7777777777777778,
             "#fb9f3a"
            ],
            [
             0.8888888888888888,
             "#fdca26"
            ],
            [
             1,
             "#f0f921"
            ]
           ],
           "sequentialminus": [
            [
             0,
             "#0d0887"
            ],
            [
             0.1111111111111111,
             "#46039f"
            ],
            [
             0.2222222222222222,
             "#7201a8"
            ],
            [
             0.3333333333333333,
             "#9c179e"
            ],
            [
             0.4444444444444444,
             "#bd3786"
            ],
            [
             0.5555555555555556,
             "#d8576b"
            ],
            [
             0.6666666666666666,
             "#ed7953"
            ],
            [
             0.7777777777777778,
             "#fb9f3a"
            ],
            [
             0.8888888888888888,
             "#fdca26"
            ],
            [
             1,
             "#f0f921"
            ]
           ]
          },
          "colorway": [
           "#636efa",
           "#EF553B",
           "#00cc96",
           "#ab63fa",
           "#FFA15A",
           "#19d3f3",
           "#FF6692",
           "#B6E880",
           "#FF97FF",
           "#FECB52"
          ],
          "font": {
           "color": "#2a3f5f"
          },
          "geo": {
           "bgcolor": "white",
           "lakecolor": "white",
           "landcolor": "#E5ECF6",
           "showlakes": true,
           "showland": true,
           "subunitcolor": "white"
          },
          "hoverlabel": {
           "align": "left"
          },
          "hovermode": "closest",
          "mapbox": {
           "style": "light"
          },
          "paper_bgcolor": "white",
          "plot_bgcolor": "#E5ECF6",
          "polar": {
           "angularaxis": {
            "gridcolor": "white",
            "linecolor": "white",
            "ticks": ""
           },
           "bgcolor": "#E5ECF6",
           "radialaxis": {
            "gridcolor": "white",
            "linecolor": "white",
            "ticks": ""
           }
          },
          "scene": {
           "xaxis": {
            "backgroundcolor": "#E5ECF6",
            "gridcolor": "white",
            "gridwidth": 2,
            "linecolor": "white",
            "showbackground": true,
            "ticks": "",
            "zerolinecolor": "white"
           },
           "yaxis": {
            "backgroundcolor": "#E5ECF6",
            "gridcolor": "white",
            "gridwidth": 2,
            "linecolor": "white",
            "showbackground": true,
            "ticks": "",
            "zerolinecolor": "white"
           },
           "zaxis": {
            "backgroundcolor": "#E5ECF6",
            "gridcolor": "white",
            "gridwidth": 2,
            "linecolor": "white",
            "showbackground": true,
            "ticks": "",
            "zerolinecolor": "white"
           }
          },
          "shapedefaults": {
           "line": {
            "color": "#2a3f5f"
           }
          },
          "ternary": {
           "aaxis": {
            "gridcolor": "white",
            "linecolor": "white",
            "ticks": ""
           },
           "baxis": {
            "gridcolor": "white",
            "linecolor": "white",
            "ticks": ""
           },
           "bgcolor": "#E5ECF6",
           "caxis": {
            "gridcolor": "white",
            "linecolor": "white",
            "ticks": ""
           }
          },
          "title": {
           "x": 0.05
          },
          "xaxis": {
           "automargin": true,
           "gridcolor": "white",
           "linecolor": "white",
           "ticks": "",
           "title": {
            "standoff": 15
           },
           "zerolinecolor": "white",
           "zerolinewidth": 2
          },
          "yaxis": {
           "automargin": true,
           "gridcolor": "white",
           "linecolor": "white",
           "ticks": "",
           "title": {
            "standoff": 15
           },
           "zerolinecolor": "white",
           "zerolinewidth": 2
          }
         }
        },
        "title": {
         "text": "Optimization History Plot"
        },
        "xaxis": {
         "title": {
          "text": "Trial"
         }
        },
        "yaxis": {
         "title": {
          "text": "Objective Value"
         }
        }
       }
      },
      "image/png": "[encoded data removed]"
     },
     "metadata": {},
     "output_type": "display_data"
    }
   ],
   "source": [
    "fig = optuna.visualization.plot_optimization_history(cnn_eval[\"study\"][\"study\"])\n",
    "show(fig)"
   ]
  }
 ],
 "metadata": {
  "kernelspec": {
   "display_name": "Python 3 (ipykernel)",
   "language": "python",
   "name": "python3"
  },
  "language_info": {
   "codemirror_mode": {
    "name": "ipython",
    "version": 3
   },
   "file_extension": ".py",
   "mimetype": "text/x-python",
   "name": "python",
   "nbconvert_exporter": "python",
   "pygments_lexer": "ipython3",
   "version": "3.12.8"
  }
 },
 "nbformat": 4,
 "nbformat_minor": 5
}
