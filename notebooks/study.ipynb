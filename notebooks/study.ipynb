{
 "cells": [
  {
   "cell_type": "code",
   "execution_count": 5,
   "id": "f8dab460-e764-41c0-b38f-c9aa57491211",
   "metadata": {},
   "outputs": [],
   "source": [
    "import optuna\n",
    "import pickle\n",
    "import torch\n",
    "import os\n",
    "import sys\n",
    "import ROOT\n",
    "import numpy as np\n",
    "import matplotlib.pyplot as plt\n",
    "import yaml\n",
    "import pandas as pd\n",
    "from matplotlib.ticker import MultipleLocator\n",
    "from scipy.optimize import linear_sum_assignment\n",
    "\n",
    "\n",
    "# Add the root folder to Python path\n",
    "root_folder = os.path.abspath(os.path.join(os.getcwd(), \"..\"))\n",
    "if root_folder not in sys.path:\n",
    "    sys.path.append(root_folder)\n",
    "\n",
    "import lib.unet_nn as UNet\n",
    "import lib.modified_aggregation as MA\n",
    "from lib.modified_aggregation_clusterer import ModifiedAggregationClusterer\n",
    "from lib.unet_clusterer import UNetClusterer\n",
    "from lib.focal import FocalH\n",
    "from lib.base_nn import Data\n",
    "from lib.metrics import count_clusters, count_labels, compute_score, total\n",
    "\n",
    "os.chdir('/home/bjartur/workspace/python_focalh_clustering/') # Laptop and Desktop"
   ]
  },
  {
   "cell_type": "markdown",
   "id": "37b27269-238d-4583-b6c3-a9fa88477f7e",
   "metadata": {},
   "source": [
    "# Study overview"
   ]
  },
  {
   "cell_type": "code",
   "execution_count": 52,
   "id": "fe4b4917-0d27-441c-b2b5-f5cb13e546f3",
   "metadata": {},
   "outputs": [
    {
     "name": "stdout",
     "output_type": "stream",
     "text": [
      "data: \n",
      "{'name': 'train_single_small', 'files': [{'path': 'data/train/TRAIN_E350_P1_N100.root', 'particles': 1, 'saturation': 4096, 'meta': {'source': 'mc', 'detector': 'prototype2'}}, {'path': 'data/train/TRAIN_E300_P1_N100.root', 'particles': 1, 'saturation': 4096, 'meta': {'source': 'mc', 'detector': 'prototype2'}}, {'path': 'data/train/TRAIN_E250_P1_N100.root', 'particles': 1, 'saturation': 4096, 'meta': {'source': 'mc', 'detector': 'prototype2'}}, {'path': 'data/train/TRAIN_E200_P1_N100.root', 'particles': 1, 'saturation': 4096, 'meta': {'source': 'mc', 'detector': 'prototype2'}}, {'path': 'data/train/TRAIN_E150_P1_N100.root', 'particles': 1, 'saturation': 4096, 'meta': {'source': 'mc', 'detector': 'prototype2'}}, {'path': 'data/train/TRAIN_E100_P1_N100.root', 'particles': 1, 'saturation': 4096, 'meta': {'source': 'mc', 'detector': 'prototype2'}}, {'path': 'data/train/TRAIN_E80_P1_N100.root', 'particles': 1, 'saturation': 4096, 'meta': {'source': 'mc', 'detector': 'prototype2'}}, {'path': 'data/train/TRAIN_E60_P1_N100.root', 'particles': 1, 'saturation': 4096, 'meta': {'source': 'mc', 'detector': 'prototype2'}}, {'path': 'data/train/TRAIN_E60_P1_N100.root', 'particles': 1, 'saturation': 4096, 'meta': {'source': 'mc', 'detector': 'prototype2'}}, {'path': 'data/train/TRAIN_E40_P1_N100.root', 'particles': 1, 'saturation': 4096, 'meta': {'source': 'mc', 'detector': 'prototype2'}}, {'path': 'data/train/TRAIN_E20_P1_N100.root', 'particles': 1, 'saturation': 4096, 'meta': {'source': 'mc', 'detector': 'prototype2'}}]}\n",
      "its: 10\n"
     ]
    }
   ],
   "source": [
    "study_file = \"studies/study_dbscan_08092025_154943.pkl\"\n",
    "with open(study_file, \"rb\") as f:\n",
    "    loaded_bundle = pickle.load(f)\n",
    "#print(f\"bundle: \\n{loaded_bundle}\")\n",
    "#print()\n",
    "#print(f\"study: {loaded_bundle['study'].best_params}\")\n",
    "#print(loaded_bundle[\"timestamps\"])\n",
    "print(f\"data: \\n{loaded_bundle[\"data\"]}\")\n",
    "print(f\"its: {loaded_bundle[\"its\"]}\")\n"
   ]
  },
  {
   "cell_type": "code",
   "execution_count": 106,
   "id": "81bfb1b2-1863-48ec-846e-0ab5902fae8b",
   "metadata": {},
   "outputs": [
    {
     "data": {
      "text/plain": [
       "2.129457712173462"
      ]
     },
     "execution_count": 106,
     "metadata": {},
     "output_type": "execute_result"
    }
   ],
   "source": [
    "loaded_bundle[\"timestamps\"][\"t_optimize_end\"] - loaded_bundle[\"timestamps\"][\"t_optimize_start\"]"
   ]
  },
  {
   "cell_type": "code",
   "execution_count": 3,
   "id": "9db7a295-2787-43cb-a950-0bf9d8c4a79d",
   "metadata": {},
   "outputs": [
    {
     "name": "stdout",
     "output_type": "stream",
     "text": [
      "par1: adsf\n",
      "par2: bla\n",
      "par3: None\n"
     ]
    }
   ],
   "source": [
    "def lst_test(par1=None, par2=None, par3=None):\n",
    "    print(f\"par1: {par1}\")\n",
    "    print(f\"par2: {par2}\")\n",
    "    print(f\"par3: {par3}\")\n",
    "lst = [\"adsf\", \"bla\"]\n",
    "lst_test(*lst)"
   ]
  },
  {
   "cell_type": "markdown",
   "id": "481f8775-e25a-4ded-b1d4-2062811c495d",
   "metadata": {},
   "source": [
    "# Evaluate studies"
   ]
  },
  {
   "cell_type": "code",
   "execution_count": 4,
   "id": "dadc6257-9cb4-4a73-b22a-e190bb2c50a7",
   "metadata": {},
   "outputs": [],
   "source": [
    "ma_study_file = \"studies/best/study_ma_24082025_133543.pkl\"\n",
    "\n",
    "cnn_study_file = \"studies/study_cnn_24082025_132142.pkl\"\n",
    "cnn_model_file = \"studies/model_cnn_24082025_132142.pt\""
   ]
  },
  {
   "cell_type": "code",
   "execution_count": 6,
   "id": "27cd5384-ecfe-4f5c-a2e4-fe384ac4811c",
   "metadata": {},
   "outputs": [
    {
     "data": {
      "text/plain": [
       "{'method': 'ma',\n",
       " 'study': <optuna.study.study.Study at 0x70cb46970b10>,\n",
       " 'config': {'analysis': {'type': 'standard',\n",
       "   'files': [{'path': 'data/E150_P5_N1000.root',\n",
       "     'particles': 5,\n",
       "     'saturation': 4096,\n",
       "     'meta': {'source': 'mc', 'detector': 'prototype2'}},\n",
       "    {'path': 'data/E150_P3_N1000.root',\n",
       "     'particles': 3,\n",
       "     'saturation': 4096,\n",
       "     'meta': {'source': 'mc', 'detector': 'prototype2'}}]}},\n",
       " 'its': 100,\n",
       " 'exec': <lib.modified_aggregation.ModifiedAggregation at 0x70cb488ff210>}"
      ]
     },
     "execution_count": 6,
     "metadata": {},
     "output_type": "execute_result"
    }
   ],
   "source": [
    "with open(ma_study_file, \"rb\") as f:\n",
    "    loaded_bundle = pickle.load(f)\n",
    "ma_study = loaded_bundle\n",
    "ma = MA.ModifiedAggregation(ma_study[\"study\"].best_params[\"seed\"], ma_study[\"study\"].best_params[\"agg\"])\n",
    "#ma = MA.ModifiedAggregation(1400, 0)\n",
    "ma_study[\"exec\"] = ma\n",
    "ma_study[\"study\"].best_params\n",
    "ma_study"
   ]
  },
  {
   "cell_type": "code",
   "execution_count": 6,
   "id": "d5a6d396-14bb-4987-96ab-2708716a3ef4",
   "metadata": {},
   "outputs": [
    {
     "data": {
      "text/plain": [
       "{'seed': 0.5,\n",
       " 'agg': 0.0,\n",
       " 'lr': 0.5625913914829032,\n",
       " 'momentum': 0.841114016126484,\n",
       " 'epochs': 92}"
      ]
     },
     "execution_count": 6,
     "metadata": {},
     "output_type": "execute_result"
    }
   ],
   "source": [
    "with open(cnn_study_file, \"rb\") as f:\n",
    "    loaded_bundle = pickle.load(f)\n",
    "u = torch.load(cnn_model_file, weights_only=False)\n",
    "cnn_study = loaded_bundle\n",
    "cnn_study[\"exec\"] = u\n",
    "cnn_study[\"study\"].best_params"
   ]
  },
  {
   "cell_type": "code",
   "execution_count": 14,
   "id": "5efb0ddb-f5b5-4f38-bb09-55fdeee85228",
   "metadata": {},
   "outputs": [
    {
     "name": "stdout",
     "output_type": "stream",
     "text": [
      "12209.0\n",
      "4095.0\n"
     ]
    },
    {
     "data": {
      "image/png": "[encoded data removed]",
      "text/plain": [
       "<Figure size 1200x400 with 3 Axes>"
      ]
     },
     "metadata": {},
     "output_type": "display_data"
    },
    {
     "data": {
      "image/png": "[encoded data removed]",
      "text/plain": [
       "<Figure size 800x400 with 2 Axes>"
      ]
     },
     "metadata": {},
     "output_type": "display_data"
    }
   ],
   "source": [
    "def cluster_event(tfile, entry, study):\n",
    "    \"\"\"\n",
    "    Just try clustering an event and view it.\n",
    "    \"\"\"\n",
    "#    study[\"exec\"]\n",
    "\n",
    "    SAT = 4096\n",
    "    tfile = ROOT.TFile(tfile, \"READ\")\n",
    "    ttree = tfile.Get(\"EventsTree\")\n",
    "    ttree.GetEntry(entry)\n",
    "\n",
    "    nplab = np.array(ttree.labels, dtype=np.int32)\n",
    "    npfrac = np.array(ttree.fractions, dtype=np.float32)\n",
    "    npvals = np.array(ttree.value, dtype=np.float32)\n",
    "    valmask = npvals > SAT\n",
    "    npvals[valmask] = SAT\n",
    "    particles = len(set(nplab))\n",
    "    \n",
    "    dataloader = Data()\n",
    "    npdlab = dataloader.get_major_labels(nplab, npfrac, particles)\n",
    "\n",
    "\n",
    "\n",
    "\n",
    "    if study[\"method\"] == \"ma\":\n",
    "        iadj = np.load(\"../p2_sim_adj_map2.npy\")\n",
    "        adj = np.load(\"../p2_adj.npy\")\n",
    "        fig, ax = plt.subplots(ncols=2, figsize=(8,4))        \n",
    "        foc = FocalH()\n",
    "        foc.heatmap(npvals[iadj], npdlab[iadj], ax[0], SAT)\n",
    "        clabels,_ = study[\"exec\"].run(adj, npvals[iadj])\n",
    "        foc.heatmap(npvals[iadj], clabels, ax[1], SAT)\n",
    "        ax[0].set_title(f\"Original. N particles: {count_labels(npdlab)}\")\n",
    "        ax[1].set_title(f\"Clustered. N clusters: {count_clusters(clabels)}\")\n",
    "\n",
    "        fig.savefig(study[\"method\"]+\"_P\"+str(particles)+\"_EV\"+str(entry))\n",
    "            \n",
    "    elif study[\"method\"] == \"cnn\":\n",
    "        iadj = np.load(\"../p2_sim_adj_map2.npy\")\n",
    "        adj = np.load(\"../p2_image_adj_21x21.npy\")\n",
    "        fig, ax = plt.subplots(ncols=3, figsize=(12,4))        \n",
    "        foc = FocalH()\n",
    "        foc.heatmap(npvals[iadj], npdlab[iadj], ax[0], SAT)\n",
    "        ret, coms, dlabels, mapping = dataloader.read_ttree_event(ttree, entry)\n",
    "        #target = dataloader.gaussian_class_activation_map(coms, 21, 21, 3)[0][0]\n",
    "\n",
    "        x = study[\"exec\"](ret)[0][0]\n",
    "        vals = x.flatten().detach().numpy()\n",
    "#        vals = vals / vals.max()\n",
    "        ax[1].imshow(x.detach().numpy())\n",
    "\n",
    "        seed = study[\"study\"].best_params[\"seed\"]\n",
    "        agg = study[\"study\"].best_params[\"agg\"]\n",
    "#        clusterizer = MA.ModifiedAggregation(seed,agg)\n",
    "        clusterizer = MA.ModifiedAggregation(0.2,0)\n",
    "        clabels,_ = clusterizer.run(adj,vals)\n",
    "\n",
    "        clabels = dataloader.invert_labels(clabels, mapping, vals, npdlab.shape[0])\n",
    "#        print(vals.max())\n",
    "        foc.heatmap(npvals[iadj], clabels.astype(np.int32), ax[2], SAT)\n",
    "        ax[0].set_title(f\"Original. N particles: {count_labels(npdlab)}\")\n",
    "        ax[1].set_title(f\"Smoothed showers\")\n",
    "        ax[2].set_title(f\"Clustered. N clusters: {count_clusters(clabels)}\")\n",
    "\n",
    "        fig.savefig(study[\"method\"]+\"_P\"+str(particles)+\"_EV\"+str(entry))\n",
    "\n",
    "        \n",
    "\n",
    "    \n",
    "    \n",
    "\n",
    "    \n",
    "filename = \"/home/bjartur/workspace/python_focalh_clustering/data/E300_P10_N1000.root\"\n",
    "entry = 400\n",
    "cluster_event(filename, entry, cnn_study)\n",
    "cluster_event(filename, entry, ma_study)"
   ]
  },
  {
   "cell_type": "markdown",
   "id": "49cde7e5-0a26-42df-a382-18b63f27153d",
   "metadata": {},
   "source": [
    "# Sklearn"
   ]
  },
  {
   "cell_type": "code",
   "execution_count": 11,
   "id": "d22435cc-4fc6-42db-9be1-bd86a2728fdc",
   "metadata": {},
   "outputs": [
    {
     "name": "stdout",
     "output_type": "stream",
     "text": [
      "{'trans::type': 'multiply', 'trans::factor': 50, 'trans::width': 1.4525251, 'method::min_samples': 1, 'method::min_cluster_size': 49, 'method::allow_single_cluster': True}\n"
     ]
    },
    {
     "data": {
      "text/plain": [
       "{'method': {'name': 'hdbscan',\n",
       "  'labels': True,\n",
       "  'parametric': False,\n",
       "  'parameters': [{'name': 'min_samples', 'type': 'int', 'min': 1, 'max': 20},\n",
       "   {'name': 'min_cluster_size', 'type': 'int', 'min': 2, 'max': 200},\n",
       "   {'name': 'allow_single_cluster', 'type': 'bool'}]},\n",
       " 'study': <optuna.study.study.Study at 0x7392ddbf5310>,\n",
       " 'data': {'name': 'small test set',\n",
       "  'files': [{'path': 'data/train/TRAIN_E150_P3_N100.root',\n",
       "    'particles': 3,\n",
       "    'saturation': 4096,\n",
       "    'meta': {'source': 'mc', 'detector': 'prototype2'}},\n",
       "   {'path': 'data/train/TRAIN_E350_P1_N100.root',\n",
       "    'particles': 1,\n",
       "    'saturation': 4096,\n",
       "    'meta': {'source': 'mc', 'detector': 'prototype2'}},\n",
       "   {'path': 'data/train/TRAIN_E60_P1_N100.root',\n",
       "    'particles': 1,\n",
       "    'saturation': 4096,\n",
       "    'meta': {'source': 'mc', 'detector': 'prototype2'}}]},\n",
       " 'its': 10}"
      ]
     },
     "execution_count": 11,
     "metadata": {},
     "output_type": "execute_result"
    }
   ],
   "source": [
    "hdbscan_study_file = \"studies/study_hdbscan_03092025_192825.pkl\"\n",
    "\n",
    "with open(hdbscan_study_file, \"rb\") as f:\n",
    "    loaded_bundle = pickle.load(f)\n",
    "hdbscan_study = loaded_bundle\n",
    "print(hdbscan_study[\"study\"].best_params)\n",
    "hdbscan_study"
   ]
  },
  {
   "cell_type": "markdown",
   "id": "8b41e563-247f-4fb4-8f29-eb1deba55961",
   "metadata": {},
   "source": [
    "# Analyse study stability"
   ]
  },
  {
   "cell_type": "markdown",
   "id": "424bff56-9ceb-428e-b532-300557aca5f8",
   "metadata": {},
   "source": [
    "Probably a good thing to, for each study, be able to show if the parameters seem to converge."
   ]
  },
  {
   "cell_type": "markdown",
   "id": "b6c0a632-a13d-4c7b-a81f-411843eefb4c",
   "metadata": {},
   "source": [
    "# Curtain test"
   ]
  },
  {
   "cell_type": "code",
   "execution_count": 47,
   "id": "b943670c-a9e3-48f3-9916-84fbe49f74f2",
   "metadata": {},
   "outputs": [
    {
     "data": {
      "text/plain": [
       "<matplotlib.image.AxesImage at 0x7b04105fdfd0>"
      ]
     },
     "execution_count": 47,
     "metadata": {},
     "output_type": "execute_result"
    },
    {
     "data": {
      "image/png": "[encoded data removed]",
      "text/plain": [
       "<Figure size 1000x500 with 2 Axes>"
      ]
     },
     "metadata": {},
     "output_type": "display_data"
    }
   ],
   "source": [
    "x_synth = np.zeros(21*21, dtype=np.float32).reshape(21,21)\n",
    "\n",
    "fig,ax=plt.subplots(ncols=2, figsize=(10,5))\n",
    "\n",
    "size=5\n",
    "c1 = (9,9)\n",
    "b1 = slice(c1[0],c1[0]+size), slice(c1[1],c1[1]+size)\n",
    "\n",
    "\n",
    "c2 = (5,5)\n",
    "b2 = slice(c2[0],c2[0]+size), slice(c2[1],c2[1]+size)\n",
    "\n",
    "\n",
    "x_synth[b1] = 1\n",
    "x_synth[b2] = 1\n",
    "\n",
    "x_synth_tensor = torch.from_numpy(x_synth).unsqueeze(0).unsqueeze(0)\n",
    "x_synth_pred = cnn_study[\"exec\"](x_synth_tensor)\n",
    "ax[0].imshow(x_synth)\n",
    "ax[1].imshow(x_synth_pred[0][0].detach().numpy())"
   ]
  },
  {
   "cell_type": "code",
   "execution_count": 58,
   "id": "f4bd8a6d-ad5d-48b7-8e9a-9b2684f03908",
   "metadata": {},
   "outputs": [
    {
     "data": {
      "image/png": "[encoded data removed]",
      "text/plain": [
       "<Figure size 1000x500 with 8 Axes>"
      ]
     },
     "metadata": {},
     "output_type": "display_data"
    }
   ],
   "source": [
    "fig,ax=plt.subplots(nrows=2,ncols=4, figsize=(10,5))\n",
    "\n",
    "for i in range(4):\n",
    "    i_synth = np.zeros(21*21, dtype=np.float32).reshape(21,21)\n",
    "    origin = 4,4\n",
    "    size = 2*(i+1)\n",
    "    bi = slice(origin[0],origin[0]+size), slice(origin[1],origin[1]+size)\n",
    "    i_synth[bi] = 1\n",
    "    \n",
    "    i_synth_tensor = torch.from_numpy(i_synth).unsqueeze(0).unsqueeze(0)\n",
    "    i_synth_pred = cnn_study[\"exec\"](i_synth_tensor)\n",
    "    ax[0][i].imshow(i_synth)\n",
    "    ax[1][i].imshow(i_synth_pred[0][0].detach().numpy())\n",
    "\n",
    "fig.savefig(\"synth_blobs.png\", bbox_inches=\"tight\")"
   ]
  },
  {
   "cell_type": "markdown",
   "id": "d77f6115-0c18-4dc4-83be-1502f230a0a7",
   "metadata": {},
   "source": [
    "# Analyse the magic"
   ]
  },
  {
   "cell_type": "markdown",
   "id": "a64a69b6-82fe-4d7e-b8c1-53a5c2a48e54",
   "metadata": {},
   "source": [
    "Add masks over showers and see if it's able to intelligently reconstruct what is behind the mask (saturated area).\n",
    "\n",
    "Call it curtain test."
   ]
  },
  {
   "cell_type": "markdown",
   "id": "641a4da0-62b0-428b-814e-d58e0172b2e3",
   "metadata": {},
   "source": [
    "# Analyse evaluation"
   ]
  },
  {
   "cell_type": "code",
   "execution_count": 2,
   "id": "b85451a9-efc2-44fb-a4f4-8c5dfde61094",
   "metadata": {},
   "outputs": [],
   "source": [
    "plt.rcParams.update({\n",
    "    \"text.usetex\": False,\n",
    "    \"font.family\": \"sans-serif\",\n",
    "    \"font.sans-serif\": [\"DejaVu Sans\"],\n",
    "    \"font.size\" : 15,\n",
    "    \"legend.fontsize\" : 12,\n",
    "    \"xtick.direction\" : \"in\",\n",
    "    \"ytick.direction\" : \"in\",\n",
    "    \"xtick.major.size\" : 5.0,\n",
    "    \"xtick.minor.size\" : 3.0,\n",
    "    \"ytick.major.size\" : 5.0,\n",
    "    \"ytick.minor.size\" : 3.0,\n",
    "    \"axes.linewidth\" : 0.8,\n",
    "    \"legend.handlelength\" : 2,\n",
    "})\n",
    "\n",
    "def plot_discrete(x,y,label=\"\"):\n",
    "    unq = np.unique(x)\n",
    "    muy = np.zeros_like(unq)\n",
    "    mux = np.zeros_like(unq)\n",
    "    sigmay = np.zeros_like(unq)\n",
    "    sigmax = np.zeros_like(unq)\n",
    "    for i in range(len(unq)):\n",
    "        mask = x == unq[i]\n",
    "        muy[i] = y[mask].mean()\n",
    "        mux[i] = x[mask].mean()\n",
    "        sigmay[i] = y[mask].std()/np.sqrt(len(y[mask]))\n",
    "        sigmax[i] = x[mask].std()/np.sqrt(len(x[mask]))\n",
    "\n",
    "    plt.errorbar(mux,muy,sigmay,marker=\".\",linestyle=\"\", label=label)\n",
    "    plt.ylim(0,2)\n",
    "    plt.legend()\n",
    "\n",
    "\n",
    "def plot_performance_particle_num(df, x_col, y_col, marker_shape=\"^\", linestyle=\"\", color=\"\", ax=None):\n",
    "    if ax is None:\n",
    "        fig, ax = plt.subplots()\n",
    "    grp = df.groupby(x_col)[y_col]\n",
    "    mu_x = grp.mean().index\n",
    "    mu_y = grp.mean().values\n",
    "    sigma_y = grp.sem().values\n",
    "    if color == \"\":\n",
    "        ax.errorbar(mu_x, mu_y, yerr=sigma_y, marker=marker_shape, linestyle=linestyle, capsize=5)\n",
    "    else:\n",
    "        ax.errorbar(mu_x, mu_y, yerr=sigma_y, marker=marker_shape, linestyle=linestyle, color=color, capsize=5)\n",
    "    #ax.plot(mu_x, mu_y)\n",
    "\n",
    "\n",
    "def plot_chunks(x, y, Nbins, label, marker_shape=\".\", color=\"\", ax=None):\n",
    "    if ax is None:\n",
    "        fig, ax = plt.subplots()\n",
    "    \n",
    "    bins = np.linspace(min(x), max(x), Nbins + 1)\n",
    "    bin_centers = (bins[:-1] + bins[1:]) / 2\n",
    "    mu_y = np.zeros(Nbins)\n",
    "    sigma_y = np.zeros(Nbins)\n",
    "    \n",
    "    for i in range(Nbins):\n",
    "        mask = (x >= bins[i]) & (x < bins[i+1])\n",
    "        if np.any(mask):\n",
    "            mu_y[i] = np.mean(y[mask])\n",
    "            sigma_y[i] = np.std(y[mask]) / np.sqrt(np.sum(mask))\n",
    "\n",
    "    if color == \"\":\n",
    "        ax.errorbar(bin_centers, mu_y, yerr=sigma_y, marker=marker_shape, linestyle='solid', capsize=5)\n",
    "    else:\n",
    "        ax.errorbar(bin_centers, mu_y, yerr=sigma_y, marker=marker_shape, linestyle='solid', color=color, capsize=5)\n",
    "\n",
    "\n",
    "\n",
    "\n",
    "def format_with_suffix(num):\n",
    "    if num >= 1e9:\n",
    "        return f\"{num / 1e9:.1f}B\"\n",
    "    elif num >= 1e6:\n",
    "        return f\"{num / 1e6:.1f}M\"\n",
    "    elif num >= 1e3:\n",
    "        return f\"{num / 1e3:.1f}K\"\n",
    "    else:\n",
    "        return str(num)\n",
    "\n",
    "\n",
    "#plot_discrete(count, score)"
   ]
  },
  {
   "cell_type": "code",
   "execution_count": 3,
   "id": "6dccb2ea-a8e8-4e47-bfd8-1fc4eb4f14a7",
   "metadata": {},
   "outputs": [],
   "source": [
    "#ma_eval_file = \"evaluation/eval_ma_01092025_053548.pkl\"\n",
    "#ma_eval_file = \"evaluation/eval_ma_07092025_103817.pkl\"\n",
    "#ma_eval_file = \"evaluation/eval_ma_06092025_102441.pkl\"\n",
    "#ma_eval_file = \"evaluation/eval_ma_08092025_092411.pkl\"\n",
    "ma_eval_file = \"evaluation/eval_ma_08092025_200714.pkl\" # train_single_small\n",
    "\n",
    "\n",
    "\n",
    "\n",
    "#cnn_eval_file = \"evaluation/eval_cnn_02092025_060217.pkl\"\n",
    "#cnn_eval_file = \"evaluation/eval_cnn_02092025_104200.pkl\"\n",
    "#cnn_eval_file = \"evaluation/eval_cnn_07092025_094926.pkl\"\n",
    "cnn_eval_file = \"evaluation/eval_cnn_07092025_102542.pkl\"\n",
    "\n",
    "\n",
    "\n",
    "#hdbscan_eval_file = \"evaluation/eval_hdbscan_03092025_201034.pkl\"\n",
    "#hdbscan_eval_file = \"evaluation/eval_hdbscan_07092025_103658.pkl\"\n",
    "#hdbscan_eval_file = \"evaluation/eval_hdbscan_05092025_113309.pkl\"\n",
    "hdbscan_eval_file = \"evaluation/eval_hdbscan_08092025_182644.pkl\" # train_tiny\n",
    "#hdbscan_eval_file = \"evaluation/eval_hdbscan_08092025_194252.pkl\" # train_tiny smaller multiply\n",
    "\n",
    "\n",
    "\n",
    "dbscan_eval_file = \"evaluation/eval_dbscan_08092025_162047.pkl\"\n",
    "\n",
    "\n",
    "with open(cnn_eval_file, \"rb\") as f:\n",
    "    loaded_bundle = pickle.load(f)\n",
    "cnn_eval = loaded_bundle\n",
    "\n",
    "\n",
    "with open(ma_eval_file, \"rb\") as f:\n",
    "    loaded_bundle = pickle.load(f)\n",
    "ma_eval = loaded_bundle\n",
    "\n",
    "\n",
    "with open(hdbscan_eval_file, \"rb\") as f:\n",
    "    loaded_bundle = pickle.load(f)\n",
    "hdbscan_eval = loaded_bundle\n",
    "\n",
    "\n",
    "with open(dbscan_eval_file, \"rb\") as f:\n",
    "    loaded_bundle = pickle.load(f)\n",
    "dbscan_eval = loaded_bundle\n",
    "\n",
    "\n",
    "#cnn_eval[\"method\"]\n",
    "#cnn_eval[\"eval\"]\n",
    "\n",
    "\n",
    "#hdbscan_eval[\"data\"]"
   ]
  },
  {
   "cell_type": "code",
   "execution_count": 85,
   "id": "23f06d52-ec93-4c47-9f88-3f140bb28c62",
   "metadata": {},
   "outputs": [
    {
     "name": "stdout",
     "output_type": "stream",
     "text": [
      "[[0 1]\n",
      " [1 0]]\n",
      "Total objects: 2\n",
      "True energy: 350.0, recon. en.: 214.808837890625, recon. en. pred: 205.2213134765625\n",
      "Confusion: 9.5875244140625\n",
      "Resolved.\n",
      "True energy: 350.0, recon. en.: 295.3487548828125, recon. en. pred: 201.2239990234375\n",
      "Confusion: 94.124755859375\n",
      "Not resolved.\n",
      "Resolved: 1 out of 2\n"
     ]
    },
    {
     "data": {
      "image/png": "[encoded data removed]",
      "text/plain": [
       "<Figure size 640x480 with 2 Axes>"
      ]
     },
     "metadata": {},
     "output_type": "display_data"
    }
   ],
   "source": [
    "def reconstruct_energy(adc,a,b):\n",
    "#    a, b = 181.52, -3272\n",
    "#    a, b = 298.2, 7570\n",
    "    return (adc-b)/a\n",
    "\n",
    "def energy_resolution(E,a,b,c):\n",
    "#    a, b, c = 1.28, 0.00, 0.09\n",
    "    sigma_E = np.sqrt((a**2)/E + (b**2)/(E**2) + c**2)\n",
    "    return sigma_E * E\n",
    "\n",
    "\n",
    "def compute_sums(label, values):\n",
    "    sums = []\n",
    "    for l in set(label):\n",
    "        if l == 0:\n",
    "            continue\n",
    "        mask = label == l\n",
    "        sums.append(values[mask].sum())\n",
    "    return np.array(sums)\n",
    "\n",
    "\n",
    "def resolved(tags, labels, values, E, lin_a, lin_b, eres_a, eres_b, eres_c):\n",
    "    \"\"\"\n",
    "    For some clustered event, compute whether they are resolved\n",
    "    by looking at the energy confusion and energy resolution.\n",
    "    Binary classification. Tolerance interval. Threshold-Based Classification.\n",
    "    This metric \"scales\" with energy.\n",
    "\n",
    "\n",
    "    I need some strategy of matching elements of two lists:\n",
    "        scipy.optimize.linear_sum_assignment ?\n",
    "    Based on the best matches, compute confusion energy\n",
    "        absolute difference\n",
    "    Return for each whether they are resolved or not.\n",
    "    Maybe for each non-matched (more/less clusters than showers)\n",
    "    return a non-resolved.\n",
    "\n",
    "    Count total \"objects\" and return resolved and total\n",
    "\n",
    "\n",
    "    1. Reconstruct all\n",
    "    2. Use match_labels()\n",
    "    3. Loop over matched and count resolved\n",
    "    4. Count out-of-bounds\n",
    "    5. Return (resolved, total objects)\n",
    "\n",
    "    \"\"\"\n",
    "\n",
    "    sigma_E = energy_resolution(E, eres_a, eres_b, eres_c)\n",
    "    E_true = reconstruct_energy(compute_sums(labels,values), lin_a, lin_b)\n",
    "    E_pred = reconstruct_energy(compute_sums(tags,values), lin_a, lin_b)\n",
    "    rows,cols = match_labels(E_true, E_pred)\n",
    "\n",
    "    resolved = 0\n",
    "    max_length = max(len(E_pred), len(E_true))\n",
    "    \n",
    "    # TO-DO: with arrays\n",
    "    for i in range(len(rows)):\n",
    "        E_confusion = abs(E_true[rows[i]] - E_pred[cols[i]])\n",
    "        if E_confusion < sigma_E[i]:\n",
    "            resolved += 1\n",
    "    return resolved, max_length\n",
    "\n",
    "\n",
    "def match_labels(true_labels, predicted_labels):\n",
    "    cost_matrix = np.abs(np.subtract.outer(true_labels, predicted_labels))\n",
    "#    print(f\"cost matrix:\\n{cost_matrix}\")\n",
    "    row_ind, col_ind = linear_sum_assignment(cost_matrix)\n",
    "    return row_ind, col_ind\n",
    "    \n",
    "\n",
    "def test_separation(d, e):\n",
    "    energies = d[\"eval\"][\"energy\"][e]\n",
    "#    eres = energy_resolution(energies, 1.28, 0.00, 0.09)\n",
    "#    print(f\"Energies: {energies}, resolution: {eres}\")\n",
    "#    print(energy_resolution(d[\"eval\"][\"energy\"][e]))\n",
    "    labels = d[\"eval\"][\"labels\"][e]\n",
    "    values = d[\"eval\"][\"values\"][e]\n",
    "    tags = d[\"eval\"][\"tags\"][e]\n",
    "    foc = FocalH()\n",
    "    iadj = np.load(\"p2_sim_adj_map2.npy\")\n",
    "    fig,ax=plt.subplots(ncols=2)\n",
    "    foc.heatmap(values[iadj], labels[iadj],ax[0])\n",
    "    foc.heatmap(values[iadj], tags[iadj],ax[1]) # EVAL IS WRONGLY NOT USING IADJ\n",
    "#    print(total(labels[iadj], values[iadj]))\n",
    "#    sums_true = reconstruct_energy(compute_sums(labels[iadj], values[iadj]))\n",
    "#    sums_pred = reconstruct_energy(compute_sums(tags[iadj], values[iadj]))\n",
    "#    print(sums_true)\n",
    "#    print(sums_pred)\n",
    "#    matches = np.vstack([match_labels(sums_true, sums_pred)])\n",
    "#    print(matches)\n",
    "#    print(f\"{abs(len(sums_pred)-len(sums_true))}\")\n",
    "    separated = resolved(tags[iadj], labels[iadj], values[iadj], energies, 298.2, 7570, 1.28, 0.00, 0.09)\n",
    "    print(f\"Resolved: {separated[0]} out of {separated[1]}\")\n",
    "#    resolved(tags[iadj], labels[iadj], values[iadj], energies, 181.52, -3272, 1.28, 0.00, 0.09)\n",
    "\n",
    "\n",
    "    # 150\n",
    "test_separation(ma_eval, 114)"
   ]
  },
  {
   "cell_type": "code",
   "execution_count": null,
   "id": "210aea28-e85b-4656-9c86-de4d2996eebe",
   "metadata": {},
   "outputs": [],
   "source": []
  },
  {
   "cell_type": "code",
   "execution_count": 68,
   "id": "16b59669-9bc1-453f-b804-f12f6fb7dc30",
   "metadata": {},
   "outputs": [
    {
     "name": "stdout",
     "output_type": "stream",
     "text": [
      "cost matrix:\n",
      "[[ 10  90]\n",
      " [ 90  10]\n",
      " [109 189]]\n"
     ]
    },
    {
     "data": {
      "text/plain": [
       "array([[0, 1],\n",
       "       [0, 1]])"
      ]
     },
     "execution_count": 68,
     "metadata": {},
     "output_type": "execute_result"
    }
   ],
   "source": [
    "import numpy as np\n",
    "cost = np.array([[4, 1, 3], [2, 0, 5], [3, 2, 2]])\n",
    "from scipy.optimize import linear_sum_assignment\n",
    "row_ind, col_ind = linear_sum_assignment(cost)\n",
    "#col_ind\n",
    "#print(cost)\n",
    "cost[row_ind, col_ind]\n",
    "\n",
    "\n",
    "# Example usage\n",
    "true_labels = [100, 200, 1]\n",
    "predicted_labels = [110, 190]\n",
    "\n",
    "row_ind, col_ind = match_labels(true_labels, predicted_labels)\n",
    "\n",
    "np.vstack([row_ind, col_ind])"
   ]
  },
  {
   "cell_type": "code",
   "execution_count": 66,
   "id": "99ee24c7-1260-4933-8163-e7d066fdb11d",
   "metadata": {},
   "outputs": [
    {
     "name": "stdout",
     "output_type": "stream",
     "text": [
      "[(0, np.int64(1)), (1, np.int64(0)), (2, np.int64(0))]\n"
     ]
    }
   ],
   "source": [
    "arr1 = np.array([100, 200, 300])\n",
    "arr2 = np.array([190, 50, 500])\n",
    "indexes = abs(arr1[:, None] - arr2).argmin(axis=1)\n",
    "out = list(enumerate(indexes))\n",
    "print(out)\n",
    "\n",
    "# scipy.optimize.linear_sum_assignment"
   ]
  },
  {
   "cell_type": "code",
   "execution_count": 55,
   "id": "2b9a3877-d148-4b4e-a524-7e371ed3b38c",
   "metadata": {},
   "outputs": [
    {
     "data": {
      "text/plain": [
       "<Axes: >"
      ]
     },
     "execution_count": 55,
     "metadata": {},
     "output_type": "execute_result"
    },
    {
     "data": {
      "image/png": "[encoded data removed]",
      "text/plain": [
       "<Figure size 640x480 with 2 Axes>"
      ]
     },
     "metadata": {},
     "output_type": "display_data"
    }
   ],
   "source": [
    "idx = 3000\n",
    "iadj = np.load(\"p2_sim_adj_map2.npy\")\n",
    "vals = cnn_eval[\"eval\"][\"values\"][idx]\n",
    "labels = cnn_eval[\"eval\"][\"labels\"][idx]\n",
    "tags = cnn_eval[\"eval\"][\"tags\"][idx]\n",
    "\n",
    "foc = FocalH()\n",
    "fig,ax = plt.subplots(ncols=2)\n",
    "foc.heatmap(vals[iadj], labels[iadj], ax[0])\n",
    "foc.heatmap(vals[iadj], tags, ax[1])\n"
   ]
  },
  {
   "cell_type": "code",
   "execution_count": 38,
   "id": "c1077cf6-69ac-463b-be7a-239818f308fd",
   "metadata": {},
   "outputs": [
    {
     "name": "stdout",
     "output_type": "stream",
     "text": [
      "10000\n"
     ]
    },
    {
     "name": "stderr",
     "output_type": "stream",
     "text": [
      "/tmp/ipykernel_271483/840654081.py:8: RuntimeWarning: Mean of empty slice.\n",
      "  dists[i] = upper_tri.mean()\n",
      "/home/bjartur/workspace/anaconda3/envs/focalh/lib/python3.12/site-packages/numpy/_core/_methods.py:147: RuntimeWarning: invalid value encountered in scalar divide\n",
      "  ret = ret.dtype.type(ret / rcount)\n"
     ]
    },
    {
     "name": "stdout",
     "output_type": "stream",
     "text": [
      "9076\n",
      "10000\n",
      "10000\n"
     ]
    }
   ],
   "source": [
    "def dist(coms):\n",
    "    print(len(coms))\n",
    "    dists = [None]*len(coms)\n",
    "    for i in range(len(coms)):\n",
    "        diff = coms[i][:, np.newaxis, :] - coms[i][np.newaxis, :, :]\n",
    "        dist = np.sqrt((diff ** 2).sum(axis=-1))\n",
    "        upper_tri = dist[np.triu_indices_from(dist, k=1)]\n",
    "        dists[i] = upper_tri.mean()\n",
    "    return dists\n",
    "\n",
    "\n",
    "def to_dataframe(d):\n",
    "#    print(d[\"method\"])\n",
    "    df = pd.DataFrame({\n",
    "        \"efficiency\": d[\"eval\"][\"efficiency\"],\n",
    "        \"vmeasure\": d[\"eval\"][\"vmeasure\"],\n",
    "#        \"vmeasure_weighted\": d[\"vmeasure_weighted\"],\n",
    "        \"coverage\": d[\"eval\"][\"coverage\"],\n",
    "        \"particles\": d[\"eval\"][\"particles\"],\n",
    "        \"avg_energy\": d[\"eval\"][\"avg_energy\"],\n",
    "        \"coms_dists\" : dist(d[\"eval\"][\"coms\"]),\n",
    "                         })\n",
    "    return df\n",
    "\n",
    "\n",
    "\n",
    "df_ma = to_dataframe(ma_eval)\n",
    "df_cnn = to_dataframe(cnn_eval)\n",
    "df_hdbscan = to_dataframe(hdbscan_eval)\n",
    "df_dbscan = to_dataframe(dbscan_eval)"
   ]
  },
  {
   "cell_type": "code",
   "execution_count": null,
   "id": "18872f65-c2fb-4acd-adc1-6603e59cffd1",
   "metadata": {},
   "outputs": [],
   "source": []
  },
  {
   "cell_type": "code",
   "execution_count": 41,
   "id": "b3af27b3-ebcc-4c50-8917-bc8dcb7e1ef8",
   "metadata": {},
   "outputs": [
    {
     "data": {
      "image/png": "[encoded data removed]",
      "text/plain": [
       "<Figure size 640x480 with 1 Axes>"
      ]
     },
     "metadata": {},
     "output_type": "display_data"
    }
   ],
   "source": [
    "\n",
    "fig,ax = plt.subplots()\n",
    "plot_performance_particle_num(df_ma, \"avg_energy\", \"efficiency\", marker_shape=\"^\", linestyle=\"dashed\", ax=ax)\n",
    "plot_performance_particle_num(df_cnn, \"avg_energy\", \"efficiency\", marker_shape=\"s\", linestyle=\"dashed\", ax=ax)\n",
    "plot_performance_particle_num(df_hdbscan, \"avg_energy\", \"efficiency\", marker_shape=\"o\", linestyle=\"dashed\", ax=ax)\n",
    "plot_performance_particle_num(df_dbscan, \"avg_energy\", \"efficiency\", marker_shape=\"o\", linestyle=\"dashed\", ax=ax)\n",
    "#ax.set_xticks([1,2,3,4,5,6,7,8,9,10], [\"1\",\"2\",\"3\",\"4\",\"5\",\"6\",\"7\",\"8\",\"9\",\"10\"])\n",
    "ax.set_xticks([0,50,100,150,200,250,300,350], [\"0\",\"50\",\"100\",\"150\",\"200\",\"250\",\"300\",\"350\"])\n",
    "#ax.set_xticks([1,2], [\"1\",\"2\"])\n",
    "ax.set_ylim(0,3)\n",
    "ax.xaxis.set_minor_locator(MultipleLocator(10))\n",
    "#ax.yaxis.set_minor_locator(MultipleLocator(0.2))\n",
    "ax.yaxis.set_ticks_position(\"both\")\n",
    "ax.xaxis.set_ticks_position(\"both\")\n",
    "ax.set_xlabel(\"Energy [GeV]\")\n",
    "ax.set_ylabel(\"Efficiency [$N_{clusters}/N_{particles}$]\")\n",
    "ax.axhline(1, color=\"grey\", linestyle=\"dotted\")\n",
    "ax.scatter([],[], label=\"Modified Aggregation\", marker=\"^\")\n",
    "ax.scatter([],[], label=\"CNN+Modified Aggregation\", marker=\"s\")\n",
    "ax.scatter([],[], label=\"HDBSCAN\", marker=\"s\")\n",
    "ax.scatter([],[], label=\"DBSCAN\", marker=\"s\")\n",
    "ax.legend(framealpha=0)\n",
    "\n",
    "#ax.text(0.00, 1.05, \"FoCal-H Prototype 2\", transform=plt.gca().transAxes, ha=\"left\", va=\"center\")\n",
    "#ax.text(1.00, 1.05, f\"${len(df_ma):.0E}$ MC Events\", transform=plt.gca().transAxes, ha=\"right\", va=\"center\")\n",
    "\n",
    "\n",
    "ax.text(0.03, 0.93, \"FoCal-H\", transform=plt.gca().transAxes, ha=\"left\", va=\"center\")\n",
    "ax.text(0.03, 0.86, \"Prototype 2 Monte-Carlo\", transform=plt.gca().transAxes, ha=\"left\", va=\"center\", fontsize=10)\n",
    "ax.text(0.03, 0.80, f\"1-10 particles\", transform=plt.gca().transAxes, ha=\"left\", va=\"center\", fontsize=10)\n",
    "ax.text(0.03, 0.74, f\"{format_with_suffix(len(df_ma))} events\", transform=plt.gca().transAxes, ha=\"left\", va=\"center\", fontsize=10)\n",
    "\n",
    "\n",
    "#ax.grid(True)\n",
    "fig.savefig(\"eval_eff_energy_many.png\", bbox_inches=\"tight\")"
   ]
  },
  {
   "cell_type": "code",
   "execution_count": 54,
   "id": "3fb01291-be64-40d8-9d25-0db2563f1484",
   "metadata": {},
   "outputs": [
    {
     "data": {
      "image/png": "[encoded data removed]",
      "text/plain": [
       "<Figure size 640x480 with 1 Axes>"
      ]
     },
     "metadata": {},
     "output_type": "display_data"
    }
   ],
   "source": [
    "ma_single = df_ma[\"particles\"] == 1\n",
    "cnn_single = df_cnn[\"particles\"] == 1\n",
    "hdbscan_single = df_hdbscan[\"particles\"] == 1\n",
    "dbscan_single = df_dbscan[\"particles\"] == 1\n",
    "\n",
    "fig,ax = plt.subplots()\n",
    "plot_performance_particle_num(df_ma[ma_single], \"avg_energy\", \"efficiency\", marker_shape=\"^\", linestyle=\"dashed\", ax=ax)\n",
    "plot_performance_particle_num(df_cnn[cnn_single], \"avg_energy\", \"efficiency\", marker_shape=\"s\", linestyle=\"dashed\", ax=ax)\n",
    "plot_performance_particle_num(df_hdbscan[hdbscan_single], \"avg_energy\", \"efficiency\", marker_shape=\"o\", linestyle=\"dashed\", ax=ax)\n",
    "plot_performance_particle_num(df_dbscan, \"avg_energy\", \"efficiency\", marker_shape=\"o\", linestyle=\"dashed\", ax=ax)\n",
    "#ax.set_xticks([1,2,3,4,5,6,7,8,9,10], [\"1\",\"2\",\"3\",\"4\",\"5\",\"6\",\"7\",\"8\",\"9\",\"10\"])\n",
    "ax.set_xticks([0,50,100,150,200,250,300,350], [\"0\",\"50\",\"100\",\"150\",\"200\",\"250\",\"300\",\"350\"])\n",
    "#ax.set_xticks([1,2], [\"1\",\"2\"])\n",
    "ax.set_ylim(0,4)\n",
    "ax.xaxis.set_minor_locator(MultipleLocator(10))\n",
    "#ax.yaxis.set_minor_locator(MultipleLocator(0.2))\n",
    "ax.yaxis.set_ticks_position(\"both\")\n",
    "ax.xaxis.set_ticks_position(\"both\")\n",
    "ax.set_xlabel(\"Energy [GeV]\")\n",
    "ax.set_ylabel(\"Efficiency [$N_{clusters}/N_{particles}$]\")\n",
    "ax.axhline(1, color=\"grey\", linestyle=\"dotted\")\n",
    "ax.scatter([],[], label=\"Modified Aggregation\", marker=\"^\")\n",
    "ax.scatter([],[], label=\"CNN+Modified Aggregation\", marker=\"s\")\n",
    "ax.scatter([],[], label=\"HDBSCAN\", marker=\"o\")\n",
    "ax.scatter([],[], label=\"DBSCAN\", marker=\"o\")\n",
    "ax.legend(framealpha=0)\n",
    "\n",
    "ax.text(0.03, 0.93, \"FoCal-H\", transform=plt.gca().transAxes, ha=\"left\", va=\"center\")\n",
    "ax.text(0.03, 0.86, \"Prototype 2 Monte-Carlo\", transform=plt.gca().transAxes, ha=\"left\", va=\"center\", fontsize=10)\n",
    "ax.text(0.03, 0.80, f\"Single particles\", transform=plt.gca().transAxes, ha=\"left\", va=\"center\", fontsize=10)\n",
    "ax.text(0.03, 0.74, f\"{format_with_suffix(len(df_ma[ma_single]))} events\", transform=plt.gca().transAxes, ha=\"left\", va=\"center\", fontsize=10)\n",
    "\n",
    "fig.savefig(\"eval_eff_energy_single.png\", bbox_inches=\"tight\")"
   ]
  },
  {
   "cell_type": "code",
   "execution_count": 44,
   "id": "d15bae85-479d-43cf-974e-c3929929d9ce",
   "metadata": {},
   "outputs": [
    {
     "data": {
      "image/png": "[encoded data removed]",
      "text/plain": [
       "<Figure size 640x480 with 1 Axes>"
      ]
     },
     "metadata": {},
     "output_type": "display_data"
    }
   ],
   "source": [
    "fig,ax = plt.subplots()\n",
    "plot_performance_particle_num(df_ma, \"particles\", \"efficiency\", marker_shape=\"^\", linestyle=\"dashed\", ax=ax)\n",
    "plot_performance_particle_num(df_cnn, \"particles\", \"efficiency\", marker_shape=\"s\", linestyle=\"dashed\", ax=ax)\n",
    "plot_performance_particle_num(df_hdbscan, \"particles\", \"efficiency\", marker_shape=\"o\", linestyle=\"dashed\", ax=ax)\n",
    "ax.set_xticks([1,2,3,4,5,6,7,8,9,10], [\"1\",\"2\",\"3\",\"4\",\"5\",\"6\",\"7\",\"8\",\"9\",\"10\"])\n",
    "#ax.set_xticks([0,50,100,150,200,250,300,350], [\"0\",\"50\",\"100\",\"150\",\"200\",\"250\",\"300\",\"350\"])\n",
    "#ax.set_xticks([1,2], [\"1\",\"2\"])\n",
    "ax.set_ylim(0,3)\n",
    "ax.xaxis.set_minor_locator(MultipleLocator(10))\n",
    "#ax.yaxis.set_minor_locator(MultipleLocator(0.2))\n",
    "ax.yaxis.set_ticks_position(\"both\")\n",
    "ax.xaxis.set_ticks_position(\"both\")\n",
    "ax.set_xlabel(\"Particles\")\n",
    "ax.set_ylabel(\"Efficiency [$N_{clusters}/N_{particles}$]\")\n",
    "ax.axhline(1, color=\"grey\", linestyle=\"dotted\")\n",
    "ax.scatter([],[], label=\"Modified Aggregation\", marker=\"^\")\n",
    "ax.scatter([],[], label=\"CNN+Modified Aggregation\", marker=\"s\")\n",
    "ax.scatter([],[], label=\"HDBSCAN\", marker=\"o\")\n",
    "ax.legend(framealpha=0)\n",
    "\n",
    "#ax.text(0.00, 1.05, \"FoCal-H Prototype 2\", transform=plt.gca().transAxes, ha=\"left\", va=\"center\")\n",
    "#ax.text(1.00, 1.05, f\"${len(df_ma):.0E}$ MC Events\", transform=plt.gca().transAxes, ha=\"right\", va=\"center\")\n",
    "\n",
    "ax.text(0.03, 0.93, \"FoCal-H\", transform=plt.gca().transAxes, ha=\"left\", va=\"center\")\n",
    "ax.text(0.03, 0.86, \"Prototype 2 Monte-Carlo\", transform=plt.gca().transAxes, ha=\"left\", va=\"center\", fontsize=10)\n",
    "ax.text(0.03, 0.80, f\"Energy: 20-350 GeV\", transform=plt.gca().transAxes, ha=\"left\", va=\"center\", fontsize=10)\n",
    "ax.text(0.03, 0.74, f\"{format_with_suffix(len(df_ma[ma_single]))} events\", transform=plt.gca().transAxes, ha=\"left\", va=\"center\", fontsize=10)\n",
    "\n",
    "\n",
    "\n",
    "#ax.grid(True)\n",
    "fig.savefig(\"eval_eff_particles.png\", bbox_inches=\"tight\")"
   ]
  },
  {
   "cell_type": "code",
   "execution_count": 21,
   "id": "3bf1f41b-cfa9-43f7-a1f7-386cf6ff87ee",
   "metadata": {},
   "outputs": [
    {
     "data": {
      "image/png": "[encoded data removed]",
      "text/plain": [
       "<Figure size 640x480 with 1 Axes>"
      ]
     },
     "metadata": {},
     "output_type": "display_data"
    }
   ],
   "source": [
    "ma_two = df_ma[\"particles\"] == 2\n",
    "cnn_two = df_cnn[\"particles\"] == 2\n",
    "hdbscan_two = df_hdbscan[\"particles\"] == 2\n",
    "bins=10\n",
    "fig,ax = plt.subplots()\n",
    "#plot_performance_particle_num(df_ma[ma_two], \"coms_dists\", \"vmeasure\", marker_shape=\"^\", linestyle=\"dashed\", ax=ax)\n",
    "plot_chunks(df_ma[ma_two][\"coms_dists\"], df_ma[ma_two][\"efficiency\"], bins, \"Modified Aggregation\", \"o\", \"\", ax)\n",
    "plot_chunks(df_cnn[cnn_two][\"coms_dists\"], df_cnn[cnn_two][\"efficiency\"], bins, \"CNN+Modified Aggregation\", \"o\", \"\", ax)\n",
    "plot_chunks(df_hdbscan[hdbscan_two][\"coms_dists\"], df_hdbscan[hdbscan_two][\"efficiency\"], bins, \"HDBSCAN\", \"o\", \"\", ax)\n",
    "\n",
    "ax.set_xticks(\n",
    "    [0, 2, 4, 6, 8, 10, 12, 14, 16, 18, 20],\n",
    "    [\"0\", \"2\", \"4\", \"6\", \"8\", \"10\", \"12\", \"14\", \"16\", \"18\", \"20\"])\n",
    "ax.set_ylim(0,2)\n",
    "ax.xaxis.set_minor_locator(MultipleLocator(1))\n",
    "#ax.yaxis.set_minor_locator(MultipleLocator(0.2))\n",
    "ax.yaxis.set_ticks_position(\"both\")\n",
    "ax.xaxis.set_ticks_position(\"both\")\n",
    "ax.set_xlabel(\"Center-of-mass distance [cm]\")\n",
    "ax.set_ylabel(\"Efficiency [$N_{clusters}/N_{particles}$]\")\n",
    "\n",
    "ax.scatter([],[], label=\"Modified Aggregation\", marker=\"^\")\n",
    "ax.scatter([],[], label=\"CNN+Modified Aggregation\", marker=\"s\")\n",
    "ax.scatter([],[], label=\"HDBSCAN\", marker=\"o\")\n",
    "ax.legend(framealpha=0)\n",
    "ax.axhline(1, color=\"grey\", linestyle=\"dotted\")\n",
    "\n",
    "ax.text(0.03, 0.93, \"FoCal-H\", transform=plt.gca().transAxes, ha=\"left\", va=\"center\")\n",
    "ax.text(0.03, 0.86, \"Prototype 2 Monte-Carlo\", transform=plt.gca().transAxes, ha=\"left\", va=\"center\", fontsize=10)\n",
    "ax.text(0.03, 0.80, f\"Energy: 20-350 GeV\", transform=plt.gca().transAxes, ha=\"left\", va=\"center\", fontsize=10)\n",
    "ax.text(0.03, 0.74, f\"2-particle events\", transform=plt.gca().transAxes, ha=\"left\", va=\"center\", fontsize=10)\n",
    "ax.text(0.03, 0.68, f\"{format_with_suffix(len(df_ma[ma_two]))} events\", transform=plt.gca().transAxes, ha=\"left\", va=\"center\", fontsize=10)\n",
    "\n",
    "\n",
    "fig.savefig(\"eval_eff_com.png\", bbox_inches=\"tight\")"
   ]
  },
  {
   "cell_type": "code",
   "execution_count": 99,
   "id": "4024814d-3061-40a3-8eb7-809c960a4924",
   "metadata": {},
   "outputs": [
    {
     "data": {
      "text/html": [
       "<div>\n",
       "<style scoped>\n",
       "    .dataframe tbody tr th:only-of-type {\n",
       "        vertical-align: middle;\n",
       "    }\n",
       "\n",
       "    .dataframe tbody tr th {\n",
       "        vertical-align: top;\n",
       "    }\n",
       "\n",
       "    .dataframe thead th {\n",
       "        text-align: right;\n",
       "    }\n",
       "</style>\n",
       "<table border=\"1\" class=\"dataframe\">\n",
       "  <thead>\n",
       "    <tr style=\"text-align: right;\">\n",
       "      <th></th>\n",
       "      <th>efficiency</th>\n",
       "      <th>vmeasure</th>\n",
       "      <th>coverage</th>\n",
       "      <th>particles</th>\n",
       "      <th>avg_energy</th>\n",
       "      <th>coms_dists</th>\n",
       "    </tr>\n",
       "  </thead>\n",
       "  <tbody>\n",
       "    <tr>\n",
       "      <th>99</th>\n",
       "      <td>1.0</td>\n",
       "      <td>0.163939</td>\n",
       "      <td>0.562266</td>\n",
       "      <td>2.0</td>\n",
       "      <td>350.0</td>\n",
       "      <td>9.564399</td>\n",
       "    </tr>\n",
       "    <tr>\n",
       "      <th>100</th>\n",
       "      <td>1.0</td>\n",
       "      <td>0.127150</td>\n",
       "      <td>0.529139</td>\n",
       "      <td>2.0</td>\n",
       "      <td>350.0</td>\n",
       "      <td>10.894630</td>\n",
       "    </tr>\n",
       "    <tr>\n",
       "      <th>101</th>\n",
       "      <td>1.5</td>\n",
       "      <td>0.076990</td>\n",
       "      <td>0.602499</td>\n",
       "      <td>2.0</td>\n",
       "      <td>350.0</td>\n",
       "      <td>6.120543</td>\n",
       "    </tr>\n",
       "    <tr>\n",
       "      <th>102</th>\n",
       "      <td>1.0</td>\n",
       "      <td>0.167439</td>\n",
       "      <td>0.368071</td>\n",
       "      <td>2.0</td>\n",
       "      <td>350.0</td>\n",
       "      <td>11.438643</td>\n",
       "    </tr>\n",
       "    <tr>\n",
       "      <th>103</th>\n",
       "      <td>0.5</td>\n",
       "      <td>0.008726</td>\n",
       "      <td>0.065573</td>\n",
       "      <td>2.0</td>\n",
       "      <td>350.0</td>\n",
       "      <td>0.556123</td>\n",
       "    </tr>\n",
       "    <tr>\n",
       "      <th>...</th>\n",
       "      <td>...</td>\n",
       "      <td>...</td>\n",
       "      <td>...</td>\n",
       "      <td>...</td>\n",
       "      <td>...</td>\n",
       "      <td>...</td>\n",
       "    </tr>\n",
       "    <tr>\n",
       "      <th>8415</th>\n",
       "      <td>1.5</td>\n",
       "      <td>0.069333</td>\n",
       "      <td>0.064241</td>\n",
       "      <td>2.0</td>\n",
       "      <td>20.0</td>\n",
       "      <td>9.522663</td>\n",
       "    </tr>\n",
       "    <tr>\n",
       "      <th>8416</th>\n",
       "      <td>0.5</td>\n",
       "      <td>0.000286</td>\n",
       "      <td>0.012940</td>\n",
       "      <td>2.0</td>\n",
       "      <td>20.0</td>\n",
       "      <td>2.423641</td>\n",
       "    </tr>\n",
       "    <tr>\n",
       "      <th>8417</th>\n",
       "      <td>1.5</td>\n",
       "      <td>0.040040</td>\n",
       "      <td>0.304618</td>\n",
       "      <td>2.0</td>\n",
       "      <td>20.0</td>\n",
       "      <td>12.494414</td>\n",
       "    </tr>\n",
       "    <tr>\n",
       "      <th>8418</th>\n",
       "      <td>2.0</td>\n",
       "      <td>0.027227</td>\n",
       "      <td>0.668976</td>\n",
       "      <td>2.0</td>\n",
       "      <td>20.0</td>\n",
       "      <td>6.464932</td>\n",
       "    </tr>\n",
       "    <tr>\n",
       "      <th>8486</th>\n",
       "      <td>1.5</td>\n",
       "      <td>0.049888</td>\n",
       "      <td>0.355236</td>\n",
       "      <td>2.0</td>\n",
       "      <td>20.0</td>\n",
       "      <td>9.166305</td>\n",
       "    </tr>\n",
       "  </tbody>\n",
       "</table>\n",
       "<p>982 rows × 6 columns</p>\n",
       "</div>"
      ],
      "text/plain": [
       "      efficiency  vmeasure  coverage  particles  avg_energy  coms_dists\n",
       "99           1.0  0.163939  0.562266        2.0       350.0    9.564399\n",
       "100          1.0  0.127150  0.529139        2.0       350.0   10.894630\n",
       "101          1.5  0.076990  0.602499        2.0       350.0    6.120543\n",
       "102          1.0  0.167439  0.368071        2.0       350.0   11.438643\n",
       "103          0.5  0.008726  0.065573        2.0       350.0    0.556123\n",
       "...          ...       ...       ...        ...         ...         ...\n",
       "8415         1.5  0.069333  0.064241        2.0        20.0    9.522663\n",
       "8416         0.5  0.000286  0.012940        2.0        20.0    2.423641\n",
       "8417         1.5  0.040040  0.304618        2.0        20.0   12.494414\n",
       "8418         2.0  0.027227  0.668976        2.0        20.0    6.464932\n",
       "8486         1.5  0.049888  0.355236        2.0        20.0    9.166305\n",
       "\n",
       "[982 rows x 6 columns]"
      ]
     },
     "execution_count": 99,
     "metadata": {},
     "output_type": "execute_result"
    }
   ],
   "source": [
    "df_cnn[cnn_two]"
   ]
  },
  {
   "cell_type": "code",
   "execution_count": 3,
   "id": "da26e64d-288a-4961-9491-33b6d7701178",
   "metadata": {},
   "outputs": [],
   "source": [
    "from plotly.io import show"
   ]
  },
  {
   "cell_type": "code",
   "execution_count": 5,
   "id": "610b6f2f-f413-4685-8ee2-5eddbf0ab6cc",
   "metadata": {},
   "outputs": [
    {
     "name": "stdout",
     "output_type": "stream",
     "text": [
      "{'seed': 0.2, 'agg': 0.0, 'lr': 0.30884943833786427, 'momentum': 0.0525593791377537, 'epochs': 177}\n"
     ]
    },
    {
     "data": {
      "application/vnd.plotly.v1+json": {
       "config": {
        "plotlyServerURL": "https://plot.ly"
       },
       "data": [
        {
         "cliponaxis": false,
         "hovertemplate": [
          "agg (FloatDistribution): 0.0<extra></extra>",
          "seed (FloatDistribution): 0.0<extra></extra>",
          "momentum (FloatDistribution): 0.007214208476749647<extra></extra>",
          "epochs (IntDistribution): 0.1581926822357581<extra></extra>",
          "lr (FloatDistribution): 0.8345931092874922<extra></extra>"
         ],
         "name": "Objective Value",
         "orientation": "h",
         "text": [
          "<0.01",
          "<0.01",
          "<0.01",
          "0.16",
          "0.83"
         ],
         "textposition": "outside",
         "type": "bar",
         "x": [
          0,
          0,
          0.007214208476749647,
          0.1581926822357581,
          0.8345931092874922
         ],
         "y": [
          "agg",
          "seed",
          "momentum",
          "epochs",
          "lr"
         ]
        }
       ],
       "layout": {
        "template": {
         "data": {
          "bar": [
           {
            "error_x": {
             "color": "#2a3f5f"
            },
            "error_y": {
             "color": "#2a3f5f"
            },
            "marker": {
             "line": {
              "color": "#E5ECF6",
              "width": 0.5
             },
             "pattern": {
              "fillmode": "overlay",
              "size": 10,
              "solidity": 0.2
             }
            },
            "type": "bar"
           }
          ],
          "barpolar": [
           {
            "marker": {
             "line": {
              "color": "#E5ECF6",
              "width": 0.5
             },
             "pattern": {
              "fillmode": "overlay",
              "size": 10,
              "solidity": 0.2
             }
            },
            "type": "barpolar"
           }
          ],
          "carpet": [
           {
            "aaxis": {
             "endlinecolor": "#2a3f5f",
             "gridcolor": "white",
             "linecolor": "white",
             "minorgridcolor": "white",
             "startlinecolor": "#2a3f5f"
            },
            "baxis": {
             "endlinecolor": "#2a3f5f",
             "gridcolor": "white",
             "linecolor": "white",
             "minorgridcolor": "white",
             "startlinecolor": "#2a3f5f"
            },
            "type": "carpet"
           }
          ],
          "choropleth": [
           {
            "colorbar": {
             "outlinewidth": 0,
             "ticks": ""
            },
            "type": "choropleth"
           }
          ],
          "contour": [
           {
            "colorbar": {
             "outlinewidth": 0,
             "ticks": ""
            },
            "colorscale": [
             [
              0,
              "#0d0887"
             ],
             [
              0.1111111111111111,
              "#46039f"
             ],
             [
              0.2222222222222222,
              "#7201a8"
             ],
             [
              0.3333333333333333,
              "#9c179e"
             ],
             [
              0.4444444444444444,
              "#bd3786"
             ],
             [
              0.5555555555555556,
              "#d8576b"
             ],
             [
              0.6666666666666666,
              "#ed7953"
             ],
             [
              0.7777777777777778,
              "#fb9f3a"
             ],
             [
              0.8888888888888888,
              "#fdca26"
             ],
             [
              1,
              "#f0f921"
             ]
            ],
            "type": "contour"
           }
          ],
          "contourcarpet": [
           {
            "colorbar": {
             "outlinewidth": 0,
             "ticks": ""
            },
            "type": "contourcarpet"
           }
          ],
          "heatmap": [
           {
            "colorbar": {
             "outlinewidth": 0,
             "ticks": ""
            },
            "colorscale": [
             [
              0,
              "#0d0887"
             ],
             [
              0.1111111111111111,
              "#46039f"
             ],
             [
              0.2222222222222222,
              "#7201a8"
             ],
             [
              0.3333333333333333,
              "#9c179e"
             ],
             [
              0.4444444444444444,
              "#bd3786"
             ],
             [
              0.5555555555555556,
              "#d8576b"
             ],
             [
              0.6666666666666666,
              "#ed7953"
             ],
             [
              0.7777777777777778,
              "#fb9f3a"
             ],
             [
              0.8888888888888888,
              "#fdca26"
             ],
             [
              1,
              "#f0f921"
             ]
            ],
            "type": "heatmap"
           }
          ],
          "histogram": [
           {
            "marker": {
             "pattern": {
              "fillmode": "overlay",
              "size": 10,
              "solidity": 0.2
             }
            },
            "type": "histogram"
           }
          ],
          "histogram2d": [
           {
            "colorbar": {
             "outlinewidth": 0,
             "ticks": ""
            },
            "colorscale": [
             [
              0,
              "#0d0887"
             ],
             [
              0.1111111111111111,
              "#46039f"
             ],
             [
              0.2222222222222222,
              "#7201a8"
             ],
             [
              0.3333333333333333,
              "#9c179e"
             ],
             [
              0.4444444444444444,
              "#bd3786"
             ],
             [
              0.5555555555555556,
              "#d8576b"
             ],
             [
              0.6666666666666666,
              "#ed7953"
             ],
             [
              0.7777777777777778,
              "#fb9f3a"
             ],
             [
              0.8888888888888888,
              "#fdca26"
             ],
             [
              1,
              "#f0f921"
             ]
            ],
            "type": "histogram2d"
           }
          ],
          "histogram2dcontour": [
           {
            "colorbar": {
             "outlinewidth": 0,
             "ticks": ""
            },
            "colorscale": [
             [
              0,
              "#0d0887"
             ],
             [
              0.1111111111111111,
              "#46039f"
             ],
             [
              0.2222222222222222,
              "#7201a8"
             ],
             [
              0.3333333333333333,
              "#9c179e"
             ],
             [
              0.4444444444444444,
              "#bd3786"
             ],
             [
              0.5555555555555556,
              "#d8576b"
             ],
             [
              0.6666666666666666,
              "#ed7953"
             ],
             [
              0.7777777777777778,
              "#fb9f3a"
             ],
             [
              0.8888888888888888,
              "#fdca26"
             ],
             [
              1,
              "#f0f921"
             ]
            ],
            "type": "histogram2dcontour"
           }
          ],
          "mesh3d": [
           {
            "colorbar": {
             "outlinewidth": 0,
             "ticks": ""
            },
            "type": "mesh3d"
           }
          ],
          "parcoords": [
           {
            "line": {
             "colorbar": {
              "outlinewidth": 0,
              "ticks": ""
             }
            },
            "type": "parcoords"
           }
          ],
          "pie": [
           {
            "automargin": true,
            "type": "pie"
           }
          ],
          "scatter": [
           {
            "fillpattern": {
             "fillmode": "overlay",
             "size": 10,
             "solidity": 0.2
            },
            "type": "scatter"
           }
          ],
          "scatter3d": [
           {
            "line": {
             "colorbar": {
              "outlinewidth": 0,
              "ticks": ""
             }
            },
            "marker": {
             "colorbar": {
              "outlinewidth": 0,
              "ticks": ""
             }
            },
            "type": "scatter3d"
           }
          ],
          "scattercarpet": [
           {
            "marker": {
             "colorbar": {
              "outlinewidth": 0,
              "ticks": ""
             }
            },
            "type": "scattercarpet"
           }
          ],
          "scattergeo": [
           {
            "marker": {
             "colorbar": {
              "outlinewidth": 0,
              "ticks": ""
             }
            },
            "type": "scattergeo"
           }
          ],
          "scattergl": [
           {
            "marker": {
             "colorbar": {
              "outlinewidth": 0,
              "ticks": ""
             }
            },
            "type": "scattergl"
           }
          ],
          "scattermap": [
           {
            "marker": {
             "colorbar": {
              "outlinewidth": 0,
              "ticks": ""
             }
            },
            "type": "scattermap"
           }
          ],
          "scattermapbox": [
           {
            "marker": {
             "colorbar": {
              "outlinewidth": 0,
              "ticks": ""
             }
            },
            "type": "scattermapbox"
           }
          ],
          "scatterpolar": [
           {
            "marker": {
             "colorbar": {
              "outlinewidth": 0,
              "ticks": ""
             }
            },
            "type": "scatterpolar"
           }
          ],
          "scatterpolargl": [
           {
            "marker": {
             "colorbar": {
              "outlinewidth": 0,
              "ticks": ""
             }
            },
            "type": "scatterpolargl"
           }
          ],
          "scatterternary": [
           {
            "marker": {
             "colorbar": {
              "outlinewidth": 0,
              "ticks": ""
             }
            },
            "type": "scatterternary"
           }
          ],
          "surface": [
           {
            "colorbar": {
             "outlinewidth": 0,
             "ticks": ""
            },
            "colorscale": [
             [
              0,
              "#0d0887"
             ],
             [
              0.1111111111111111,
              "#46039f"
             ],
             [
              0.2222222222222222,
              "#7201a8"
             ],
             [
              0.3333333333333333,
              "#9c179e"
             ],
             [
              0.4444444444444444,
              "#bd3786"
             ],
             [
              0.5555555555555556,
              "#d8576b"
             ],
             [
              0.6666666666666666,
              "#ed7953"
             ],
             [
              0.7777777777777778,
              "#fb9f3a"
             ],
             [
              0.8888888888888888,
              "#fdca26"
             ],
             [
              1,
              "#f0f921"
             ]
            ],
            "type": "surface"
           }
          ],
          "table": [
           {
            "cells": {
             "fill": {
              "color": "#EBF0F8"
             },
             "line": {
              "color": "white"
             }
            },
            "header": {
             "fill": {
              "color": "#C8D4E3"
             },
             "line": {
              "color": "white"
             }
            },
            "type": "table"
           }
          ]
         },
         "layout": {
          "annotationdefaults": {
           "arrowcolor": "#2a3f5f",
           "arrowhead": 0,
           "arrowwidth": 1
          },
          "autotypenumbers": "strict",
          "coloraxis": {
           "colorbar": {
            "outlinewidth": 0,
            "ticks": ""
           }
          },
          "colorscale": {
           "diverging": [
            [
             0,
             "#8e0152"
            ],
            [
             0.1,
             "#c51b7d"
            ],
            [
             0.2,
             "#de77ae"
            ],
            [
             0.3,
             "#f1b6da"
            ],
            [
             0.4,
             "#fde0ef"
            ],
            [
             0.5,
             "#f7f7f7"
            ],
            [
             0.6,
             "#e6f5d0"
            ],
            [
             0.7,
             "#b8e186"
            ],
            [
             0.8,
             "#7fbc41"
            ],
            [
             0.9,
             "#4d9221"
            ],
            [
             1,
             "#276419"
            ]
           ],
           "sequential": [
            [
             0,
             "#0d0887"
            ],
            [
             0.1111111111111111,
             "#46039f"
            ],
            [
             0.2222222222222222,
             "#7201a8"
            ],
            [
             0.3333333333333333,
             "#9c179e"
            ],
            [
             0.4444444444444444,
             "#bd3786"
            ],
            [
             0.5555555555555556,
             "#d8576b"
            ],
            [
             0.6666666666666666,
             "#ed7953"
            ],
            [
             0.7777777777777778,
             "#fb9f3a"
            ],
            [
             0.8888888888888888,
             "#fdca26"
            ],
            [
             1,
             "#f0f921"
            ]
           ],
           "sequentialminus": [
            [
             0,
             "#0d0887"
            ],
            [
             0.1111111111111111,
             "#46039f"
            ],
            [
             0.2222222222222222,
             "#7201a8"
            ],
            [
             0.3333333333333333,
             "#9c179e"
            ],
            [
             0.4444444444444444,
             "#bd3786"
            ],
            [
             0.5555555555555556,
             "#d8576b"
            ],
            [
             0.6666666666666666,
             "#ed7953"
            ],
            [
             0.7777777777777778,
             "#fb9f3a"
            ],
            [
             0.8888888888888888,
             "#fdca26"
            ],
            [
             1,
             "#f0f921"
            ]
           ]
          },
          "colorway": [
           "#636efa",
           "#EF553B",
           "#00cc96",
           "#ab63fa",
           "#FFA15A",
           "#19d3f3",
           "#FF6692",
           "#B6E880",
           "#FF97FF",
           "#FECB52"
          ],
          "font": {
           "color": "#2a3f5f"
          },
          "geo": {
           "bgcolor": "white",
           "lakecolor": "white",
           "landcolor": "#E5ECF6",
           "showlakes": true,
           "showland": true,
           "subunitcolor": "white"
          },
          "hoverlabel": {
           "align": "left"
          },
          "hovermode": "closest",
          "mapbox": {
           "style": "light"
          },
          "paper_bgcolor": "white",
          "plot_bgcolor": "#E5ECF6",
          "polar": {
           "angularaxis": {
            "gridcolor": "white",
            "linecolor": "white",
            "ticks": ""
           },
           "bgcolor": "#E5ECF6",
           "radialaxis": {
            "gridcolor": "white",
            "linecolor": "white",
            "ticks": ""
           }
          },
          "scene": {
           "xaxis": {
            "backgroundcolor": "#E5ECF6",
            "gridcolor": "white",
            "gridwidth": 2,
            "linecolor": "white",
            "showbackground": true,
            "ticks": "",
            "zerolinecolor": "white"
           },
           "yaxis": {
            "backgroundcolor": "#E5ECF6",
            "gridcolor": "white",
            "gridwidth": 2,
            "linecolor": "white",
            "showbackground": true,
            "ticks": "",
            "zerolinecolor": "white"
           },
           "zaxis": {
            "backgroundcolor": "#E5ECF6",
            "gridcolor": "white",
            "gridwidth": 2,
            "linecolor": "white",
            "showbackground": true,
            "ticks": "",
            "zerolinecolor": "white"
           }
          },
          "shapedefaults": {
           "line": {
            "color": "#2a3f5f"
           }
          },
          "ternary": {
           "aaxis": {
            "gridcolor": "white",
            "linecolor": "white",
            "ticks": ""
           },
           "baxis": {
            "gridcolor": "white",
            "linecolor": "white",
            "ticks": ""
           },
           "bgcolor": "#E5ECF6",
           "caxis": {
            "gridcolor": "white",
            "linecolor": "white",
            "ticks": ""
           }
          },
          "title": {
           "x": 0.05
          },
          "xaxis": {
           "automargin": true,
           "gridcolor": "white",
           "linecolor": "white",
           "ticks": "",
           "title": {
            "standoff": 15
           },
           "zerolinecolor": "white",
           "zerolinewidth": 2
          },
          "yaxis": {
           "automargin": true,
           "gridcolor": "white",
           "linecolor": "white",
           "ticks": "",
           "title": {
            "standoff": 15
           },
           "zerolinecolor": "white",
           "zerolinewidth": 2
          }
         }
        },
        "title": {
         "text": "Hyperparameter Importances"
        },
        "xaxis": {
         "title": {
          "text": "Hyperparameter Importance"
         }
        },
        "yaxis": {
         "title": {
          "text": "Hyperparameter"
         }
        }
       }
      },
      "image/png": "[encoded data removed]"
     },
     "metadata": {},
     "output_type": "display_data"
    }
   ],
   "source": [
    "print(cnn_eval[\"study\"][\"study\"].best_params)\n",
    "fig = optuna.visualization.plot_param_importances(cnn_eval[\"study\"][\"study\"])\n",
    "show(fig)"
   ]
  },
  {
   "cell_type": "code",
   "execution_count": 10,
   "id": "5e898577-8ecd-4032-87cb-fb22786411ed",
   "metadata": {},
   "outputs": [
    {
     "data": {
      "application/vnd.plotly.v1+json": {
       "config": {
        "plotlyServerURL": "https://plot.ly"
       },
       "data": [
        {
         "mode": "markers",
         "name": "Objective Value",
         "type": "scatter",
         "x": [
          0,
          1,
          2,
          3,
          4,
          5,
          6,
          7,
          8,
          9,
          10,
          11,
          12,
          13,
          14,
          15,
          16,
          17,
          18,
          19,
          20,
          21,
          22,
          23,
          24,
          25,
          26,
          27,
          28,
          29,
          30,
          31,
          32,
          33,
          34,
          35,
          36,
          37,
          38,
          39,
          40,
          41,
          42,
          43,
          44,
          45,
          46,
          47,
          48,
          49,
          50,
          51,
          52,
          53,
          54,
          55,
          56,
          57,
          58,
          59,
          60,
          61,
          62,
          63,
          64,
          65,
          66,
          67,
          68,
          69,
          70,
          71,
          72,
          73,
          74,
          75,
          76,
          77,
          78,
          79,
          80,
          81,
          82,
          83,
          84,
          85,
          86,
          87,
          88,
          89,
          90,
          91,
          92,
          93,
          94,
          95,
          96,
          97,
          98,
          99
         ],
         "y": [
          0.0034027777777777793,
          0.0004938271604938237,
          0.014266975308641927,
          0.0025000000000000044,
          0.0009336419753086353,
          0.006049382716049409,
          0.004081790123456789,
          0.0015123456790123349,
          0.0034027777777777793,
          0.0002777777777777795,
          0.0011111111111111107,
          0.00019290123456790296,
          759.3851871141975,
          0.0002777777777777795,
          0.004444444444444443,
          0.005216049382716076,
          6.944444444444396e-05,
          3.0864197530865215e-05,
          0.00012345679012345593,
          0.0027854938271604976,
          0.0003780864197530837,
          0.0006250000000000011,
          0.0006249999999999956,
          7.716049382715995e-06,
          0.00012345679012345593,
          0.00019290123456790296,
          0.001736111111111108,
          0.0037345679012345413,
          0.00012345679012345593,
          0.0006250000000000011,
          0.004444444444444443,
          7.716049382715995e-06,
          0.00012345679012345593,
          0.0004938271604938237,
          0.0022299382716049225,
          0.0004938271604938237,
          0.0019753086419753143,
          0.0002777777777777795,
          7.716049382715995e-06,
          646.4306250000001,
          0.0004938271604938286,
          0.00012345679012345097,
          6.944444444444396e-05,
          0.00012345679012345097,
          0.001111111111111118,
          28.016437114197537,
          3.0864197530865215e-05,
          0.0004938271604938286,
          0.0006250000000000066,
          0,
          0.003734567901234582,
          0.0002777777777777832,
          0.0004938271604938286,
          3.086419753086398e-05,
          0.0002777777777777758,
          0.0004938271604938237,
          7.716049382716612e-06,
          0.0006250000000000011,
          0.001111111111111118,
          0.00012345679012345593,
          3.0864197530865215e-05,
          0.0004938271604938237,
          0.0004938271604938237,
          0.00012345679012345593,
          3.0864197530865215e-05,
          7.71604938271476e-06,
          6.944444444444396e-05,
          0.00037808641975308805,
          0.0015123456790123522,
          0.0017361111111111173,
          0.0009336419753086353,
          0.0022299382716049433,
          0.0007716049382716118,
          0.00037808641975308805,
          6.944444444444396e-05,
          6.944444444444396e-05,
          0.0007716049382716118,
          0.0003780864197530837,
          0.0002777777777777758,
          0.0034027777777777793,
          566.0434027777778,
          0.0004938271604938286,
          0.00012345679012345097,
          6.944444444444396e-05,
          0.0004938271604938237,
          0.0007716049382716057,
          6.944444444444396e-05,
          0.0025000000000000044,
          0.0006250000000000011,
          0.0002777777777777795,
          0.0002777777777777795,
          7.716049382716612e-06,
          0.00019290123456789987,
          0.0034027777777777793,
          0.00037808641975308805,
          0.001111111111111118,
          0.0004938271604938336,
          0.00012345679012345593,
          6.944444444444396e-05,
          0.0004938271604938286
         ]
        },
        {
         "mode": "lines",
         "name": "Best Value",
         "type": "scatter",
         "x": [
          0,
          1,
          2,
          3,
          4,
          5,
          6,
          7,
          8,
          9,
          10,
          11,
          12,
          13,
          14,
          15,
          16,
          17,
          18,
          19,
          20,
          21,
          22,
          23,
          24,
          25,
          26,
          27,
          28,
          29,
          30,
          31,
          32,
          33,
          34,
          35,
          36,
          37,
          38,
          39,
          40,
          41,
          42,
          43,
          44,
          45,
          46,
          47,
          48,
          49,
          50,
          51,
          52,
          53,
          54,
          55,
          56,
          57,
          58,
          59,
          60,
          61,
          62,
          63,
          64,
          65,
          66,
          67,
          68,
          69,
          70,
          71,
          72,
          73,
          74,
          75,
          76,
          77,
          78,
          79,
          80,
          81,
          82,
          83,
          84,
          85,
          86,
          87,
          88,
          89,
          90,
          91,
          92,
          93,
          94,
          95,
          96,
          97,
          98,
          99
         ],
         "y": [
          0.0034027777777777793,
          0.0004938271604938237,
          0.0004938271604938237,
          0.0004938271604938237,
          0.0004938271604938237,
          0.0004938271604938237,
          0.0004938271604938237,
          0.0004938271604938237,
          0.0004938271604938237,
          0.0002777777777777795,
          0.0002777777777777795,
          0.00019290123456790296,
          0.00019290123456790296,
          0.00019290123456790296,
          0.00019290123456790296,
          0.00019290123456790296,
          6.944444444444396e-05,
          3.0864197530865215e-05,
          3.0864197530865215e-05,
          3.0864197530865215e-05,
          3.0864197530865215e-05,
          3.0864197530865215e-05,
          3.0864197530865215e-05,
          7.716049382715995e-06,
          7.716049382715995e-06,
          7.716049382715995e-06,
          7.716049382715995e-06,
          7.716049382715995e-06,
          7.716049382715995e-06,
          7.716049382715995e-06,
          7.716049382715995e-06,
          7.716049382715995e-06,
          7.716049382715995e-06,
          7.716049382715995e-06,
          7.716049382715995e-06,
          7.716049382715995e-06,
          7.716049382715995e-06,
          7.716049382715995e-06,
          7.716049382715995e-06,
          7.716049382715995e-06,
          7.716049382715995e-06,
          7.716049382715995e-06,
          7.716049382715995e-06,
          7.716049382715995e-06,
          7.716049382715995e-06,
          7.716049382715995e-06,
          7.716049382715995e-06,
          7.716049382715995e-06,
          7.716049382715995e-06,
          0,
          0,
          0,
          0,
          0,
          0,
          0,
          0,
          0,
          0,
          0,
          0,
          0,
          0,
          0,
          0,
          0,
          0,
          0,
          0,
          0,
          0,
          0,
          0,
          0,
          0,
          0,
          0,
          0,
          0,
          0,
          0,
          0,
          0,
          0,
          0,
          0,
          0,
          0,
          0,
          0,
          0,
          0,
          0,
          0,
          0,
          0,
          0,
          0,
          0,
          0
         ]
        },
        {
         "marker": {
          "color": "#cccccc"
         },
         "mode": "markers",
         "name": "Infeasible Trial",
         "showlegend": false,
         "type": "scatter",
         "x": [],
         "y": []
        }
       ],
       "layout": {
        "template": {
         "data": {
          "bar": [
           {
            "error_x": {
             "color": "#2a3f5f"
            },
            "error_y": {
             "color": "#2a3f5f"
            },
            "marker": {
             "line": {
              "color": "#E5ECF6",
              "width": 0.5
             },
             "pattern": {
              "fillmode": "overlay",
              "size": 10,
              "solidity": 0.2
             }
            },
            "type": "bar"
           }
          ],
          "barpolar": [
           {
            "marker": {
             "line": {
              "color": "#E5ECF6",
              "width": 0.5
             },
             "pattern": {
              "fillmode": "overlay",
              "size": 10,
              "solidity": 0.2
             }
            },
            "type": "barpolar"
           }
          ],
          "carpet": [
           {
            "aaxis": {
             "endlinecolor": "#2a3f5f",
             "gridcolor": "white",
             "linecolor": "white",
             "minorgridcolor": "white",
             "startlinecolor": "#2a3f5f"
            },
            "baxis": {
             "endlinecolor": "#2a3f5f",
             "gridcolor": "white",
             "linecolor": "white",
             "minorgridcolor": "white",
             "startlinecolor": "#2a3f5f"
            },
            "type": "carpet"
           }
          ],
          "choropleth": [
           {
            "colorbar": {
             "outlinewidth": 0,
             "ticks": ""
            },
            "type": "choropleth"
           }
          ],
          "contour": [
           {
            "colorbar": {
             "outlinewidth": 0,
             "ticks": ""
            },
            "colorscale": [
             [
              0,
              "#0d0887"
             ],
             [
              0.1111111111111111,
              "#46039f"
             ],
             [
              0.2222222222222222,
              "#7201a8"
             ],
             [
              0.3333333333333333,
              "#9c179e"
             ],
             [
              0.4444444444444444,
              "#bd3786"
             ],
             [
              0.5555555555555556,
              "#d8576b"
             ],
             [
              0.6666666666666666,
              "#ed7953"
             ],
             [
              0.7777777777777778,
              "#fb9f3a"
             ],
             [
              0.8888888888888888,
              "#fdca26"
             ],
             [
              1,
              "#f0f921"
             ]
            ],
            "type": "contour"
           }
          ],
          "contourcarpet": [
           {
            "colorbar": {
             "outlinewidth": 0,
             "ticks": ""
            },
            "type": "contourcarpet"
           }
          ],
          "heatmap": [
           {
            "colorbar": {
             "outlinewidth": 0,
             "ticks": ""
            },
            "colorscale": [
             [
              0,
              "#0d0887"
             ],
             [
              0.1111111111111111,
              "#46039f"
             ],
             [
              0.2222222222222222,
              "#7201a8"
             ],
             [
              0.3333333333333333,
              "#9c179e"
             ],
             [
              0.4444444444444444,
              "#bd3786"
             ],
             [
              0.5555555555555556,
              "#d8576b"
             ],
             [
              0.6666666666666666,
              "#ed7953"
             ],
             [
              0.7777777777777778,
              "#fb9f3a"
             ],
             [
              0.8888888888888888,
              "#fdca26"
             ],
             [
              1,
              "#f0f921"
             ]
            ],
            "type": "heatmap"
           }
          ],
          "histogram": [
           {
            "marker": {
             "pattern": {
              "fillmode": "overlay",
              "size": 10,
              "solidity": 0.2
             }
            },
            "type": "histogram"
           }
          ],
          "histogram2d": [
           {
            "colorbar": {
             "outlinewidth": 0,
             "ticks": ""
            },
            "colorscale": [
             [
              0,
              "#0d0887"
             ],
             [
              0.1111111111111111,
              "#46039f"
             ],
             [
              0.2222222222222222,
              "#7201a8"
             ],
             [
              0.3333333333333333,
              "#9c179e"
             ],
             [
              0.4444444444444444,
              "#bd3786"
             ],
             [
              0.5555555555555556,
              "#d8576b"
             ],
             [
              0.6666666666666666,
              "#ed7953"
             ],
             [
              0.7777777777777778,
              "#fb9f3a"
             ],
             [
              0.8888888888888888,
              "#fdca26"
             ],
             [
              1,
              "#f0f921"
             ]
            ],
            "type": "histogram2d"
           }
          ],
          "histogram2dcontour": [
           {
            "colorbar": {
             "outlinewidth": 0,
             "ticks": ""
            },
            "colorscale": [
             [
              0,
              "#0d0887"
             ],
             [
              0.1111111111111111,
              "#46039f"
             ],
             [
              0.2222222222222222,
              "#7201a8"
             ],
             [
              0.3333333333333333,
              "#9c179e"
             ],
             [
              0.4444444444444444,
              "#bd3786"
             ],
             [
              0.5555555555555556,
              "#d8576b"
             ],
             [
              0.6666666666666666,
              "#ed7953"
             ],
             [
              0.7777777777777778,
              "#fb9f3a"
             ],
             [
              0.8888888888888888,
              "#fdca26"
             ],
             [
              1,
              "#f0f921"
             ]
            ],
            "type": "histogram2dcontour"
           }
          ],
          "mesh3d": [
           {
            "colorbar": {
             "outlinewidth": 0,
             "ticks": ""
            },
            "type": "mesh3d"
           }
          ],
          "parcoords": [
           {
            "line": {
             "colorbar": {
              "outlinewidth": 0,
              "ticks": ""
             }
            },
            "type": "parcoords"
           }
          ],
          "pie": [
           {
            "automargin": true,
            "type": "pie"
           }
          ],
          "scatter": [
           {
            "fillpattern": {
             "fillmode": "overlay",
             "size": 10,
             "solidity": 0.2
            },
            "type": "scatter"
           }
          ],
          "scatter3d": [
           {
            "line": {
             "colorbar": {
              "outlinewidth": 0,
              "ticks": ""
             }
            },
            "marker": {
             "colorbar": {
              "outlinewidth": 0,
              "ticks": ""
             }
            },
            "type": "scatter3d"
           }
          ],
          "scattercarpet": [
           {
            "marker": {
             "colorbar": {
              "outlinewidth": 0,
              "ticks": ""
             }
            },
            "type": "scattercarpet"
           }
          ],
          "scattergeo": [
           {
            "marker": {
             "colorbar": {
              "outlinewidth": 0,
              "ticks": ""
             }
            },
            "type": "scattergeo"
           }
          ],
          "scattergl": [
           {
            "marker": {
             "colorbar": {
              "outlinewidth": 0,
              "ticks": ""
             }
            },
            "type": "scattergl"
           }
          ],
          "scattermap": [
           {
            "marker": {
             "colorbar": {
              "outlinewidth": 0,
              "ticks": ""
             }
            },
            "type": "scattermap"
           }
          ],
          "scattermapbox": [
           {
            "marker": {
             "colorbar": {
              "outlinewidth": 0,
              "ticks": ""
             }
            },
            "type": "scattermapbox"
           }
          ],
          "scatterpolar": [
           {
            "marker": {
             "colorbar": {
              "outlinewidth": 0,
              "ticks": ""
             }
            },
            "type": "scatterpolar"
           }
          ],
          "scatterpolargl": [
           {
            "marker": {
             "colorbar": {
              "outlinewidth": 0,
              "ticks": ""
             }
            },
            "type": "scatterpolargl"
           }
          ],
          "scatterternary": [
           {
            "marker": {
             "colorbar": {
              "outlinewidth": 0,
              "ticks": ""
             }
            },
            "type": "scatterternary"
           }
          ],
          "surface": [
           {
            "colorbar": {
             "outlinewidth": 0,
             "ticks": ""
            },
            "colorscale": [
             [
              0,
              "#0d0887"
             ],
             [
              0.1111111111111111,
              "#46039f"
             ],
             [
              0.2222222222222222,
              "#7201a8"
             ],
             [
              0.3333333333333333,
              "#9c179e"
             ],
             [
              0.4444444444444444,
              "#bd3786"
             ],
             [
              0.5555555555555556,
              "#d8576b"
             ],
             [
              0.6666666666666666,
              "#ed7953"
             ],
             [
              0.7777777777777778,
              "#fb9f3a"
             ],
             [
              0.8888888888888888,
              "#fdca26"
             ],
             [
              1,
              "#f0f921"
             ]
            ],
            "type": "surface"
           }
          ],
          "table": [
           {
            "cells": {
             "fill": {
              "color": "#EBF0F8"
             },
             "line": {
              "color": "white"
             }
            },
            "header": {
             "fill": {
              "color": "#C8D4E3"
             },
             "line": {
              "color": "white"
             }
            },
            "type": "table"
           }
          ]
         },
         "layout": {
          "annotationdefaults": {
           "arrowcolor": "#2a3f5f",
           "arrowhead": 0,
           "arrowwidth": 1
          },
          "autotypenumbers": "strict",
          "coloraxis": {
           "colorbar": {
            "outlinewidth": 0,
            "ticks": ""
           }
          },
          "colorscale": {
           "diverging": [
            [
             0,
             "#8e0152"
            ],
            [
             0.1,
             "#c51b7d"
            ],
            [
             0.2,
             "#de77ae"
            ],
            [
             0.3,
             "#f1b6da"
            ],
            [
             0.4,
             "#fde0ef"
            ],
            [
             0.5,
             "#f7f7f7"
            ],
            [
             0.6,
             "#e6f5d0"
            ],
            [
             0.7,
             "#b8e186"
            ],
            [
             0.8,
             "#7fbc41"
            ],
            [
             0.9,
             "#4d9221"
            ],
            [
             1,
             "#276419"
            ]
           ],
           "sequential": [
            [
             0,
             "#0d0887"
            ],
            [
             0.1111111111111111,
             "#46039f"
            ],
            [
             0.2222222222222222,
             "#7201a8"
            ],
            [
             0.3333333333333333,
             "#9c179e"
            ],
            [
             0.4444444444444444,
             "#bd3786"
            ],
            [
             0.5555555555555556,
             "#d8576b"
            ],
            [
             0.6666666666666666,
             "#ed7953"
            ],
            [
             0.7777777777777778,
             "#fb9f3a"
            ],
            [
             0.8888888888888888,
             "#fdca26"
            ],
            [
             1,
             "#f0f921"
            ]
           ],
           "sequentialminus": [
            [
             0,
             "#0d0887"
            ],
            [
             0.1111111111111111,
             "#46039f"
            ],
            [
             0.2222222222222222,
             "#7201a8"
            ],
            [
             0.3333333333333333,
             "#9c179e"
            ],
            [
             0.4444444444444444,
             "#bd3786"
            ],
            [
             0.5555555555555556,
             "#d8576b"
            ],
            [
             0.6666666666666666,
             "#ed7953"
            ],
            [
             0.7777777777777778,
             "#fb9f3a"
            ],
            [
             0.8888888888888888,
             "#fdca26"
            ],
            [
             1,
             "#f0f921"
            ]
           ]
          },
          "colorway": [
           "#636efa",
           "#EF553B",
           "#00cc96",
           "#ab63fa",
           "#FFA15A",
           "#19d3f3",
           "#FF6692",
           "#B6E880",
           "#FF97FF",
           "#FECB52"
          ],
          "font": {
           "color": "#2a3f5f"
          },
          "geo": {
           "bgcolor": "white",
           "lakecolor": "white",
           "landcolor": "#E5ECF6",
           "showlakes": true,
           "showland": true,
           "subunitcolor": "white"
          },
          "hoverlabel": {
           "align": "left"
          },
          "hovermode": "closest",
          "mapbox": {
           "style": "light"
          },
          "paper_bgcolor": "white",
          "plot_bgcolor": "#E5ECF6",
          "polar": {
           "angularaxis": {
            "gridcolor": "white",
            "linecolor": "white",
            "ticks": ""
           },
           "bgcolor": "#E5ECF6",
           "radialaxis": {
            "gridcolor": "white",
            "linecolor": "white",
            "ticks": ""
           }
          },
          "scene": {
           "xaxis": {
            "backgroundcolor": "#E5ECF6",
            "gridcolor": "white",
            "gridwidth": 2,
            "linecolor": "white",
            "showbackground": true,
            "ticks": "",
            "zerolinecolor": "white"
           },
           "yaxis": {
            "backgroundcolor": "#E5ECF6",
            "gridcolor": "white",
            "gridwidth": 2,
            "linecolor": "white",
            "showbackground": true,
            "ticks": "",
            "zerolinecolor": "white"
           },
           "zaxis": {
            "backgroundcolor": "#E5ECF6",
            "gridcolor": "white",
            "gridwidth": 2,
            "linecolor": "white",
            "showbackground": true,
            "ticks": "",
            "zerolinecolor": "white"
           }
          },
          "shapedefaults": {
           "line": {
            "color": "#2a3f5f"
           }
          },
          "ternary": {
           "aaxis": {
            "gridcolor": "white",
            "linecolor": "white",
            "ticks": ""
           },
           "baxis": {
            "gridcolor": "white",
            "linecolor": "white",
            "ticks": ""
           },
           "bgcolor": "#E5ECF6",
           "caxis": {
            "gridcolor": "white",
            "linecolor": "white",
            "ticks": ""
           }
          },
          "title": {
           "x": 0.05
          },
          "xaxis": {
           "automargin": true,
           "gridcolor": "white",
           "linecolor": "white",
           "ticks": "",
           "title": {
            "standoff": 15
           },
           "zerolinecolor": "white",
           "zerolinewidth": 2
          },
          "yaxis": {
           "automargin": true,
           "gridcolor": "white",
           "linecolor": "white",
           "ticks": "",
           "title": {
            "standoff": 15
           },
           "zerolinecolor": "white",
           "zerolinewidth": 2
          }
         }
        },
        "title": {
         "text": "Optimization History Plot"
        },
        "xaxis": {
         "title": {
          "text": "Trial"
         }
        },
        "yaxis": {
         "title": {
          "text": "Objective Value"
         }
        }
       }
      },
      "image/png": "[encoded data removed]"
     },
     "metadata": {},
     "output_type": "display_data"
    }
   ],
   "source": [
    "fig = optuna.visualization.plot_optimization_history(cnn_eval[\"study\"][\"study\"])\n",
    "show(fig)"
   ]
  }
 ],
 "metadata": {
  "kernelspec": {
   "display_name": "Python 3 (ipykernel)",
   "language": "python",
   "name": "python3"
  },
  "language_info": {
   "codemirror_mode": {
    "name": "ipython",
    "version": 3
   },
   "file_extension": ".py",
   "mimetype": "text/x-python",
   "name": "python",
   "nbconvert_exporter": "python",
   "pygments_lexer": "ipython3",
   "version": "3.12.8"
  }
 },
 "nbformat": 4,
 "nbformat_minor": 5
}
