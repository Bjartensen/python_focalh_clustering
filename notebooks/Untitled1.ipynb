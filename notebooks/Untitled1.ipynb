{
 "cells": [
  {
   "cell_type": "code",
   "execution_count": 53,
   "id": "c690957f-3d50-4126-a594-6221c85701f4",
   "metadata": {},
   "outputs": [],
   "source": [
    "import optuna\n",
    "from optuna.importance import get_param_importances\n",
    "import pickle\n",
    "import torch\n",
    "import os\n",
    "import copy\n",
    "os.chdir('/home/bjartur/workspace/python_focalh_clustering/') # Laptop and Desktop\n",
    "\n",
    "\n",
    "import sys\n",
    "import ROOT\n",
    "import numpy as np\n",
    "import matplotlib.pyplot as plt\n",
    "import yaml\n",
    "import pandas as pd\n",
    "from matplotlib.ticker import MultipleLocator\n",
    "from scipy.optimize import linear_sum_assignment\n",
    "from lib.misc_util import open_bundle\n",
    "\n",
    "\n",
    "# Add the root folder to Python path\n",
    "root_folder = os.path.abspath(os.path.join(os.getcwd(), \"..\"))\n",
    "if root_folder not in sys.path:\n",
    "    sys.path.append(root_folder)\n",
    "\n",
    "import lib.unet_nn as UNet\n",
    "import lib.modified_aggregation as MA\n",
    "from lib.modified_aggregation_clusterer import ModifiedAggregationClusterer\n",
    "from lib.unet_clusterer import UNetClusterer\n",
    "from lib.focal import FocalH\n",
    "from lib.base_nn import Data\n",
    "from lib import metrics# import count_clusters, count_labels, compute_score, total, separation_efficiency\n",
    "\n"
   ]
  },
  {
   "cell_type": "markdown",
   "id": "bdeff375-7e80-47d3-bfb8-c7b5a4d160e1",
   "metadata": {},
   "source": [
    "# Explore resolved and separation function"
   ]
  },
  {
   "cell_type": "code",
   "execution_count": 83,
   "id": "3732670d-cb0c-410e-b647-c7ba31215af3",
   "metadata": {},
   "outputs": [],
   "source": [
    "filename = \"/home/bjartur/workspace/python_focalh_clustering/data/eval/EVAL_E350_P5_N100.root\"\n",
    "tfile = ROOT.TFile(filename, \"READ\")\n",
    "ttree = tfile.Get(\"EventsTree\")\n",
    "event = 61\n",
    "ttree.GetEntry(event)\n",
    "\n",
    "ma_study = open_bundle(\"studies/best/ma/\"+\"study_ma_train_tiny_sep_100.pkl\")\n",
    "clus = ModifiedAggregationClusterer()\n",
    "d = clus.cluster_debug(filename, ttree, event, ma_study[\"method\"], ma_study[\"study\"].best_params)\n"
   ]
  },
  {
   "cell_type": "code",
   "execution_count": 101,
   "id": "bb8ede9e-f606-4374-a085-6a20b2b97b3c",
   "metadata": {},
   "outputs": [
    {
     "data": {
      "text/plain": [
       "(array([[4., 7.]]),\n",
       " [array([[ 43845.,  47473.],\n",
       "         [ 75579.,  71000.],\n",
       "         [112924., 115007.],\n",
       "         [ 11154.,   7323.],\n",
       "         [ 87402.,  61121.]])])"
      ]
     },
     "execution_count": 101,
     "metadata": {},
     "output_type": "execute_result"
    }
   ],
   "source": [
    "from importlib import reload\n",
    "reload(metrics)\n",
    "\n",
    "metrics.separation_efficiency([d[\"tags\"]], [d[\"labels\"]], [d[\"values\"]], [d[\"energy\"]])"
   ]
  },
  {
   "cell_type": "code",
   "execution_count": 95,
   "id": "e7018aea-47e5-4eec-9d79-225dc621cf6f",
   "metadata": {},
   "outputs": [
    {
     "name": "stdout",
     "output_type": "stream",
     "text": [
      "Energy: 350.0, label: 1, sum: 43845.0\n",
      "Energy: 350.0, label: 2, sum: 75579.0\n",
      "Energy: 350.0, label: 3, sum: 112924.0\n",
      "Energy: 350.0, label: 4, sum: 11154.0\n",
      "Energy: 350.0, label: 5, sum: 87402.0\n"
     ]
    }
   ],
   "source": [
    "for i,e in enumerate(d[\"energy\"]):\n",
    "    mask = d[\"labels\"] == i+1\n",
    "    print(f\"Energy: {e}, label: {i+1}, sum: {d[\"values\"][mask].sum()}\")"
   ]
  },
  {
   "cell_type": "code",
   "execution_count": 86,
   "id": "28e5808e-b3c2-4ac7-9cf2-61a78e085f1f",
   "metadata": {},
   "outputs": [
    {
     "data": {
      "image/png": "[encoded data removed]",
      "text/plain": [
       "<Figure size 1000x200 with 5 Axes>"
      ]
     },
     "metadata": {},
     "output_type": "display_data"
    }
   ],
   "source": [
    "\n",
    "\n",
    "fig,ax = plt.subplots(ncols=5, figsize=(10,2))\n",
    "foc = FocalH()\n",
    "for i in range(5):\n",
    "    mask = d[\"labels\"] != i+1\n",
    "    #ax[i].scatter(d[\"x\"][mask], d[\"y\"][mask], marker=\".\")\n",
    "    vals = copy.deepcopy(d[\"values\"])\n",
    "    labels = copy.deepcopy(d[\"labels\"])\n",
    "#    vals[mask] = 0\n",
    "    labels[mask] = 0\n",
    "    foc.heatmap(vals, labels, ax[i])\n",
    "    ax[i].set_title(f\"{i+1}\")\n"
   ]
  },
  {
   "cell_type": "code",
   "execution_count": null,
   "id": "3462bb3d-dae4-4894-b5aa-7af7657fdbaa",
   "metadata": {},
   "outputs": [],
   "source": []
  },
  {
   "cell_type": "code",
   "execution_count": null,
   "id": "a248a2f6-3a3a-47b3-8661-8009b93de373",
   "metadata": {},
   "outputs": [],
   "source": []
  }
 ],
 "metadata": {
  "kernelspec": {
   "display_name": "Python 3 (ipykernel)",
   "language": "python",
   "name": "python3"
  },
  "language_info": {
   "codemirror_mode": {
    "name": "ipython",
    "version": 3
   },
   "file_extension": ".py",
   "mimetype": "text/x-python",
   "name": "python",
   "nbconvert_exporter": "python",
   "pygments_lexer": "ipython3",
   "version": "3.12.8"
  }
 },
 "nbformat": 4,
 "nbformat_minor": 5
}
